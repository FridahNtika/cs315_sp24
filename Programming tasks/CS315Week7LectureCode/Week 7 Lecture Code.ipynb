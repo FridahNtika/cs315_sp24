{
 "cells": [
  {
   "cell_type": "markdown",
   "id": "c975a0c6-bdfb-4756-b87e-ca68a05f5336",
   "metadata": {},
   "source": [
    "# Week 7 Lecture Code: Word Embeddings / Clustering / tSNE visualization\n",
    "\n",
    "**March 2024**\n",
    "\n",
    "This is code that was discussed in the class notes for the two lectures in Week 7.\n",
    "\n",
    "**Table of Content**\n",
    "\n",
    "1. [Installing packages](#sec1)\n",
    "2. [Generating Word Embeddings and heatmaps for cosine similarity](#sec2)\n",
    "3. [K-means clustering with word embeddings](#sec3)\n",
    "4. [Using the Elbow method to find the best k for k-means](#sec4)\n",
    "5. [t-SNE visualization](#sec5)"
   ]
  },
  {
   "cell_type": "markdown",
   "id": "b15700c2-2db5-4123-adbf-87755d31dd4c",
   "metadata": {},
   "source": [
    "<a id=\"sec1\"></a>\n",
    "## 1. Installing Packages\n",
    "\n",
    "This notebook contains several packages that we are using for the first time. Additionally, we might need to use these packages for the project too, thus, it's good if we install them within the virtual environment of the project.  \n",
    "\n",
    "However, if we install the packages within Jupyter, they are installed in our system-wide Python installation. We need to take some extra steps to ensure that the new packages are installed for our project-specific virtual environment. Here is what you need to do:\n",
    "\n",
    "1. Make sure that you have created the virtual environment for Project 2 (about collecting data with PykTok). You can find the instructions under Week 7 Programming Activities.\n",
    "2. Open a terminal window, navigate to the folder where you created your virtual environment, and then type `source .project2/bin/activate`.\n",
    "3. Install the following package: `pip install ipykernel`, to manage virtual environments within Jupyter notebooks.\n",
    "4. Register our virtual environment with Jupyter: `python -m ipykernel install --user --name=.project2 --display-name=\"CS315 Project2`\n",
    "5. At this point close this notebook and then restart it again.\n",
    "6. When you reopen the notebook, find the button \"Python 3 (ipykernel)\" on the top right corner. Click on it, you should see the following dialog, where you should select our virtual environment that we gave the display name CS315 Project2: ![Screenshot: Kernel selection](https://cs.wellesley.edu/~eni/cs315/choose-kernel.png)\n",
    "7. Before moving on, run the cell below, just to make sure that you are really running the virtual environment."
   ]
  },
  {
   "cell_type": "code",
   "execution_count": 1,
   "id": "2b598aa2-6f7b-4bda-a206-92738cb72868",
   "metadata": {},
   "outputs": [
    {
     "name": "stdout",
     "output_type": "stream",
     "text": [
      "/Users/fridahntika/Documents/CS315/Project 2/cs315project2datacollection/.project2/bin/python\n"
     ]
    }
   ],
   "source": [
    "import sys\n",
    "print(sys.executable)"
   ]
  },
  {
   "cell_type": "markdown",
   "id": "8cb68a5c-ab89-4854-b330-07b3566fcf4a",
   "metadata": {},
   "source": [
    "If all the prior steps were successful, you should be able to see something similar to the path below, including `.project2/bin/python`\n",
    "![Screenshot: Path](https://cs.wellesley.edu/~eni/cs315/path-confirmation.png)"
   ]
  },
  {
   "cell_type": "markdown",
   "id": "5f6bfb92-281f-489e-93c4-10412413f213",
   "metadata": {},
   "source": [
    "Now you are ready to continue with the following installations for libraries used in this notebook:"
   ]
  },
  {
   "cell_type": "code",
   "execution_count": 2,
   "id": "dd5f3054-6cc6-4f72-94d6-6b83014b1069",
   "metadata": {},
   "outputs": [
    {
     "name": "stdout",
     "output_type": "stream",
     "text": [
      "Collecting tensorflow\n",
      "  Obtaining dependency information for tensorflow from https://files.pythonhosted.org/packages/f9/14/67e9b2b2379cb530c0412123a674d045eca387dfcfa7db1c0028857b0a66/tensorflow-2.16.1-cp311-cp311-macosx_12_0_arm64.whl.metadata\n",
      "  Using cached tensorflow-2.16.1-cp311-cp311-macosx_12_0_arm64.whl.metadata (4.1 kB)\n",
      "Collecting tensorflow_hub\n",
      "  Obtaining dependency information for tensorflow_hub from https://files.pythonhosted.org/packages/e5/50/00dba77925bf2a0a1e45d7bcf8a69a1d2534fb4bb277d9010bd148d2235e/tensorflow_hub-0.16.1-py2.py3-none-any.whl.metadata\n",
      "  Using cached tensorflow_hub-0.16.1-py2.py3-none-any.whl.metadata (1.3 kB)\n",
      "Collecting scikit-learn\n",
      "  Obtaining dependency information for scikit-learn from https://files.pythonhosted.org/packages/18/ff/919087b9aa5318c3992def31b74e019eee39c57ff6bf140289041df3db86/scikit_learn-1.4.1.post1-cp311-cp311-macosx_12_0_arm64.whl.metadata\n",
      "  Using cached scikit_learn-1.4.1.post1-cp311-cp311-macosx_12_0_arm64.whl.metadata (11 kB)\n",
      "Collecting seaborn\n",
      "  Obtaining dependency information for seaborn from https://files.pythonhosted.org/packages/83/11/00d3c3dfc25ad54e731d91449895a79e4bf2384dc3ac01809010ba88f6d5/seaborn-0.13.2-py3-none-any.whl.metadata\n",
      "  Using cached seaborn-0.13.2-py3-none-any.whl.metadata (5.4 kB)\n",
      "Collecting plotly\n",
      "  Obtaining dependency information for plotly from https://files.pythonhosted.org/packages/00/4e/6258fc3b26f1f7abd1b2e75b1e9e4f12f13584136e2e1549f995ff4c6b7b/plotly-5.20.0-py3-none-any.whl.metadata\n",
      "  Downloading plotly-5.20.0-py3-none-any.whl.metadata (7.0 kB)\n",
      "Collecting nbformat\n",
      "  Obtaining dependency information for nbformat from https://files.pythonhosted.org/packages/b0/4c/20b6c8b6d7cc17b0481eb49c18f23b76f913ab3e6580a57515cd9727ca43/nbformat-5.10.3-py3-none-any.whl.metadata\n",
      "  Downloading nbformat-5.10.3-py3-none-any.whl.metadata (3.6 kB)\n",
      "Collecting absl-py>=1.0.0 (from tensorflow)\n",
      "  Obtaining dependency information for absl-py>=1.0.0 from https://files.pythonhosted.org/packages/a2/ad/e0d3c824784ff121c03cc031f944bc7e139a8f1870ffd2845cc2dd76f6c4/absl_py-2.1.0-py3-none-any.whl.metadata\n",
      "  Using cached absl_py-2.1.0-py3-none-any.whl.metadata (2.3 kB)\n",
      "Collecting astunparse>=1.6.0 (from tensorflow)\n",
      "  Obtaining dependency information for astunparse>=1.6.0 from https://files.pythonhosted.org/packages/2b/03/13dde6512ad7b4557eb792fbcf0c653af6076b81e5941d36ec61f7ce6028/astunparse-1.6.3-py2.py3-none-any.whl.metadata\n",
      "  Using cached astunparse-1.6.3-py2.py3-none-any.whl.metadata (4.4 kB)\n",
      "Collecting flatbuffers>=23.5.26 (from tensorflow)\n",
      "  Obtaining dependency information for flatbuffers>=23.5.26 from https://files.pythonhosted.org/packages/41/f0/7e988a019bc54b2dbd0ad4182ef2d53488bb02e58694cd79d61369e85900/flatbuffers-24.3.25-py2.py3-none-any.whl.metadata\n",
      "  Downloading flatbuffers-24.3.25-py2.py3-none-any.whl.metadata (850 bytes)\n",
      "Collecting gast!=0.5.0,!=0.5.1,!=0.5.2,>=0.2.1 (from tensorflow)\n",
      "  Obtaining dependency information for gast!=0.5.0,!=0.5.1,!=0.5.2,>=0.2.1 from https://files.pythonhosted.org/packages/fa/39/5aae571e5a5f4de9c3445dae08a530498e5c53b0e74410eeeb0991c79047/gast-0.5.4-py3-none-any.whl.metadata\n",
      "  Using cached gast-0.5.4-py3-none-any.whl.metadata (1.3 kB)\n",
      "Collecting google-pasta>=0.1.1 (from tensorflow)\n",
      "  Obtaining dependency information for google-pasta>=0.1.1 from https://files.pythonhosted.org/packages/a3/de/c648ef6835192e6e2cc03f40b19eeda4382c49b5bafb43d88b931c4c74ac/google_pasta-0.2.0-py3-none-any.whl.metadata\n",
      "  Using cached google_pasta-0.2.0-py3-none-any.whl.metadata (814 bytes)\n",
      "Collecting h5py>=3.10.0 (from tensorflow)\n",
      "  Obtaining dependency information for h5py>=3.10.0 from https://files.pythonhosted.org/packages/8d/70/2b0b99507287f66e71a6b2e66c5ad2ec2461ef2c534668eef96c3b48eb6d/h5py-3.10.0-cp311-cp311-macosx_11_0_arm64.whl.metadata\n",
      "  Using cached h5py-3.10.0-cp311-cp311-macosx_11_0_arm64.whl.metadata (2.5 kB)\n",
      "Collecting libclang>=13.0.0 (from tensorflow)\n",
      "  Obtaining dependency information for libclang>=13.0.0 from https://files.pythonhosted.org/packages/db/ed/1df62b44db2583375f6a8a5e2ca5432bbdc3edb477942b9b7c848c720055/libclang-18.1.1-py2.py3-none-macosx_11_0_arm64.whl.metadata\n",
      "  Downloading libclang-18.1.1-py2.py3-none-macosx_11_0_arm64.whl.metadata (5.2 kB)\n",
      "Collecting ml-dtypes~=0.3.1 (from tensorflow)\n",
      "  Obtaining dependency information for ml-dtypes~=0.3.1 from https://files.pythonhosted.org/packages/6e/a4/6aabb78f1569550fd77c74d2c1d008b502c8ce72776bd88b14ea6c182c9e/ml_dtypes-0.3.2-cp311-cp311-macosx_10_9_universal2.whl.metadata\n",
      "  Using cached ml_dtypes-0.3.2-cp311-cp311-macosx_10_9_universal2.whl.metadata (20 kB)\n",
      "Collecting opt-einsum>=2.3.2 (from tensorflow)\n",
      "  Obtaining dependency information for opt-einsum>=2.3.2 from https://files.pythonhosted.org/packages/bc/19/404708a7e54ad2798907210462fd950c3442ea51acc8790f3da48d2bee8b/opt_einsum-3.3.0-py3-none-any.whl.metadata\n",
      "  Using cached opt_einsum-3.3.0-py3-none-any.whl.metadata (6.5 kB)\n",
      "Requirement already satisfied: packaging in /Users/fridahntika/Documents/CS315/Project 2/cs315project2datacollection/.project2/lib/python3.11/site-packages (from tensorflow) (24.0)\n",
      "Collecting protobuf!=4.21.0,!=4.21.1,!=4.21.2,!=4.21.3,!=4.21.4,!=4.21.5,<5.0.0dev,>=3.20.3 (from tensorflow)\n",
      "  Obtaining dependency information for protobuf!=4.21.0,!=4.21.1,!=4.21.2,!=4.21.3,!=4.21.4,!=4.21.5,<5.0.0dev,>=3.20.3 from https://files.pythonhosted.org/packages/f3/bf/26deba06a4c910a85f78245cac7698f67cedd7efe00d04f6b3e1b3506a59/protobuf-4.25.3-cp37-abi3-macosx_10_9_universal2.whl.metadata\n",
      "  Using cached protobuf-4.25.3-cp37-abi3-macosx_10_9_universal2.whl.metadata (541 bytes)\n",
      "Collecting requests<3,>=2.21.0 (from tensorflow)\n",
      "  Obtaining dependency information for requests<3,>=2.21.0 from https://files.pythonhosted.org/packages/70/8e/0e2d847013cb52cd35b38c009bb167a1a26b2ce6cd6965bf26b47bc0bf44/requests-2.31.0-py3-none-any.whl.metadata\n",
      "  Using cached requests-2.31.0-py3-none-any.whl.metadata (4.6 kB)\n",
      "Requirement already satisfied: setuptools in /Users/fridahntika/Documents/CS315/Project 2/cs315project2datacollection/.project2/lib/python3.11/site-packages (from tensorflow) (65.5.0)\n",
      "Requirement already satisfied: six>=1.12.0 in /Users/fridahntika/Documents/CS315/Project 2/cs315project2datacollection/.project2/lib/python3.11/site-packages (from tensorflow) (1.16.0)\n",
      "Collecting termcolor>=1.1.0 (from tensorflow)\n",
      "  Obtaining dependency information for termcolor>=1.1.0 from https://files.pythonhosted.org/packages/d9/5f/8c716e47b3a50cbd7c146f45881e11d9414def768b7cd9c5e6650ec2a80a/termcolor-2.4.0-py3-none-any.whl.metadata\n",
      "  Using cached termcolor-2.4.0-py3-none-any.whl.metadata (6.1 kB)\n",
      "Requirement already satisfied: typing-extensions>=3.6.6 in /Users/fridahntika/Documents/CS315/Project 2/cs315project2datacollection/.project2/lib/python3.11/site-packages (from tensorflow) (4.10.0)\n",
      "Collecting wrapt>=1.11.0 (from tensorflow)\n",
      "  Obtaining dependency information for wrapt>=1.11.0 from https://files.pythonhosted.org/packages/0f/16/ea627d7817394db04518f62934a5de59874b587b792300991b3c347ff5e0/wrapt-1.16.0-cp311-cp311-macosx_11_0_arm64.whl.metadata\n",
      "  Using cached wrapt-1.16.0-cp311-cp311-macosx_11_0_arm64.whl.metadata (6.6 kB)\n",
      "Collecting grpcio<2.0,>=1.24.3 (from tensorflow)\n",
      "  Obtaining dependency information for grpcio<2.0,>=1.24.3 from https://files.pythonhosted.org/packages/c1/0a/a8c0f403b2189f5d3e490778ead51924b56fa30a35f6e444b3702e28c8c8/grpcio-1.62.1-cp311-cp311-macosx_10_10_universal2.whl.metadata\n",
      "  Using cached grpcio-1.62.1-cp311-cp311-macosx_10_10_universal2.whl.metadata (4.0 kB)\n",
      "Collecting tensorboard<2.17,>=2.16 (from tensorflow)\n",
      "  Obtaining dependency information for tensorboard<2.17,>=2.16 from https://files.pythonhosted.org/packages/3a/d0/b97889ffa769e2d1fdebb632084d5e8b53fc299d43a537acee7ec0c021a3/tensorboard-2.16.2-py3-none-any.whl.metadata\n",
      "  Using cached tensorboard-2.16.2-py3-none-any.whl.metadata (1.6 kB)\n",
      "Collecting keras>=3.0.0 (from tensorflow)\n",
      "  Obtaining dependency information for keras>=3.0.0 from https://files.pythonhosted.org/packages/59/a8/d94e8acb59d678d908fe1db0c7ad89dfa2c2e2e529eeb3c2b3cc218a758d/keras-3.1.1-py3-none-any.whl.metadata\n",
      "  Downloading keras-3.1.1-py3-none-any.whl.metadata (5.6 kB)\n",
      "Collecting tensorflow-io-gcs-filesystem>=0.23.1 (from tensorflow)\n",
      "  Obtaining dependency information for tensorflow-io-gcs-filesystem>=0.23.1 from https://files.pythonhosted.org/packages/3e/56/1b7ef816e448464a93da70296db237129910b4452d6b4582d5e23fb07880/tensorflow_io_gcs_filesystem-0.36.0-cp311-cp311-macosx_12_0_arm64.whl.metadata\n",
      "  Using cached tensorflow_io_gcs_filesystem-0.36.0-cp311-cp311-macosx_12_0_arm64.whl.metadata (14 kB)\n",
      "Collecting numpy<2.0.0,>=1.23.5 (from tensorflow)\n",
      "  Obtaining dependency information for numpy<2.0.0,>=1.23.5 from https://files.pythonhosted.org/packages/1a/2e/151484f49fd03944c4a3ad9c418ed193cfd02724e138ac8a9505d056c582/numpy-1.26.4-cp311-cp311-macosx_11_0_arm64.whl.metadata\n",
      "  Using cached numpy-1.26.4-cp311-cp311-macosx_11_0_arm64.whl.metadata (114 kB)\n",
      "Collecting tf-keras>=2.14.1 (from tensorflow_hub)\n",
      "  Obtaining dependency information for tf-keras>=2.14.1 from https://files.pythonhosted.org/packages/75/aa/cf09f8956d4f276f655b13674e15d8d6015fd832f9689aa9ff2a515781ab/tf_keras-2.16.0-py3-none-any.whl.metadata\n",
      "  Using cached tf_keras-2.16.0-py3-none-any.whl.metadata (1.6 kB)\n",
      "Collecting scipy>=1.6.0 (from scikit-learn)\n",
      "  Obtaining dependency information for scipy>=1.6.0 from https://files.pythonhosted.org/packages/51/b6/188c8974d747b2998d672040c5b62a635a72240c515dc4577a28e1dedc80/scipy-1.13.0-cp311-cp311-macosx_12_0_arm64.whl.metadata\n",
      "  Downloading scipy-1.13.0-cp311-cp311-macosx_12_0_arm64.whl.metadata (60 kB)\n",
      "\u001b[2K     \u001b[90m━━━━━━━━━━━━━━━━━━━━━━━━━━━━━━━━━━━━━━━━\u001b[0m \u001b[32m60.6/60.6 kB\u001b[0m \u001b[31m4.8 MB/s\u001b[0m eta \u001b[36m0:00:00\u001b[0m\n",
      "\u001b[?25hCollecting joblib>=1.2.0 (from scikit-learn)\n",
      "  Obtaining dependency information for joblib>=1.2.0 from https://files.pythonhosted.org/packages/10/40/d551139c85db202f1f384ba8bcf96aca2f329440a844f924c8a0040b6d02/joblib-1.3.2-py3-none-any.whl.metadata\n",
      "  Using cached joblib-1.3.2-py3-none-any.whl.metadata (5.4 kB)\n",
      "Collecting threadpoolctl>=2.0.0 (from scikit-learn)\n",
      "  Obtaining dependency information for threadpoolctl>=2.0.0 from https://files.pythonhosted.org/packages/1e/84/ccd9b08653022b7785b6e3ee070ffb2825841e0dc119be22f0840b2b35cb/threadpoolctl-3.4.0-py3-none-any.whl.metadata\n",
      "  Downloading threadpoolctl-3.4.0-py3-none-any.whl.metadata (13 kB)\n",
      "Collecting pandas>=1.2 (from seaborn)\n",
      "  Obtaining dependency information for pandas>=1.2 from https://files.pythonhosted.org/packages/a5/78/1d859bfb619c067e3353ed079248ae9532c105c4e018fa9a776d04b34572/pandas-2.2.1-cp311-cp311-macosx_11_0_arm64.whl.metadata\n",
      "  Using cached pandas-2.2.1-cp311-cp311-macosx_11_0_arm64.whl.metadata (19 kB)\n",
      "Collecting matplotlib!=3.6.1,>=3.4 (from seaborn)\n",
      "  Obtaining dependency information for matplotlib!=3.6.1,>=3.4 from https://files.pythonhosted.org/packages/24/db/6ec78a4f10673a641cdb11694c2de2f64aa00e838551248cb11b8b057440/matplotlib-3.8.3-cp311-cp311-macosx_11_0_arm64.whl.metadata\n",
      "  Using cached matplotlib-3.8.3-cp311-cp311-macosx_11_0_arm64.whl.metadata (5.8 kB)\n",
      "Collecting tenacity>=6.2.0 (from plotly)\n",
      "  Obtaining dependency information for tenacity>=6.2.0 from https://files.pythonhosted.org/packages/f4/f1/990741d5bb2487d529d20a433210ffa136a367751e454214013b441c4575/tenacity-8.2.3-py3-none-any.whl.metadata\n",
      "  Using cached tenacity-8.2.3-py3-none-any.whl.metadata (1.0 kB)\n",
      "Collecting fastjsonschema (from nbformat)\n",
      "  Obtaining dependency information for fastjsonschema from https://files.pythonhosted.org/packages/9c/b9/79691036d4a8f9857e74d1728b23f34f583b81350a27492edda58d5604e1/fastjsonschema-2.19.1-py3-none-any.whl.metadata\n",
      "  Using cached fastjsonschema-2.19.1-py3-none-any.whl.metadata (2.1 kB)\n",
      "Collecting jsonschema>=2.6 (from nbformat)\n",
      "  Obtaining dependency information for jsonschema>=2.6 from https://files.pythonhosted.org/packages/39/9d/b035d024c62c85f2e2d4806a59ca7b8520307f34e0932fbc8cc75fe7b2d9/jsonschema-4.21.1-py3-none-any.whl.metadata\n",
      "  Using cached jsonschema-4.21.1-py3-none-any.whl.metadata (7.8 kB)\n",
      "Requirement already satisfied: jupyter-core in /Users/fridahntika/Documents/CS315/Project 2/cs315project2datacollection/.project2/lib/python3.11/site-packages (from nbformat) (5.7.2)\n",
      "Requirement already satisfied: traitlets>=5.1 in /Users/fridahntika/Documents/CS315/Project 2/cs315project2datacollection/.project2/lib/python3.11/site-packages (from nbformat) (5.14.2)\n",
      "Collecting wheel<1.0,>=0.23.0 (from astunparse>=1.6.0->tensorflow)\n",
      "  Obtaining dependency information for wheel<1.0,>=0.23.0 from https://files.pythonhosted.org/packages/7d/cd/d7460c9a869b16c3dd4e1e403cce337df165368c71d6af229a74699622ce/wheel-0.43.0-py3-none-any.whl.metadata\n",
      "  Using cached wheel-0.43.0-py3-none-any.whl.metadata (2.2 kB)\n",
      "Collecting attrs>=22.2.0 (from jsonschema>=2.6->nbformat)\n",
      "  Obtaining dependency information for attrs>=22.2.0 from https://files.pythonhosted.org/packages/e0/44/827b2a91a5816512fcaf3cc4ebc465ccd5d598c45cefa6703fcf4a79018f/attrs-23.2.0-py3-none-any.whl.metadata\n",
      "  Using cached attrs-23.2.0-py3-none-any.whl.metadata (9.5 kB)\n",
      "Collecting jsonschema-specifications>=2023.03.6 (from jsonschema>=2.6->nbformat)\n",
      "  Obtaining dependency information for jsonschema-specifications>=2023.03.6 from https://files.pythonhosted.org/packages/ee/07/44bd408781594c4d0a027666ef27fab1e441b109dc3b76b4f836f8fd04fe/jsonschema_specifications-2023.12.1-py3-none-any.whl.metadata\n",
      "  Using cached jsonschema_specifications-2023.12.1-py3-none-any.whl.metadata (3.0 kB)\n",
      "Collecting referencing>=0.28.4 (from jsonschema>=2.6->nbformat)\n",
      "  Obtaining dependency information for referencing>=0.28.4 from https://files.pythonhosted.org/packages/42/8e/ae1de7b12223986e949bdb886c004de7c304b6fa94de5b87c926c1099656/referencing-0.34.0-py3-none-any.whl.metadata\n",
      "  Downloading referencing-0.34.0-py3-none-any.whl.metadata (2.8 kB)\n",
      "Collecting rpds-py>=0.7.1 (from jsonschema>=2.6->nbformat)\n",
      "  Obtaining dependency information for rpds-py>=0.7.1 from https://files.pythonhosted.org/packages/c5/5e/0e9d41935934ff839fde917cab1449de02ccf9d84c02521949add9705844/rpds_py-0.18.0-cp311-cp311-macosx_11_0_arm64.whl.metadata\n",
      "  Using cached rpds_py-0.18.0-cp311-cp311-macosx_11_0_arm64.whl.metadata (4.1 kB)\n",
      "Collecting rich (from keras>=3.0.0->tensorflow)\n",
      "  Obtaining dependency information for rich from https://files.pythonhosted.org/packages/87/67/a37f6214d0e9fe57f6ae54b2956d550ca8365857f42a1ce0392bb21d9410/rich-13.7.1-py3-none-any.whl.metadata\n",
      "  Using cached rich-13.7.1-py3-none-any.whl.metadata (18 kB)\n",
      "Collecting namex (from keras>=3.0.0->tensorflow)\n",
      "  Obtaining dependency information for namex from https://files.pythonhosted.org/packages/cd/43/b971880e2eb45c0bee2093710ae8044764a89afe9620df34a231c6f0ecd2/namex-0.0.7-py3-none-any.whl.metadata\n",
      "  Using cached namex-0.0.7-py3-none-any.whl.metadata (246 bytes)\n",
      "Collecting optree (from keras>=3.0.0->tensorflow)\n",
      "  Obtaining dependency information for optree from https://files.pythonhosted.org/packages/cc/b8/33127d52de868d2aabc14ec6f53cb2dffafd14c5c708f50d171552a3a451/optree-0.11.0-cp311-cp311-macosx_11_0_arm64.whl.metadata\n",
      "  Downloading optree-0.11.0-cp311-cp311-macosx_11_0_arm64.whl.metadata (45 kB)\n",
      "\u001b[2K     \u001b[90m━━━━━━━━━━━━━━━━━━━━━━━━━━━━━━━━━━━━━━━━\u001b[0m \u001b[32m45.4/45.4 kB\u001b[0m \u001b[31m4.8 MB/s\u001b[0m eta \u001b[36m0:00:00\u001b[0m\n",
      "\u001b[?25hCollecting contourpy>=1.0.1 (from matplotlib!=3.6.1,>=3.4->seaborn)\n",
      "  Obtaining dependency information for contourpy>=1.0.1 from https://files.pythonhosted.org/packages/9f/6b/8a1ca4b81d426c104fe42b3cfad9488eaaef0a03fcf98eaecc22b628a013/contourpy-1.2.1-cp311-cp311-macosx_11_0_arm64.whl.metadata\n",
      "  Downloading contourpy-1.2.1-cp311-cp311-macosx_11_0_arm64.whl.metadata (5.8 kB)\n",
      "Collecting cycler>=0.10 (from matplotlib!=3.6.1,>=3.4->seaborn)\n",
      "  Obtaining dependency information for cycler>=0.10 from https://files.pythonhosted.org/packages/e7/05/c19819d5e3d95294a6f5947fb9b9629efb316b96de511b418c53d245aae6/cycler-0.12.1-py3-none-any.whl.metadata\n",
      "  Using cached cycler-0.12.1-py3-none-any.whl.metadata (3.8 kB)\n",
      "Collecting fonttools>=4.22.0 (from matplotlib!=3.6.1,>=3.4->seaborn)\n",
      "  Obtaining dependency information for fonttools>=4.22.0 from https://files.pythonhosted.org/packages/de/21/6589ed525b8081605d859dea8b36a51d27e6fc0e57a84bb0ccd4c4f9f72f/fonttools-4.50.0-cp311-cp311-macosx_10_9_universal2.whl.metadata\n",
      "  Downloading fonttools-4.50.0-cp311-cp311-macosx_10_9_universal2.whl.metadata (159 kB)\n",
      "\u001b[2K     \u001b[90m━━━━━━━━━━━━━━━━━━━━━━━━━━━━━━━━━━━━━━\u001b[0m \u001b[32m159.4/159.4 kB\u001b[0m \u001b[31m11.1 MB/s\u001b[0m eta \u001b[36m0:00:00\u001b[0m\n",
      "\u001b[?25hCollecting kiwisolver>=1.3.1 (from matplotlib!=3.6.1,>=3.4->seaborn)\n",
      "  Obtaining dependency information for kiwisolver>=1.3.1 from https://files.pythonhosted.org/packages/4a/fe/23d7fa78f7c66086d196406beb1fb2eaf629dd7adc01c3453033303d17fa/kiwisolver-1.4.5-cp311-cp311-macosx_11_0_arm64.whl.metadata\n",
      "  Using cached kiwisolver-1.4.5-cp311-cp311-macosx_11_0_arm64.whl.metadata (6.4 kB)\n",
      "Collecting pillow>=8 (from matplotlib!=3.6.1,>=3.4->seaborn)\n",
      "  Obtaining dependency information for pillow>=8 from https://files.pythonhosted.org/packages/00/5c/7633f291def20082bad31b844fe5ed07742aae8504e4cfe2f331ee727178/pillow-10.3.0-cp311-cp311-macosx_11_0_arm64.whl.metadata\n",
      "  Downloading pillow-10.3.0-cp311-cp311-macosx_11_0_arm64.whl.metadata (9.2 kB)\n",
      "Collecting pyparsing>=2.3.1 (from matplotlib!=3.6.1,>=3.4->seaborn)\n",
      "  Obtaining dependency information for pyparsing>=2.3.1 from https://files.pythonhosted.org/packages/9d/ea/6d76df31432a0e6fdf81681a895f009a4bb47b3c39036db3e1b528191d52/pyparsing-3.1.2-py3-none-any.whl.metadata\n",
      "  Using cached pyparsing-3.1.2-py3-none-any.whl.metadata (5.1 kB)\n",
      "Requirement already satisfied: python-dateutil>=2.7 in /Users/fridahntika/Documents/CS315/Project 2/cs315project2datacollection/.project2/lib/python3.11/site-packages (from matplotlib!=3.6.1,>=3.4->seaborn) (2.9.0.post0)\n",
      "Collecting pytz>=2020.1 (from pandas>=1.2->seaborn)\n",
      "  Obtaining dependency information for pytz>=2020.1 from https://files.pythonhosted.org/packages/9c/3d/a121f284241f08268b21359bd425f7d4825cffc5ac5cd0e1b3d82ffd2b10/pytz-2024.1-py2.py3-none-any.whl.metadata\n",
      "  Using cached pytz-2024.1-py2.py3-none-any.whl.metadata (22 kB)\n",
      "Collecting tzdata>=2022.7 (from pandas>=1.2->seaborn)\n",
      "  Obtaining dependency information for tzdata>=2022.7 from https://files.pythonhosted.org/packages/65/58/f9c9e6be752e9fcb8b6a0ee9fb87e6e7a1f6bcab2cdc73f02bb7ba91ada0/tzdata-2024.1-py2.py3-none-any.whl.metadata\n",
      "  Using cached tzdata-2024.1-py2.py3-none-any.whl.metadata (1.4 kB)\n",
      "Collecting charset-normalizer<4,>=2 (from requests<3,>=2.21.0->tensorflow)\n",
      "  Obtaining dependency information for charset-normalizer<4,>=2 from https://files.pythonhosted.org/packages/dd/51/68b61b90b24ca35495956b718f35a9756ef7d3dd4b3c1508056fa98d1a1b/charset_normalizer-3.3.2-cp311-cp311-macosx_11_0_arm64.whl.metadata\n",
      "  Using cached charset_normalizer-3.3.2-cp311-cp311-macosx_11_0_arm64.whl.metadata (33 kB)\n",
      "Collecting idna<4,>=2.5 (from requests<3,>=2.21.0->tensorflow)\n",
      "  Obtaining dependency information for idna<4,>=2.5 from https://files.pythonhosted.org/packages/c2/e7/a82b05cf63a603df6e68d59ae6a68bf5064484a0718ea5033660af4b54a9/idna-3.6-py3-none-any.whl.metadata\n",
      "  Using cached idna-3.6-py3-none-any.whl.metadata (9.9 kB)\n",
      "Collecting urllib3<3,>=1.21.1 (from requests<3,>=2.21.0->tensorflow)\n",
      "  Obtaining dependency information for urllib3<3,>=1.21.1 from https://files.pythonhosted.org/packages/a2/73/a68704750a7679d0b6d3ad7aa8d4da8e14e151ae82e6fee774e6e0d05ec8/urllib3-2.2.1-py3-none-any.whl.metadata\n",
      "  Using cached urllib3-2.2.1-py3-none-any.whl.metadata (6.4 kB)\n",
      "Collecting certifi>=2017.4.17 (from requests<3,>=2.21.0->tensorflow)\n",
      "  Obtaining dependency information for certifi>=2017.4.17 from https://files.pythonhosted.org/packages/ba/06/a07f096c664aeb9f01624f858c3add0a4e913d6c96257acb4fce61e7de14/certifi-2024.2.2-py3-none-any.whl.metadata\n",
      "  Using cached certifi-2024.2.2-py3-none-any.whl.metadata (2.2 kB)\n",
      "Collecting markdown>=2.6.8 (from tensorboard<2.17,>=2.16->tensorflow)\n",
      "  Obtaining dependency information for markdown>=2.6.8 from https://files.pythonhosted.org/packages/fc/b3/0c0c994fe49cd661084f8d5dc06562af53818cc0abefaca35bdc894577c3/Markdown-3.6-py3-none-any.whl.metadata\n",
      "  Downloading Markdown-3.6-py3-none-any.whl.metadata (7.0 kB)\n",
      "Collecting tensorboard-data-server<0.8.0,>=0.7.0 (from tensorboard<2.17,>=2.16->tensorflow)\n",
      "  Obtaining dependency information for tensorboard-data-server<0.8.0,>=0.7.0 from https://files.pythonhosted.org/packages/7a/13/e503968fefabd4c6b2650af21e110aa8466fe21432cd7c43a84577a89438/tensorboard_data_server-0.7.2-py3-none-any.whl.metadata\n",
      "  Using cached tensorboard_data_server-0.7.2-py3-none-any.whl.metadata (1.1 kB)\n",
      "Collecting werkzeug>=1.0.1 (from tensorboard<2.17,>=2.16->tensorflow)\n",
      "  Obtaining dependency information for werkzeug>=1.0.1 from https://files.pythonhosted.org/packages/e3/23/c9843d7550092ae7ad380611c238f44afef66f58f76c1dab7dcf313e4339/werkzeug-3.0.2-py3-none-any.whl.metadata\n",
      "  Downloading werkzeug-3.0.2-py3-none-any.whl.metadata (4.1 kB)\n",
      "Requirement already satisfied: platformdirs>=2.5 in /Users/fridahntika/Documents/CS315/Project 2/cs315project2datacollection/.project2/lib/python3.11/site-packages (from jupyter-core->nbformat) (4.2.0)\n",
      "Collecting MarkupSafe>=2.1.1 (from werkzeug>=1.0.1->tensorboard<2.17,>=2.16->tensorflow)\n",
      "  Obtaining dependency information for MarkupSafe>=2.1.1 from https://files.pythonhosted.org/packages/11/e7/291e55127bb2ae67c64d66cef01432b5933859dfb7d6949daa721b89d0b3/MarkupSafe-2.1.5-cp311-cp311-macosx_10_9_universal2.whl.metadata\n",
      "  Using cached MarkupSafe-2.1.5-cp311-cp311-macosx_10_9_universal2.whl.metadata (3.0 kB)\n",
      "Collecting markdown-it-py>=2.2.0 (from rich->keras>=3.0.0->tensorflow)\n",
      "  Obtaining dependency information for markdown-it-py>=2.2.0 from https://files.pythonhosted.org/packages/42/d7/1ec15b46af6af88f19b8e5ffea08fa375d433c998b8a7639e76935c14f1f/markdown_it_py-3.0.0-py3-none-any.whl.metadata\n",
      "  Using cached markdown_it_py-3.0.0-py3-none-any.whl.metadata (6.9 kB)\n",
      "Requirement already satisfied: pygments<3.0.0,>=2.13.0 in /Users/fridahntika/Documents/CS315/Project 2/cs315project2datacollection/.project2/lib/python3.11/site-packages (from rich->keras>=3.0.0->tensorflow) (2.17.2)\n",
      "Collecting mdurl~=0.1 (from markdown-it-py>=2.2.0->rich->keras>=3.0.0->tensorflow)\n",
      "  Obtaining dependency information for mdurl~=0.1 from https://files.pythonhosted.org/packages/b3/38/89ba8ad64ae25be8de66a6d463314cf1eb366222074cfda9ee839c56a4b4/mdurl-0.1.2-py3-none-any.whl.metadata\n",
      "  Using cached mdurl-0.1.2-py3-none-any.whl.metadata (1.6 kB)\n",
      "Using cached tensorflow-2.16.1-cp311-cp311-macosx_12_0_arm64.whl (227.0 MB)\n",
      "Using cached tensorflow_hub-0.16.1-py2.py3-none-any.whl (30 kB)\n",
      "Using cached scikit_learn-1.4.1.post1-cp311-cp311-macosx_12_0_arm64.whl (10.4 MB)\n",
      "Using cached seaborn-0.13.2-py3-none-any.whl (294 kB)\n",
      "Downloading plotly-5.20.0-py3-none-any.whl (15.7 MB)\n",
      "\u001b[2K   \u001b[90m━━━━━━━━━━━━━━━━━━━━━━━━━━━━━━━━━━━━━━━━\u001b[0m \u001b[32m15.7/15.7 MB\u001b[0m \u001b[31m20.3 MB/s\u001b[0m eta \u001b[36m0:00:00\u001b[0m00:01\u001b[0m00:01\u001b[0m\n",
      "\u001b[?25hDownloading nbformat-5.10.3-py3-none-any.whl (78 kB)\n",
      "\u001b[2K   \u001b[90m━━━━━━━━━━━━━━━━━━━━━━━━━━━━━━━━━━━━━━━━\u001b[0m \u001b[32m78.4/78.4 kB\u001b[0m \u001b[31m8.5 MB/s\u001b[0m eta \u001b[36m0:00:00\u001b[0m\n",
      "\u001b[?25hUsing cached absl_py-2.1.0-py3-none-any.whl (133 kB)\n",
      "Using cached astunparse-1.6.3-py2.py3-none-any.whl (12 kB)\n",
      "Downloading flatbuffers-24.3.25-py2.py3-none-any.whl (26 kB)\n",
      "Using cached gast-0.5.4-py3-none-any.whl (19 kB)\n",
      "Using cached google_pasta-0.2.0-py3-none-any.whl (57 kB)\n",
      "Using cached grpcio-1.62.1-cp311-cp311-macosx_10_10_universal2.whl (10.0 MB)\n",
      "Using cached h5py-3.10.0-cp311-cp311-macosx_11_0_arm64.whl (2.6 MB)\n",
      "Using cached joblib-1.3.2-py3-none-any.whl (302 kB)\n",
      "Using cached jsonschema-4.21.1-py3-none-any.whl (85 kB)\n",
      "Downloading keras-3.1.1-py3-none-any.whl (1.1 MB)\n",
      "\u001b[2K   \u001b[90m━━━━━━━━━━━━━━━━━━━━━━━━━━━━━━━━━━━━━━━━\u001b[0m \u001b[32m1.1/1.1 MB\u001b[0m \u001b[31m18.0 MB/s\u001b[0m eta \u001b[36m0:00:00\u001b[0ma \u001b[36m0:00:01\u001b[0m\n",
      "\u001b[?25hDownloading libclang-18.1.1-py2.py3-none-macosx_11_0_arm64.whl (26.4 MB)\n",
      "\u001b[2K   \u001b[90m━━━━━━━━━━━━━━━━━━━━━━━━━━━━━━━━━━━━━━━━\u001b[0m \u001b[32m26.4/26.4 MB\u001b[0m \u001b[31m23.0 MB/s\u001b[0m eta \u001b[36m0:00:00\u001b[0m00:01\u001b[0m00:01\u001b[0m\n",
      "\u001b[?25hUsing cached matplotlib-3.8.3-cp311-cp311-macosx_11_0_arm64.whl (7.5 MB)\n",
      "Using cached ml_dtypes-0.3.2-cp311-cp311-macosx_10_9_universal2.whl (389 kB)\n",
      "Using cached numpy-1.26.4-cp311-cp311-macosx_11_0_arm64.whl (14.0 MB)\n",
      "Using cached opt_einsum-3.3.0-py3-none-any.whl (65 kB)\n",
      "Using cached pandas-2.2.1-cp311-cp311-macosx_11_0_arm64.whl (11.3 MB)\n",
      "Using cached protobuf-4.25.3-cp37-abi3-macosx_10_9_universal2.whl (394 kB)\n",
      "Using cached requests-2.31.0-py3-none-any.whl (62 kB)\n",
      "Downloading scipy-1.13.0-cp311-cp311-macosx_12_0_arm64.whl (30.3 MB)\n",
      "\u001b[2K   \u001b[90m━━━━━━━━━━━━━━━━━━━━━━━━━━━━━━━━━━━━━━━━\u001b[0m \u001b[32m30.3/30.3 MB\u001b[0m \u001b[31m16.2 MB/s\u001b[0m eta \u001b[36m0:00:00\u001b[0m00:01\u001b[0m00:01\u001b[0m\n",
      "\u001b[?25hUsing cached tenacity-8.2.3-py3-none-any.whl (24 kB)\n",
      "Using cached tensorboard-2.16.2-py3-none-any.whl (5.5 MB)\n",
      "Using cached tensorflow_io_gcs_filesystem-0.36.0-cp311-cp311-macosx_12_0_arm64.whl (3.4 MB)\n",
      "Using cached termcolor-2.4.0-py3-none-any.whl (7.7 kB)\n",
      "Using cached tf_keras-2.16.0-py3-none-any.whl (1.7 MB)\n",
      "Downloading threadpoolctl-3.4.0-py3-none-any.whl (17 kB)\n",
      "Using cached wrapt-1.16.0-cp311-cp311-macosx_11_0_arm64.whl (38 kB)\n",
      "Using cached fastjsonschema-2.19.1-py3-none-any.whl (23 kB)\n",
      "Using cached attrs-23.2.0-py3-none-any.whl (60 kB)\n",
      "Using cached certifi-2024.2.2-py3-none-any.whl (163 kB)\n",
      "Using cached charset_normalizer-3.3.2-cp311-cp311-macosx_11_0_arm64.whl (118 kB)\n",
      "Downloading contourpy-1.2.1-cp311-cp311-macosx_11_0_arm64.whl (245 kB)\n",
      "\u001b[2K   \u001b[90m━━━━━━━━━━━━━━━━━━━━━━━━━━━━━━━━━━━━━━━━\u001b[0m \u001b[32m245.9/245.9 kB\u001b[0m \u001b[31m14.7 MB/s\u001b[0m eta \u001b[36m0:00:00\u001b[0m\n",
      "\u001b[?25hUsing cached cycler-0.12.1-py3-none-any.whl (8.3 kB)\n",
      "Downloading fonttools-4.50.0-cp311-cp311-macosx_10_9_universal2.whl (2.8 MB)\n",
      "\u001b[2K   \u001b[90m━━━━━━━━━━━━━━━━━━━━━━━━━━━━━━━━━━━━━━━━\u001b[0m \u001b[32m2.8/2.8 MB\u001b[0m \u001b[31m18.9 MB/s\u001b[0m eta \u001b[36m0:00:00\u001b[0m00:01\u001b[0m00:01\u001b[0m\n",
      "\u001b[?25hUsing cached idna-3.6-py3-none-any.whl (61 kB)\n",
      "Using cached jsonschema_specifications-2023.12.1-py3-none-any.whl (18 kB)\n",
      "Using cached kiwisolver-1.4.5-cp311-cp311-macosx_11_0_arm64.whl (66 kB)\n",
      "Downloading Markdown-3.6-py3-none-any.whl (105 kB)\n",
      "\u001b[2K   \u001b[90m━━━━━━━━━━━━━━━━━━━━━━━━━━━━━━━━━━━━━━━━\u001b[0m \u001b[32m105.4/105.4 kB\u001b[0m \u001b[31m9.6 MB/s\u001b[0m eta \u001b[36m0:00:00\u001b[0m\n",
      "\u001b[?25hDownloading pillow-10.3.0-cp311-cp311-macosx_11_0_arm64.whl (3.4 MB)\n",
      "\u001b[2K   \u001b[90m━━━━━━━━━━━━━━━━━━━━━━━━━━━━━━━━━━━━━━━━\u001b[0m \u001b[32m3.4/3.4 MB\u001b[0m \u001b[31m19.2 MB/s\u001b[0m eta \u001b[36m0:00:00\u001b[0ma \u001b[36m0:00:01\u001b[0m\n",
      "\u001b[?25hUsing cached pyparsing-3.1.2-py3-none-any.whl (103 kB)\n",
      "Using cached pytz-2024.1-py2.py3-none-any.whl (505 kB)\n",
      "Downloading referencing-0.34.0-py3-none-any.whl (26 kB)\n",
      "Using cached rpds_py-0.18.0-cp311-cp311-macosx_11_0_arm64.whl (330 kB)\n",
      "Using cached tensorboard_data_server-0.7.2-py3-none-any.whl (2.4 kB)\n",
      "Using cached tzdata-2024.1-py2.py3-none-any.whl (345 kB)\n",
      "Using cached urllib3-2.2.1-py3-none-any.whl (121 kB)\n",
      "Downloading werkzeug-3.0.2-py3-none-any.whl (226 kB)\n",
      "\u001b[2K   \u001b[90m━━━━━━━━━━━━━━━━━━━━━━━━━━━━━━━━━━━━━━━━\u001b[0m \u001b[32m226.8/226.8 kB\u001b[0m \u001b[31m14.0 MB/s\u001b[0m eta \u001b[36m0:00:00\u001b[0m\n",
      "\u001b[?25hUsing cached wheel-0.43.0-py3-none-any.whl (65 kB)\n",
      "Using cached namex-0.0.7-py3-none-any.whl (5.8 kB)\n",
      "Downloading optree-0.11.0-cp311-cp311-macosx_11_0_arm64.whl (274 kB)\n",
      "\u001b[2K   \u001b[90m━━━━━━━━━━━━━━━━━━━━━━━━━━━━━━━━━━━━━━━━\u001b[0m \u001b[32m274.7/274.7 kB\u001b[0m \u001b[31m18.3 MB/s\u001b[0m eta \u001b[36m0:00:00\u001b[0m\n",
      "\u001b[?25hUsing cached rich-13.7.1-py3-none-any.whl (240 kB)\n",
      "Using cached markdown_it_py-3.0.0-py3-none-any.whl (87 kB)\n",
      "Using cached MarkupSafe-2.1.5-cp311-cp311-macosx_10_9_universal2.whl (18 kB)\n",
      "Using cached mdurl-0.1.2-py3-none-any.whl (10.0 kB)\n",
      "Installing collected packages: pytz, namex, libclang, flatbuffers, fastjsonschema, wrapt, wheel, urllib3, tzdata, threadpoolctl, termcolor, tensorflow-io-gcs-filesystem, tensorboard-data-server, tenacity, rpds-py, pyparsing, protobuf, pillow, optree, numpy, mdurl, MarkupSafe, markdown, kiwisolver, joblib, idna, grpcio, google-pasta, gast, fonttools, cycler, charset-normalizer, certifi, attrs, absl-py, werkzeug, scipy, requests, referencing, plotly, pandas, opt-einsum, ml-dtypes, markdown-it-py, h5py, contourpy, astunparse, tensorboard, scikit-learn, rich, matplotlib, jsonschema-specifications, seaborn, keras, jsonschema, tensorflow, nbformat, tf-keras, tensorflow_hub\n",
      "Successfully installed MarkupSafe-2.1.5 absl-py-2.1.0 astunparse-1.6.3 attrs-23.2.0 certifi-2024.2.2 charset-normalizer-3.3.2 contourpy-1.2.1 cycler-0.12.1 fastjsonschema-2.19.1 flatbuffers-24.3.25 fonttools-4.50.0 gast-0.5.4 google-pasta-0.2.0 grpcio-1.62.1 h5py-3.10.0 idna-3.6 joblib-1.3.2 jsonschema-4.21.1 jsonschema-specifications-2023.12.1 keras-3.1.1 kiwisolver-1.4.5 libclang-18.1.1 markdown-3.6 markdown-it-py-3.0.0 matplotlib-3.8.3 mdurl-0.1.2 ml-dtypes-0.3.2 namex-0.0.7 nbformat-5.10.3 numpy-1.26.4 opt-einsum-3.3.0 optree-0.11.0 pandas-2.2.1 pillow-10.3.0 plotly-5.20.0 protobuf-4.25.3 pyparsing-3.1.2 pytz-2024.1 referencing-0.34.0 requests-2.31.0 rich-13.7.1 rpds-py-0.18.0 scikit-learn-1.4.1.post1 scipy-1.13.0 seaborn-0.13.2 tenacity-8.2.3 tensorboard-2.16.2 tensorboard-data-server-0.7.2 tensorflow-2.16.1 tensorflow-io-gcs-filesystem-0.36.0 tensorflow_hub-0.16.1 termcolor-2.4.0 tf-keras-2.16.0 threadpoolctl-3.4.0 tzdata-2024.1 urllib3-2.2.1 werkzeug-3.0.2 wheel-0.43.0 wrapt-1.16.0\n",
      "\n",
      "\u001b[1m[\u001b[0m\u001b[34;49mnotice\u001b[0m\u001b[1;39;49m]\u001b[0m\u001b[39;49m A new release of pip is available: \u001b[0m\u001b[31;49m23.2.1\u001b[0m\u001b[39;49m -> \u001b[0m\u001b[32;49m24.0\u001b[0m\n",
      "\u001b[1m[\u001b[0m\u001b[34;49mnotice\u001b[0m\u001b[1;39;49m]\u001b[0m\u001b[39;49m To update, run: \u001b[0m\u001b[32;49mpython -m pip install --upgrade pip\u001b[0m\n",
      "Note: you may need to restart the kernel to use updated packages.\n"
     ]
    }
   ],
   "source": [
    "pip install tensorflow tensorflow_hub scikit-learn seaborn plotly nbformat"
   ]
  },
  {
   "cell_type": "markdown",
   "id": "57827f06-5769-4441-8d93-73118488f8a8",
   "metadata": {},
   "source": [
    "If the installation was successful, you are ready to continue. If you run into issues, let me know."
   ]
  },
  {
   "cell_type": "markdown",
   "id": "2dd28d25-de89-4f58-9c6b-dd47061d95e9",
   "metadata": {},
   "source": [
    "<a id=\"sec2\"></a>\n",
    "## 2. Generating word embeddings\n",
    "\n",
    "We will use the `tensorflow` library that loads the Universal Sentence Encoder from Google. Running the cells below takes several seconds, this is why it's good to have a notebook that you keep open and running to avoid having to repeat these steps everytime."
   ]
  },
  {
   "cell_type": "code",
   "execution_count": 3,
   "id": "13c1b7aa-73e2-4b3c-b9a8-b04f75c89489",
   "metadata": {},
   "outputs": [],
   "source": [
    "import tensorflow as tf\n",
    "import tensorflow_hub as hub\n",
    "import numpy as np"
   ]
  },
  {
   "cell_type": "code",
   "execution_count": 4,
   "id": "abd02bf8-f384-40e8-83dc-a0ed68975ba8",
   "metadata": {},
   "outputs": [],
   "source": [
    "# Load the Universal Sentence Encoder's TF Hub module\n",
    "embed = hub.load(\"https://tfhub.dev/google/universal-sentence-encoder/4\")"
   ]
  },
  {
   "cell_type": "markdown",
   "id": "0317bba7-bb46-4214-b3f2-e2574131ea88",
   "metadata": {},
   "source": [
    "Let's see what `embed` is:"
   ]
  },
  {
   "cell_type": "code",
   "execution_count": 5,
   "id": "77205152-c887-43b7-a717-10dd72f27d76",
   "metadata": {},
   "outputs": [
    {
     "data": {
      "text/plain": [
       "tensorflow.python.saved_model.load.Loader._recreate_base_user_object.<locals>._UserObject"
      ]
     },
     "execution_count": 5,
     "metadata": {},
     "output_type": "execute_result"
    }
   ],
   "source": [
    "type(embed)"
   ]
  },
  {
   "cell_type": "markdown",
   "id": "2655b878-13fc-47be-ad5f-d585b7649d81",
   "metadata": {},
   "source": [
    "It seems like instance of a class that is loading a saved model for the user.\n",
    "\n",
    "We know that `embed` expects a list of words, thus, even if we want the embedding of one single word, we put it in a list:"
   ]
  },
  {
   "cell_type": "code",
   "execution_count": 6,
   "id": "33063607-2fe3-4193-84f1-0011ab8ce2fd",
   "metadata": {},
   "outputs": [
    {
     "data": {
      "text/plain": [
       "<tf.Tensor: shape=(1, 512), dtype=float32, numpy=\n",
       "array([[-0.04391911,  0.03201129,  0.01190968,  0.03629499, -0.00428854,\n",
       "        -0.04623365,  0.01953796, -0.0766146 , -0.04304637,  0.03870976,\n",
       "        -0.04847969, -0.05598783, -0.07318962, -0.01257844, -0.0890022 ,\n",
       "         0.03608386, -0.03099002, -0.03288193,  0.02245504, -0.07364368,\n",
       "        -0.0434471 ,  0.01525586, -0.01991094, -0.00087345, -0.02389862,\n",
       "         0.08860014,  0.0060273 , -0.04430725,  0.04500025, -0.01356371,\n",
       "        -0.04075946, -0.0187194 , -0.01410533,  0.01902027, -0.07315564,\n",
       "         0.0389857 , -0.0508206 ,  0.01163179,  0.01045336, -0.01495852,\n",
       "         0.05237337, -0.02879028, -0.0653019 , -0.02734276,  0.00342716,\n",
       "         0.07910772, -0.00500462,  0.00479221, -0.00226164, -0.03844388,\n",
       "        -0.02335554, -0.0037697 ,  0.08060665,  0.07994738, -0.07976855,\n",
       "        -0.08015753,  0.05998328,  0.02709491,  0.07591494,  0.01611827,\n",
       "        -0.03375888, -0.02939119,  0.05382704,  0.0583757 ,  0.02365989,\n",
       "         0.05100418, -0.06117087, -0.04694655,  0.04115758,  0.03589629,\n",
       "        -0.0844108 , -0.03011134, -0.05846397, -0.0187578 ,  0.01077729,\n",
       "        -0.06392524,  0.00401697,  0.08559538, -0.00903517, -0.04465736,\n",
       "         0.01715603,  0.05140962, -0.07735585, -0.07783   , -0.03206476,\n",
       "         0.07085275, -0.06675337,  0.00175753,  0.06267899, -0.03477751,\n",
       "         0.02827859, -0.00113125,  0.01398738,  0.07584986,  0.01799165,\n",
       "        -0.03253376,  0.01601139, -0.04895301, -0.01937765,  0.03310717,\n",
       "         0.06199145, -0.04858332, -0.03198361, -0.08049706,  0.05627647,\n",
       "        -0.06411112, -0.01100219, -0.00556093, -0.03695475,  0.06358639,\n",
       "         0.04745825,  0.00398517, -0.01763892,  0.02664305, -0.00692302,\n",
       "         0.01172059,  0.00306164, -0.00730916,  0.06018971,  0.00048547,\n",
       "        -0.07158717, -0.08368503, -0.00604797,  0.03462587, -0.04297215,\n",
       "         0.07582822,  0.01956604, -0.05738991, -0.02027083, -0.0001704 ,\n",
       "        -0.06116413,  0.07722658,  0.07893451,  0.044761  ,  0.02609367,\n",
       "         0.04317093,  0.04311131, -0.03858434, -0.00360966, -0.01832553,\n",
       "        -0.05903054, -0.05191153,  0.05265236, -0.06787778, -0.0498786 ,\n",
       "        -0.04582144,  0.01026251, -0.02073083, -0.00571701, -0.08787715,\n",
       "        -0.04451665,  0.03900944, -0.06195759,  0.06508894, -0.048003  ,\n",
       "        -0.03689304, -0.06984159, -0.07656717,  0.02946994, -0.04919349,\n",
       "         0.0116981 ,  0.00932668, -0.06383105,  0.0211626 , -0.05287198,\n",
       "         0.00773777, -0.05449141,  0.06637748, -0.00289265,  0.01604711,\n",
       "         0.01302748, -0.00246807, -0.00539523,  0.05304951, -0.07298885,\n",
       "         0.06125431,  0.04192388, -0.03472359,  0.03756179, -0.01218869,\n",
       "         0.01029081,  0.02111714,  0.03444866,  0.07595844,  0.03786048,\n",
       "        -0.08619914, -0.05968378, -0.02477259,  0.03965548,  0.00020002,\n",
       "        -0.03867126,  0.00585814,  0.06694734,  0.01585643, -0.02914745,\n",
       "        -0.0763395 ,  0.03867119, -0.0305099 , -0.01204501, -0.04410134,\n",
       "        -0.01490492,  0.02709729,  0.08546873, -0.01945643, -0.05372971,\n",
       "        -0.00454367, -0.00051234,  0.00233284, -0.01387241,  0.02950734,\n",
       "        -0.07646758,  0.02868283,  0.00419669, -0.03460614, -0.00222008,\n",
       "         0.02403799, -0.04661333, -0.03913402,  0.02800954,  0.03342443,\n",
       "         0.02657786,  0.01888492, -0.01560864,  0.01108899,  0.00650694,\n",
       "        -0.07425502,  0.01594726,  0.03189634,  0.04558127,  0.0220057 ,\n",
       "        -0.0203162 , -0.05391645,  0.01752974,  0.08819562,  0.01047273,\n",
       "         0.05633179,  0.06233584, -0.03211069, -0.07344995,  0.00193288,\n",
       "         0.03172632,  0.08727103,  0.01944816,  0.04612581,  0.0281642 ,\n",
       "         0.01102468,  0.04082267,  0.0424096 , -0.02757785,  0.00428099,\n",
       "        -0.07045941, -0.02650406, -0.0889393 ,  0.06352627, -0.00352297,\n",
       "         0.0485017 ,  0.00092638, -0.02464018, -0.08303952, -0.05171132,\n",
       "        -0.03916218, -0.02332118,  0.05532194,  0.02512826,  0.0574919 ,\n",
       "        -0.03335011, -0.00883712,  0.05669094,  0.02540466,  0.06490766,\n",
       "         0.01755293, -0.03400431, -0.00070714, -0.03066146, -0.00152353,\n",
       "        -0.02119867, -0.06408469,  0.02317668,  0.06505799,  0.07198009,\n",
       "         0.03921089,  0.04193089,  0.00230553, -0.03617765,  0.05731983,\n",
       "        -0.02051383,  0.03153251, -0.01864696,  0.00817306,  0.00579671,\n",
       "         0.05050893, -0.02208878,  0.08859621,  0.03404757,  0.02507683,\n",
       "         0.03943738,  0.02706956,  0.0079135 , -0.00171415,  0.0639941 ,\n",
       "         0.01499374, -0.08776126, -0.04199325, -0.0337008 , -0.06074306,\n",
       "         0.03213425,  0.02717571,  0.00213995, -0.06334654, -0.02023193,\n",
       "         0.0162903 , -0.00092251,  0.00824899,  0.01577866, -0.04278883,\n",
       "        -0.04869693,  0.04034988, -0.02546563, -0.01175195, -0.00048598,\n",
       "        -0.0280601 , -0.01173201, -0.04622826,  0.08773573, -0.01743202,\n",
       "        -0.04271528, -0.03811969,  0.03642944,  0.00211869,  0.04831   ,\n",
       "         0.02836964,  0.04364009, -0.04257249, -0.00154345,  0.04288134,\n",
       "        -0.08155319, -0.03537532,  0.05726536,  0.01956838,  0.01228188,\n",
       "        -0.03880943,  0.02262403,  0.04629247, -0.01213392, -0.00692891,\n",
       "        -0.05959065,  0.02001723, -0.0565712 ,  0.03050376,  0.00799744,\n",
       "         0.05053762,  0.00853808, -0.01061043, -0.07865336, -0.05624806,\n",
       "        -0.05606464, -0.0838901 ,  0.03334734,  0.0054817 , -0.00065622,\n",
       "         0.03902394, -0.04998425,  0.08082011, -0.01402541, -0.0080152 ,\n",
       "         0.01369515,  0.07176805,  0.003226  ,  0.07009996,  0.03162312,\n",
       "        -0.08137206, -0.0685125 ,  0.05911929, -0.02741772, -0.07372663,\n",
       "        -0.03053199, -0.01363895,  0.0428145 , -0.01815224,  0.00625352,\n",
       "         0.03977714, -0.05909358, -0.03699098,  0.06277781, -0.04091014,\n",
       "         0.04296124, -0.03289928, -0.07273812, -0.01455483,  0.00859373,\n",
       "        -0.02045456, -0.08864874,  0.00880368,  0.01237246, -0.06606161,\n",
       "        -0.07324868, -0.03444455,  0.00780709, -0.05084099,  0.00583719,\n",
       "         0.03629396,  0.08892626, -0.04942535,  0.02623338, -0.02582992,\n",
       "        -0.05967071,  0.03868425,  0.00806727, -0.04186407, -0.04152249,\n",
       "        -0.0315993 , -0.0020966 ,  0.01536578,  0.0404311 , -0.0853402 ,\n",
       "         0.0108684 ,  0.05972987,  0.03528921,  0.00511722,  0.03179448,\n",
       "        -0.00602141,  0.02096485, -0.0394133 , -0.01415877,  0.05658231,\n",
       "         0.04269021, -0.01623843,  0.0642145 ,  0.04676111,  0.0543763 ,\n",
       "        -0.01503799, -0.02473368,  0.01765632, -0.02634688,  0.08255324,\n",
       "        -0.02794104, -0.02262074,  0.00205419, -0.02838222,  0.030862  ,\n",
       "        -0.01681354, -0.00254835,  0.05847723,  0.00701802, -0.00430046,\n",
       "         0.00849526,  0.02374604, -0.06189705,  0.06073492,  0.03382768,\n",
       "         0.06218819, -0.0837408 , -0.02829605, -0.0555787 , -0.01160215,\n",
       "         0.03266242,  0.0478306 , -0.05582914, -0.02840458,  0.05267305,\n",
       "         0.01060975,  0.04075461, -0.02016916,  0.06635583,  0.00742541,\n",
       "        -0.04915589, -0.07929008,  0.05002549,  0.02042783,  0.06928928,\n",
       "         0.026494  , -0.00151972,  0.06819009,  0.02943927,  0.03870546,\n",
       "         0.0198622 , -0.06175926,  0.08548003,  0.03404276,  0.03481222,\n",
       "        -0.06544838, -0.06740935,  0.02023061,  0.02049204,  0.00170005,\n",
       "         0.0338482 , -0.04467829, -0.08114872, -0.04905275,  0.0772535 ,\n",
       "        -0.02669827, -0.01099811,  0.03947103,  0.00598233,  0.03606433,\n",
       "        -0.0233374 ,  0.06101305, -0.06487118, -0.01098049,  0.03963407,\n",
       "         0.02665095,  0.02733456,  0.01442914, -0.08744737,  0.03815875,\n",
       "        -0.01752754, -0.04362554,  0.01380074, -0.07805208, -0.00882787,\n",
       "        -0.03927761, -0.05178538]], dtype=float32)>"
      ]
     },
     "execution_count": 6,
     "metadata": {},
     "output_type": "execute_result"
    }
   ],
   "source": [
    "# get the word embedding of a single word\n",
    "embed([\"apple\"])"
   ]
  },
  {
   "cell_type": "markdown",
   "id": "1761e9eb-7a8b-448e-ad6e-c4c3bbcb88e4",
   "metadata": {},
   "source": [
    "From the result, we can see that we got a tensor of shape 1x512, meaning a single row with 512 columns (the dimensions for the word representation). A tensor is a mathematical term for a multi-dimensional array."
   ]
  },
  {
   "cell_type": "markdown",
   "id": "700d916a-434f-4387-9aa0-105c731a3876",
   "metadata": {},
   "source": [
    "Let's get the embeddings for a few pairs of words that we know are similar:"
   ]
  },
  {
   "cell_type": "code",
   "execution_count": 7,
   "id": "18e24667-0b6c-4df3-b84a-5303947c7d23",
   "metadata": {},
   "outputs": [
    {
     "data": {
      "text/plain": [
       "TensorShape([10, 512])"
      ]
     },
     "execution_count": 7,
     "metadata": {},
     "output_type": "execute_result"
    }
   ],
   "source": [
    "words = ['king', 'queen', 'radio', 'TV', 'bike', 'car', 'Boston', 'London', 'lake', 'river']\n",
    "\n",
    "embeddings = embed(words)\n",
    "embeddings.shape"
   ]
  },
  {
   "cell_type": "markdown",
   "id": "049cf657-ebcb-4eb4-b9c6-23bcd27f0b5b",
   "metadata": {},
   "source": [
    "As we can see, we got one embedding for each word as a vector of 512 dimensions. We will calculate the cosine similarity between these words:"
   ]
  },
  {
   "cell_type": "code",
   "execution_count": 8,
   "id": "86dc9362-9d1b-4e8e-9b5b-38b072166286",
   "metadata": {},
   "outputs": [],
   "source": [
    "from numpy.linalg import norm\n",
    "\n",
    "def cosineSimilarity(vec1, vec2):\n",
    "    \"\"\"Calculate the cosine similarity between two vectors.\"\"\"\n",
    "    V1 = np.array(vec1)\n",
    "    V2 = np.array(vec2)\n",
    "    cosine = np.dot(V1, V2)/(norm(V1)*norm(V2))\n",
    "    return cosine"
   ]
  },
  {
   "cell_type": "markdown",
   "id": "5d4cd67d-1457-4394-a8ec-8e40fe2bd00a",
   "metadata": {},
   "source": [
    "Now that we have this function, we will call it to calculate the similarity between all pairs of words, as part of a new function:"
   ]
  },
  {
   "cell_type": "code",
   "execution_count": 9,
   "id": "f8337354-1f4d-4234-bf1c-574d4d3a6ca1",
   "metadata": {},
   "outputs": [
    {
     "name": "stdout",
     "output_type": "stream",
     "text": [
      "[[1.0, 0.5885695, 0.20178378, 0.23791917, 0.28454646, 0.30579725, 0.3122297, 0.35194835, 0.21853518, 0.31289005], [0.5885695, 1.0000001, 0.23228018, 0.2170642, 0.23037918, 0.23948048, 0.231801, 0.27207547, 0.15932223, 0.22088574], [0.20178378, 0.23228018, 1.0, 0.45328125, 0.28366223, 0.4517104, 0.26606655, 0.3423876, 0.2682847, 0.312001], [0.23791917, 0.2170642, 0.45328125, 1.0, 0.31165946, 0.4353165, 0.24773505, 0.23908728, 0.22314483, 0.3322847], [0.28454646, 0.23037918, 0.28366223, 0.31165946, 1.0, 0.5698406, 0.29134265, 0.3367028, 0.29050556, 0.3785725], [0.30579725, 0.23948048, 0.4517104, 0.4353165, 0.5698406, 1.0, 0.3312364, 0.3456377, 0.27086574, 0.35168734], [0.3122297, 0.231801, 0.26606655, 0.24773505, 0.29134265, 0.3312364, 1.0, 0.49752557, 0.29060295, 0.26489943], [0.35194835, 0.27207547, 0.3423876, 0.23908728, 0.3367028, 0.3456377, 0.49752557, 1.0, 0.2327791, 0.32204524], [0.21853518, 0.15932223, 0.2682847, 0.22314483, 0.29050556, 0.27086574, 0.29060295, 0.2327791, 1.0, 0.4717121], [0.31289005, 0.22088574, 0.312001, 0.3322847, 0.3785725, 0.35168734, 0.26489943, 0.32204524, 0.4717121, 1.0000001]]\n"
     ]
    }
   ],
   "source": [
    "def pairwiseSimilarity(embeddings):\n",
    "    \"\"\"Given a matrix of embeddings for words or sentences,\n",
    "    calculate the cosine similarity for each pair.\n",
    "    \"\"\"\n",
    "    simMatrix = []\n",
    "    for vec1 in embeddings:\n",
    "        simRow = []\n",
    "        for vec2 in embeddings:\n",
    "            simRow.append(cosineSimilarity(vec1, vec2))\n",
    "        simMatrix.append(simRow)\n",
    "    return simMatrix\n",
    "    \n",
    "simMatrix = pairwiseSimilarity(embeddings)\n",
    "print(simMatrix)"
   ]
  },
  {
   "cell_type": "markdown",
   "id": "22b529cb-4be6-48de-be1f-aa8deca6e0a8",
   "metadata": {},
   "source": [
    "Let's generate a heatmap to see the similarity between the pairs of words:"
   ]
  },
  {
   "cell_type": "code",
   "execution_count": 10,
   "id": "d413dcbc-5994-4edd-a35a-180536a2cfcd",
   "metadata": {},
   "outputs": [],
   "source": [
    "import seaborn as sns\n",
    "import matplotlib.pyplot as plt\n",
    "\n",
    "def drawHeatmap(labels, simMtrx, plotTitle):\n",
    "    \"\"\"Draws a heatmap for the similarity matrix.\n",
    "    \"\"\"\n",
    "    sns.set(font_scale=0.9)\n",
    "    g = sns.heatmap(\n",
    "          simMtrx, # similarity matrix with the cosine sim values\n",
    "          xticklabels=labels,\n",
    "          yticklabels=labels,\n",
    "          vmin=0,\n",
    "          vmax=1,\n",
    "          cmap=\"YlOrRd\")\n",
    "    g.set_xticklabels(labels, rotation=90)\n",
    "    g.set_title(plotTitle, fontsize=14)\n",
    "    plt.show()"
   ]
  },
  {
   "cell_type": "code",
   "execution_count": 11,
   "id": "1c8bf97a-ef82-468e-8c42-2d984a24b4f7",
   "metadata": {},
   "outputs": [
    {
     "data": {
      "image/png": "[encoded data removed]",
      "text/plain": [
       "<Figure size 640x480 with 2 Axes>"
      ]
     },
     "metadata": {},
     "output_type": "display_data"
    }
   ],
   "source": [
    "drawHeatmap(words, simMatrix, \"Similarity for Word Embeddings\")"
   ]
  },
  {
   "cell_type": "markdown",
   "id": "42f6d950-ba9f-47a8-8225-87e1d49ecbe1",
   "metadata": {},
   "source": [
    "**Optional Challenge: Find most similar words**\n",
    "\n",
    "While the heat map gives us some information, is hard to see the most simlar words. We can write a Python function to find the most similar pairs. I wrote one that I can call like this:\n",
    "\n",
    "`findUniqueTopPairs(simMatrix, words)[:10]`\n",
    "\n",
    "And the results are the following:\n",
    "```\n",
    "[(0.58856946, 'king', 'queen'),\n",
    " (0.56984055, 'bike', 'car'),\n",
    " (0.49752563, 'Boston', 'London'),\n",
    " (0.471712, 'lake', 'river'),\n",
    " (0.45328128, 'TV', 'radio'),\n",
    " (0.45171037, 'car', 'radio'),\n",
    " (0.43531647, 'TV', 'car'),\n",
    " (0.3785724, 'bike', 'river'),\n",
    " (0.3519483, 'London', 'king'),\n",
    " (0.35168734, 'car', 'river')]\n",
    "```\n",
    "\n",
    "Notice how our original 5 pairs are at the top, and pairs like 'car' and 'radio' are still related. One can also understand the relationshp between 'London' and 'king' (based on the history of the many kings who lived in London, although for the past 70 years there was a queen in the palace). Anyway, we can see how the similarity is going down."
   ]
  },
  {
   "cell_type": "code",
   "execution_count": 33,
   "id": "086377d4-d2f8-42ee-b272-31e563385714",
   "metadata": {},
   "outputs": [],
   "source": [
    "# your code\n",
    "def mostSimilar(matrix, words):\n",
    "    results = []\n",
    "    used = []\n",
    "    \n",
    "    for scores in matrix:\n",
    "        scoreIndex = matrix.index(scores)\n",
    "        max_value = float('-inf')\n",
    "        second_max_value = float('-inf')\n",
    "        for num in scores:\n",
    "            if num not in used: \n",
    "                if num > max_value:\n",
    "                    second_max_value = max_value\n",
    "                    max_value = num\n",
    "                elif num > second_max_value and num != max_value:\n",
    "                    second_max_value = num\n",
    "        maxIndex = scores.index(second_max_value)\n",
    "        used.append(second_max_value)\n",
    "        results.append((second_max_value, words[scoreIndex], words[maxIndex]))\n",
    "        \n",
    "    results = sorted(results, key=lambda x: x[0], reverse = True)\n",
    "    return results"
   ]
  },
  {
   "cell_type": "code",
   "execution_count": 34,
   "id": "d98e9813-8631-499a-908a-7dcc42d9eea3",
   "metadata": {},
   "outputs": [
    {
     "data": {
      "text/plain": [
       "[(0.5885695, 'king', 'queen'),\n",
       " (0.5698406, 'bike', 'car'),\n",
       " (0.49752557, 'Boston', 'London'),\n",
       " (0.4717121, 'lake', 'river'),\n",
       " (0.45328125, 'radio', 'TV'),\n",
       " (0.4517104, 'car', 'radio'),\n",
       " (0.4353165, 'TV', 'car'),\n",
       " (0.3785725, 'river', 'bike'),\n",
       " (0.35194835, 'London', 'king'),\n",
       " (0.27207547, 'queen', 'London')]"
      ]
     },
     "execution_count": 34,
     "metadata": {},
     "output_type": "execute_result"
    }
   ],
   "source": [
    "mostSimilar(simMatrix, words)"
   ]
  },
  {
   "cell_type": "markdown",
   "id": "2aab7697-d611-4795-88eb-eeadd4f0294f",
   "metadata": {},
   "source": [
    "<a id=\"sec3\"></a>\n",
    "## 3. K-means clustering with word embeddings\n",
    "\n",
    "In lecture we showed the clustering for the TikTok hashtags collected from posts, but for connecting this section to the t-SNE visualization section below, we will show here the clustering for our own list of news hashtags."
   ]
  },
  {
   "cell_type": "code",
   "execution_count": 12,
   "id": "7e67740a-4061-4100-a7dd-872b7a23fa8b",
   "metadata": {},
   "outputs": [
    {
     "data": {
      "text/plain": [
       "['economy',\n",
       " 'constitution',\n",
       " 'breakingnews',\n",
       " 'noticias',\n",
       " 'scotus',\n",
       " 'mediawatch',\n",
       " 'historytok',\n",
       " 'liberal',\n",
       " 'crime',\n",
       " 'conservative']"
      ]
     },
     "execution_count": 12,
     "metadata": {},
     "output_type": "execute_result"
    }
   ],
   "source": [
    "# get the news hashtags\n",
    "import json\n",
    "news = json.load(open('news-hashtags.json'))\n",
    "news[:10]"
   ]
  },
  {
   "cell_type": "markdown",
   "id": "508e8d39-318a-4c8d-aaf8-efaaa479c28d",
   "metadata": {},
   "source": [
    "**Step 1: Get the word embeddings**"
   ]
  },
  {
   "cell_type": "code",
   "execution_count": 13,
   "id": "3b27a2d6-5999-4fe3-9efe-3eb3bdccf1d4",
   "metadata": {},
   "outputs": [
    {
     "data": {
      "text/plain": [
       "TensorShape([129, 512])"
      ]
     },
     "execution_count": 13,
     "metadata": {},
     "output_type": "execute_result"
    }
   ],
   "source": [
    "# remember that we loaded the model in the prior section\n",
    "newsEmbed = embed(news)\n",
    "newsEmbed.shape"
   ]
  },
  {
   "cell_type": "markdown",
   "id": "9da04f34-32e6-4cb6-9861-f5deec14d99b",
   "metadata": {},
   "source": [
    "**Step 2: Perform clustering with a fixed k value**\n",
    "\n",
    "For this time, we will perform clustering with k=15. The code will take a few seconds (or more) to run:"
   ]
  },
  {
   "cell_type": "code",
   "execution_count": 14,
   "id": "e00d57f6-be4d-49f1-a224-e15de04cc4b4",
   "metadata": {},
   "outputs": [],
   "source": [
    "from sklearn.cluster import KMeans\n",
    "\n",
    "k = 15 # number of clusters\n",
    "kmeans = KMeans(n_clusters=k, random_state=42)\n",
    "clusters = kmeans.fit_predict(newsEmbed)"
   ]
  },
  {
   "cell_type": "markdown",
   "id": "a737b1ba-2193-489b-9c49-d5b2e99f020a",
   "metadata": {},
   "source": [
    "Let's see what the results look like:"
   ]
  },
  {
   "cell_type": "code",
   "execution_count": 15,
   "id": "6f413849-ddef-46f8-8394-a7577a86d376",
   "metadata": {},
   "outputs": [
    {
     "data": {
      "text/plain": [
       "array([12, 11,  3, 10, 11, 10,  1,  6, 12,  6], dtype=int32)"
      ]
     },
     "execution_count": 15,
     "metadata": {},
     "output_type": "execute_result"
    }
   ],
   "source": [
    "clusters[:10]"
   ]
  },
  {
   "cell_type": "markdown",
   "id": "73337644-2a34-4901-81bf-dd2e27d6aca1",
   "metadata": {},
   "source": [
    "They are indices of the clusters. For each elemenent in our `news` list, the `clusters` array indicates in which of the 15 clusters the item has been assigned. We can then use this information to find out which words are in which cluster."
   ]
  },
  {
   "cell_type": "markdown",
   "id": "040a0fad-6fd1-4744-bd28-63f6020f2737",
   "metadata": {},
   "source": [
    "We will print out the composition of each cluster:"
   ]
  },
  {
   "cell_type": "code",
   "execution_count": 16,
   "id": "4d9d3343-9151-46e5-95d3-c1e081279cc1",
   "metadata": {},
   "outputs": [
    {
     "name": "stdout",
     "output_type": "stream",
     "text": [
      "Cluster 0:\n",
      "['michigan']\n",
      "Cluster 1:\n",
      "['historytok', 'topstories', 'inflation', 'uselections', 'politicaltiktok', 'usaelections', 'newsattiktok', 'uspolitics', 'stateoftheunion', '2024debate', 'noticiastiktok', '2024breakingnews']\n",
      "Cluster 2:\n",
      "['viralnews', '2024president', 'technews', 'newstiktok', 'trumptrial', 'learnontiktok', 'supertuesday', 'новости', 'trump2024', 'climategoals', 'governmentshutdown', 'trumprally', 'currentnews', 'noticiasen1minuto', 'breakingnewsalert', 'citizentvkenya']\n",
      "Cluster 3:\n",
      "['breakingnews', 'militarynews ', 'currentevents', 'supremecourt', 'covid', 'internationalnews ', 'unitednations', 'joebiden', 'breaking', 'FederalReserve', 'newsafrica', 'goodnews', '参議院', 'bordercrisis', 'tiktokでニュース', 'crimetok', 'أخبار', '新闻', 'trendingnews', 'chinesepolitics', 'uknews', 'aktualności', 'reproductiverights', 'localnews', 'elections2022🇰🇪']\n",
      "Cluster 4:\n",
      "['quicknews', 'kenyanews', 'healthnews', 'election2024', 'nbcnews', 'NewsTok', 'houseofrepresentatives', 'PoliticalCommentary', 'cnbc']\n",
      "Cluster 5:\n",
      "['netanyahu', 'gaza', 'ceasefire', 'israel', 'worldnews', 'palestine', 'hamas']\n",
      "Cluster 6:\n",
      "['liberal', 'conservative', 'republicans', 'republican', 'democrat', 'foxnews', 'liberalism', 'ballot', 'msnbc', 'democrats', 'biden']\n",
      "Cluster 7:\n",
      "['usnews']\n",
      "Cluster 8:\n",
      "['russia', 'putin', 'ukraine', 'nato']\n",
      "Cluster 9:\n",
      "['azimio', 'townhall', '2024election', 'geonews', 'yahoonews', 'thedemocrats', 'oregonnews']\n",
      "Cluster 10:\n",
      "['noticias', 'mediawatch', 'abcnews', 'berita', 'vote', 'fashionnews', 'climatechange', 'usapolitics', 'newsupdate', 'breakingnews2024', 'newsalert', 'liveupdates']\n",
      "Cluster 11:\n",
      "['constitution', 'scotus']\n",
      "Cluster 12:\n",
      "['economy', 'crime', 'journalism', 'trump', 'abortion', 'blacklivesmatter', 'election', 'politics', 'congress', 'climate', 'unemployment', 'economics', 'immigration', 'news']\n",
      "Cluster 13:\n",
      "['rightwing', 'cnn', 'protests', 'fake news', 'newsweek', 'leftist']\n",
      "Cluster 14:\n",
      "['vaccines', 'pandemic']\n"
     ]
    }
   ],
   "source": [
    "for i in range(k):\n",
    "    print(f\"Cluster {i}:\")\n",
    "    cluster_words = [news[j] for j in range(len(news)) if clusters[j] == i]\n",
    "    print(cluster_words)"
   ]
  },
  {
   "cell_type": "markdown",
   "id": "66f283a3-bb5c-4cc9-8fdf-6cce66fc2fc4",
   "metadata": {},
   "source": [
    "As we discussed when we looked at the t-SNE visualization in class, some groups of words are really meaningful, for example, Cluster 5, Cluster 6, Cluster 8."
   ]
  },
  {
   "cell_type": "markdown",
   "id": "ed1d0461-69f6-42e1-bc3d-012392953006",
   "metadata": {},
   "source": [
    "<a id=\"sec4\"></a>\n",
    "## 4. Using the Elbow method to find the best k\n",
    "\n",
    "We discussed that having to pick k is a limitation of K-means clustering. Below, we show one method known as the Elbow method to try to pick the best k. If you want to learn about the method, here is [a short 4-minute video](https://www.youtube.com/watch?v=ht7geyMAFfA) to explain it. It is called the Elbow method because k is selected at the lowest point that marks something that looks like an elbow. This is the point where the sum of squared distances from the cluster centroid stops decreasing rapidly and enters a phase of a constant-paced decline, toward 0. This sum of squared distances of all points from the cluster centroid is known as inertia. "
   ]
  },
  {
   "cell_type": "code",
   "execution_count": 17,
   "id": "8f73271b-7338-4940-90eb-8cbd93323dba",
   "metadata": {},
   "outputs": [],
   "source": [
    "def elbowMethod(embeddings, maxK):\n",
    "    \"\"\"\n",
    "    Implements the Elbow method for finding most optimal k.\n",
    "    It keeps track of a measure named \"inertia\" for each cluster.\n",
    "    \"\"\"\n",
    "    sumSquaredDistances = []\n",
    "    kValues = list(range(1, maxK))\n",
    "    for k in kValues:\n",
    "        km = KMeans(n_clusters=k, random_state=42)\n",
    "        km = km.fit(embeddings)\n",
    "        sumSquaredDistances.append(km.inertia_)\n",
    "    \n",
    "    # plot the line to identify the elbow\n",
    "    plt.plot(kValues, sumSquaredDistances, 'ro-')\n",
    "    plt.xlabel('k')\n",
    "    plt.xticks(kValues)\n",
    "    plt.ylabel('Sum of squared distances')\n",
    "    plt.title('Elbow Method For Optimal k')\n",
    "    plt.show()"
   ]
  },
  {
   "cell_type": "markdown",
   "id": "5c75975e-3c67-4bff-8d51-bc6e49c01ac3",
   "metadata": {},
   "source": [
    "Let's try below 20 values for k:"
   ]
  },
  {
   "cell_type": "code",
   "execution_count": 18,
   "id": "a63e8fcc-d4db-41e2-bd3f-4da0e0d04b87",
   "metadata": {},
   "outputs": [
    {
     "data": {
      "image/png": "[encoded data removed]",
      "text/plain": [
       "<Figure size 640x480 with 1 Axes>"
      ]
     },
     "metadata": {},
     "output_type": "display_data"
    }
   ],
   "source": [
    "elbowMethod(newsEmbed, 20)"
   ]
  },
  {
   "cell_type": "markdown",
   "id": "65a3ffeb-336c-40eb-9004-a9746595830f",
   "metadata": {},
   "source": [
    "In this plot, inertia stops rapidly decreasing at the k=3 and enters a phase of steady decline. So we will pick k=3."
   ]
  },
  {
   "cell_type": "code",
   "execution_count": 19,
   "id": "250b738d-e873-4f5e-8bf7-5b22df792c99",
   "metadata": {},
   "outputs": [
    {
     "data": {
      "text/plain": [
       "array([2, 0, 1, 2, 0, 2, 2, 0, 2, 0], dtype=int32)"
      ]
     },
     "execution_count": 19,
     "metadata": {},
     "output_type": "execute_result"
    }
   ],
   "source": [
    "k = 3\n",
    "kmeans = KMeans(n_clusters=k, random_state=42)\n",
    "clusters = kmeans.fit_predict(newsEmbed)\n",
    "\n",
    "clusters[:10]"
   ]
  },
  {
   "cell_type": "markdown",
   "id": "fb4416b3-880e-4c60-8c54-5264078866ea",
   "metadata": {},
   "source": [
    "Notices the indices of the clusters: 0, 1, 2. We can check quickly how many items are in each cluster:"
   ]
  },
  {
   "cell_type": "code",
   "execution_count": null,
   "id": "04bc1ac9-c2a0-4bea-9ef9-52856510e1b6",
   "metadata": {},
   "outputs": [],
   "source": [
    "from collections import Counter\n",
    "Counter(clusters)"
   ]
  },
  {
   "cell_type": "markdown",
   "id": "6f84f73d-0805-4706-aedc-21e1099b9b8d",
   "metadata": {},
   "source": [
    "So, it looks like the clusters have roughly the same size: 0 and 2 have about 40 items and cluster 1 has 50 items. Let's visualize the clusters using t-SNE."
   ]
  },
  {
   "cell_type": "markdown",
   "id": "ade6402d-25e9-4959-9db9-3c025fd7dc15",
   "metadata": {},
   "source": [
    "<a id=\"sec5\"></a>\n",
    "## 5. t-SNE visualization\n",
    "\n",
    "To create the t-SNE visualization, we need a few steps to prepare the data first. We work directly with the embeddings and then use the cluster membership as a column that will allow us to color the dots in the scatterplot."
   ]
  },
  {
   "cell_type": "markdown",
   "id": "0b9a5c21-8759-4fc9-8072-b2634209abfa",
   "metadata": {},
   "source": [
    "**Step 1: Run the TSNE algorithm**"
   ]
  },
  {
   "cell_type": "code",
   "execution_count": null,
   "id": "3bab1c9d-abcb-4a25-9eef-7d07f28fbcae",
   "metadata": {},
   "outputs": [],
   "source": [
    "from sklearn.manifold import TSNE\n",
    "\n",
    "tsne = TSNE(n_components=2, random_state=42)  \n",
    "tsne_results = tsne.fit_transform(newsEmbed)"
   ]
  },
  {
   "cell_type": "markdown",
   "id": "ebf7526c-d9b6-4b26-9cd7-bde75d5b4247",
   "metadata": {},
   "source": [
    "**Step 2: Create a dataframe**"
   ]
  },
  {
   "cell_type": "code",
   "execution_count": null,
   "id": "f028c41c-bd4f-474b-9e6b-d2201e3e72e5",
   "metadata": {},
   "outputs": [],
   "source": [
    "import pandas as pd\n",
    "\n",
    "df = pd.DataFrame(tsne_results, columns=['tsne_1', 'tsne_2'])\n",
    "df['hashtag'] = news  \n",
    "df['cluster'] = clusters # the cluster indices where each news hashtags belong\n",
    "df.head()"
   ]
  },
  {
   "cell_type": "markdown",
   "id": "6b39a0cb-f63f-4093-80b7-fe84ca52945e",
   "metadata": {},
   "source": [
    "**Step 3: Generate Plotly visualization**"
   ]
  },
  {
   "cell_type": "code",
   "execution_count": null,
   "id": "fdca5f2b-543a-4227-a8ee-b1969ef63f6b",
   "metadata": {},
   "outputs": [],
   "source": [
    "import plotly.express as px\n",
    "\n",
    "# Create the scatter plot\n",
    "fig = px.scatter(df, x='tsne_1', y='tsne_2', text='hashtag', color=\"cluster\", color_continuous_scale=\"BlueRed\")\n",
    "\n",
    "# Format what to show next to the markers\n",
    "fig.update_traces(textposition='top center', \n",
    "                  mode='markers+text', \n",
    "                  textfont=dict(size=6))\n",
    "\n",
    "fig.update_layout(title='Embeddings of TikTok News Hashtags', width=800, height=800)\n",
    "fig.show()"
   ]
  },
  {
   "cell_type": "code",
   "execution_count": null,
   "id": "4925f8c2-96bc-48bf-91b3-c200ea63250b",
   "metadata": {},
   "outputs": [],
   "source": []
  }
 ],
 "metadata": {
  "kernelspec": {
   "display_name": "CS315 Project2",
   "language": "python",
   "name": ".project2"
  },
  "language_info": {
   "codemirror_mode": {
    "name": "ipython",
    "version": 3
   },
   "file_extension": ".py",
   "mimetype": "text/x-python",
   "name": "python",
   "nbconvert_exporter": "python",
   "pygments_lexer": "ipython3",
   "version": "3.11.5"
  }
 },
 "nbformat": 4,
 "nbformat_minor": 5
}
