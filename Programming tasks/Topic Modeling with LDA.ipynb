{
 "cells": [
  {
   "cell_type": "markdown",
   "id": "b99d9730-5978-4399-b192-6cfe73bd78a8",
   "metadata": {},
   "source": [
    "# Topic Modeling with LDA\n",
    "\n",
    "This tutorial shows how to perform LDA topic modeling using the `sklearn`. It uses different functions to explore the topics and the documents. It is using a small dataset from the NYT articles to keep the interpretation manageable. \n",
    "\n",
    "There are **a few scattered activities for you** in the notebook.\n",
    "\n",
    "\n",
    "**Table of Content**\n",
    "\n",
    "1. [Load the data](#sec1)  \n",
    "2. [Convert to document-term matrix](#sec2)  \n",
    "3. [Fit the LDA model and explore it](#sec3)\n",
    "4. [Finding the most optimal number of topics with GridSearch](#sec4)"
   ]
  },
  {
   "cell_type": "markdown",
   "id": "6cd6bd4b-cf18-48eb-978e-b4a1933cc4ef",
   "metadata": {},
   "source": [
    "<a id=\"sec1\"></a>\n",
    "## 1. Load the data\n",
    "\n",
    "I used the NYT API to get all articles from March 2024. Then, I combined together the fields \"snippet\" and \"lead_paragraph\" to create a longer document for each article. Then, I chose the articles for the section_name: food, realestate, and science. I saved the documents only into a json file. \n",
    "\n",
    "Below there is a function that will read a JSON file and turn it into a dataframe."
   ]
  },
  {
   "cell_type": "code",
   "execution_count": 2,
   "id": "639a2fcd-bf16-4e30-bf5a-2c6657f74135",
   "metadata": {},
   "outputs": [],
   "source": [
    "import json\n",
    "import pandas as pd\n",
    "import numpy as np\n",
    "\n",
    "def jsonToDF(name):\n",
    "    \"\"\"Read a list of sentences from the JSON file, store them in a dataframe\"\"\"\n",
    "    \n",
    "    with open(f\"{name}.json\") as fin:\n",
    "        textList = json.load(fin)\n",
    "\n",
    "    print(textList)\n",
    "\n",
    "    # create a name for each document, based on its category\n",
    "    indexNames = [f\"{name}_{i+1}\" for i in range(len(textList))]\n",
    "\n",
    "    # create the dataframe, it will have one column and one index\n",
    "    df = pd.DataFrame(data=textList, index=indexNames)\n",
    "    df.columns = ['document']\n",
    "    return df"
   ]
  },
  {
   "cell_type": "markdown",
   "id": "d8aa1c82-168e-4c85-81a9-8d8aee69189e",
   "metadata": {},
   "source": [
    "First, let's read the content of all three files:"
   ]
  },
  {
   "cell_type": "code",
   "execution_count": 3,
   "id": "2b054e82-8fb4-48d8-8097-58901204094a",
   "metadata": {},
   "outputs": [
    {
     "name": "stdout",
     "output_type": "stream",
     "text": [
      "['Commit this method to memory for caramelized and crisp yet tender vegetables all year long. The kindest thing you can do for yourself when you’re stiff from being in the cold is to find some warmth: Because as the chill in your bones starts to fade, so does your stiffness. The same thing happens to hard winter vegetables when they’re enveloped in the heat of the oven — they soften and sweeten as they roast until they’re golden outside and tender in the middle.', 'Kenji López-Alt’s buttery, unabashedly garlicky noodles are as easy to make as they are to devour. Good morning. The vernal equinox is in less than three weeks, but you wouldn’t know it from the frosted mud in the woods and the storm-wounded lawns where I stay. It’s bare ugly everywhere save in the bays, where water clear as gin flows over rocks in a spectrum of pink. At the market: cabbage and potatoes, a box of turnips, industrial berries that might have been grown in space. The new season’s coming, sure as tulips, but right now it’s hard to imagine.', 'Just add rice or potatoes (and maybe a chilled white wine). Citrus and salmon is a winning combination, previously proven in New York Times Cooking’s recipes for broiled salmon with mustard and lemon, roasted salmon with ginger-lime butter and citrusy roasted salmon and potatoes. Our newest addition to this esteemed company is Farideh Sadeghin’s recipe for orange-glazed baked salmon. It’s a no-fuss fish dinner with a clever, timesaving twist: Farideh builds a side salad into the recipe by tossing salad greens with some of the reserved honeyed orange juice that is used to flavor the salmon. If you’re looking at the above image and thinking, “I bet blood oranges would be especially beautiful and excellent in this recipe,” know that Coco, a reader, already tried that and can confirm that the results were “absolutely delicious.”', 'It’s a showstopping kaleidoscope of bulgogi, shiitakes, bean sprouts, spinach, carrots and cucumbers, all drizzled with a spicy gochujang sauce. Good morning. On Sunday, I like a project in the kitchen more than on any other day. It’s a chance to work at the stove without the need to get something on the table in 45 minutes, a time to stretch my skill set. Mostly, it’s an opportunity to explore recipes rather than simply following them. On Sundays I don’t want to fly by wire. I want to fly.', 'In the third installment of her YouTube series, the cookbook author and chef Sohla El-Waylly will teach you how to master the basics of the bird. For beginners and experienced cooks alike, preparing chicken can come with a lot of questions (and nerves!). Am I going to get salmonella? How do I butcher a whole bird? Am I doomed to an eternity of dry breast meat? In the third installment of her YouTube series, Cooking 101, the chef and cookbook author Sohla El-Waylly will help you master the basics of the bird, then set you up with a handful of recipes that highlight white and dark meat.', 'Leave it to Ali Slagle to bring brightness and ease to these (hopefully) last deep winter dinners. Congratulations! You’ve made it through February, the shortest — and longest — month of the year. We all get extra credit too, because it’s a leap year. But next time I’d like a leap day in June, please.', 'Sip teas inspired by Frank Lloyd Wright, learn to cook the cuisine of Punjab and more food news. Some cutting-edge appliances like the air fryer may have risen in popularity lately, but the simple sheet pan has become as essential as a cast-iron skillet. In the past, the sheet pan was often called a rimmed baking sheet and used in kitchens to make the cake known as chocolate roulade; it’s now all you need for a meal. New York Times Cooking lists nearly 1,000 sheet-pan recipes, many of them dinners. As Olga Massov and Sanaë Lemoine demonstrate in their new, cheekily titled cookbook, “Hot Sheet,” you can make just about anything but soup on a sheet pan. They take you through breakfast, lunch, dinner and dessert using mainly half-sheets (18 by 13 inches) but also quarter sheets. They discuss materials but, oddly, never mention the issue of warping, which cheaper unreinforced pans are prone to do. The all-in-one recipes like fish over cabbage; chicken with olives, dates and preserved lemon; and also sheet-pan fried rice; roasted carrots; and granola, are the best. Though you can use a sheet pan to roast a whole chicken, duck or rack of lamb, other implements could do the job as well or better, especially when a recipe requires two sheet pans, which seems to miss the point. As for a clafoutis, a pie plate works just fine. Photos of well-used pans with their smudges of dark residue might resonate with home cooks.', 'Higher prices? Fewer places? As several states consider lifting wages for tipped workers, here’s how the shift is already playing out in the nation’s capital. The last few years have fundamentally changed Americans’ relationship with restaurants. As the pandemic made diners more aware of the long hours and low pay built into the business, many began tipping more, donating to employee funds and lobbying elected officials for worker protections.', 'This internet-famous spaghetti with cherry tomatoes and kale lets you cook noodles and sauce in the same pot. Last week, I asked for your favorite brilliant and easy dinners after I shared a new one of mine, Eric Kim’s peanut butter noodles. I got an email from a reader named Lia that was so attuned to the prompt that I’m sharing it here. It’s a no-recipe recipe for roasted salmon, and to me it both reads like a scene from my own kitchen (“check emails quickly if it’s not done yet”) and sounds like it should be dinner tonight:', 'Two restaurants, Marc179 and the Chef’s Counter at Greywind, are open only three days a month. You’ll be able to dine at this pair of new restaurants about as often as you receive your electric bill. Marc Murphy, who is opening Marc179, his first restaurant since 2019, will serve dinners three nights each month in the TriBeCa building that had housed Landmarc and which he uses for private events, TV and photo shoots. “Smaller works for me,” Mr. Murphy said. “I’ve missed interacting with the public and this allows me to be there.” He has redone the space with skylights and seating for 64, and will serve a four-course menu, $75. It will change monthly; the lineup for March is arugula salad, bucatini cacio e pepe, roast chicken breast with mushrooms, and chocolate mousse. A brief wine list of half and whole bottles is gently priced with a bottle of Domaine Drouhin-Vaudon Chablis for $38, a bottle of Mas de Daumas Gassac cabernet sauvignon for $65, a half-bottle of Ridge Lytton Springs zinfandel for $42, and a half-bottle of Krug Grand Cuvée for $110. “I’ve gone from six restaurants and 650 employees to just four, and I can make money here,” Mr. Murphy said. When not serving dinners, the space houses his events company, MM Kitchen Studio. (Opens March 7, 8, 9) Then there’s Dan Kluger with Greywind, a complex near Hudson Yards that has a restaurant, a bar called Spygold and a bakery that becomes the Chef’s Counter three evenings a month. “I need to be there, but I don’t want to take on too much,” Mr. Kluger said. “The space is also used for private events so I can’t overcommit.” The counter has seats for eight people and offers about six courses with various themes, changing each month, with vegetables and proteins in tandem, $185 at 5:45 and 8:15 p.m. Last week’s menu included leek terrine with potato soup and trout roe, and chicken “oyster” with oyster mushrooms. (March 20, 21, 22)', '“This meal was simple, healthy, and so incredibly tasty. I’d eat this every night of my life,” a reader says of my sheet-pan chicken with garlic yogurt. We’ve had a few glorious days of faux spring here in New York City, a balmy omen of sunshine to come. Only a few short weeks of winter to go!', 'Adas polo, a Persian recipe perfumed with cinnamon and layered with caramelized onions and dates, only feels expensive. A bowl of lentils and rice is essential comfort food across so many cultures, be it South Asian khichdi, Middle Eastern mujadara or Greek fakorizo. No matter how traditional recipes differ, combining lentils and rice always results in a dish that’s thrifty, hearty and infinitely adaptable, inspiring as many appealing variations as there are inventive cooks.', 'Ali Slagle’s new carbonara-leaning skillet pasta with bacon and eggs is a quick and easy meal for any time of day. When I’m tired and hungry and there’s nothing promising in the fridge save for a half-dozen eggs, there’s always breakfast for dinner. Scrambled eggs on toast or a crisper-clearing frittata are dependable, self-assuring standbys. And if I also have a couple of strips of bacon, a generous scoop of orzo and a bit of Parmesan, there’s skillet pasta with bacon and eggs, a brilliant new recipe from Ali Slagle. It’s quick, easy and a little luxe — the runny egg yolks mingle with the bacony, cheesy pasta to create a carbonara-leaning one-pot meal. Eat this for Friday dinner with a handful of arugula on the side (for “health”), or for Sunday breakfast with sliced oranges and never-ending coffee.', 'Dates add their rich, molasses-y flavor to roasted fennel and farro salad, blackened broccoli and a pantry friendly Persian lentil rice. On a recent night in the East Village of Manhattan, the Avenue A sidewalk brimmed with chattering bargoers as Tupac’s “California Love” blared from an indeterminable source. A marquee loomed above, and through a veil of vape and cigarette exhaust, its two words beckoned: “DATE SHAKE.”', 'The modern version of jocón incorporates Maya techniques and ingredients, as well as Spanish components. Seven years ago, just as Jorge Cárdenas was about to open Ix Restaurant in Prospect Lefferts Gardens, Brooklyn, he returned to his home in Quetzaltenango, in the highlands of Guatemala, to make sure that his recipes tasted like those his Maya grandmother had taught him to make.', 'Take a tiny vacation in the middle of your day. Back in 2016, shortly after I joined the magazine Bon Appétit as an assistant editor, two of the top editors treated me to lunch. They decided on Augustine, the short-lived, four-dollar-sign Keith McNally restaurant on the ground floor of the Beekman hotel in the financial district.', 'What to cook this weekend: chicken with couscous, dates and buttered almonds; easy roast duck; and a heavy pot of Boston baked beans. Good morning. I’m going hard on the fats and proteins this weekend. That’s not only because it’s still winter, but also because, for many, next week brings the start of Ramadan and its daily fasts that start at dawn and end with iftar, the sunset meal to break the fast.', 'This brown bread recipe, a staple of the Ballymaloe Cookery School in Cork, Ireland, is as satisfying and foolproof as they come. The first time I had brown bread from Ballymaloe Cookery School in Cork, Ireland, was at a welcome lunch for students.', 'With his unique blend of Lowcountry and Caribbean influences, he ranked among the best of a new generation of Black culinary wizards. Max Hardy, who helped bring a new level of chef-driven yet accessible cuisine to his native Detroit, and who was widely considered among the most promising of a young generation of Black culinary stars, died on Monday. He was 40.', 'Hetty Lui McKinnon’s satisfying take on leeks vinaigrette combines silky leeks with a mustardy miso dressing and creamy white beans. I respect leeks. They stand firm and tall above their allium kin, their jade-green tops proudly poking out from your grocery bag. They make you work for them, with all that careful washing to rinse the sand and grit from between their layers. (They’re also, as far as I know, the only vegetable to be constantly carried by a Pokémon.) And leeks are thoughtful — they don’t make you cry as you chop them for your meal. (I’m looking at you, onions.)', 'This stolid supporting player has slowly risen to a starring role in creative restaurants across the country. Some diners, though, may need a little coaxing. If I were a vegetable, I would hire cabbage’s brand manager.', 'Just as your leeks need miso, and as your barley soup could use some kielbasa. Good morning. I’m embracing nostalgia today, luxuriating in memories of a Brooklyn I never experienced, even though I’m borough-raised. Imagine egg creams at the soda fountain, a long trip on the rattan seats of an old-timey subway car, then the mechanical horse races at Coney Island and a visit to Ebinger’s afterward, for blackout cake. See me in my peaky newsboy hat!', 'Fed up with no-shows and last-minute cancellations, restaurants are increasingly charging fees as high as $100 a head. And some diners are pushing back. To celebrate his wife’s birthday in 2022, Brian Azara, a mechanical engineer in New York City, booked a table for two at a Michelin-starred restaurant in Brooklyn. But when their son was suddenly hospitalized with severe asthma, Mr. Azara had to cancel the reservation. A few minutes later, he checked his credit card account and saw a $200 fee.', 'Once the pre-eminent food court in Flushing, Queens, for a variety of regional Chinese cuisines, this mall has reopened after a four-year renovation. And a new Golden Mall in Manhattan is on the horizon. When the Golden Mall opened in Flushing, Queens, in 1990, its patrons didn’t mind getting lost within the maze of vendors in order to find chile oil-slicked noodles, chunky sea bass dumplings or cumin-scented lamb burgers.', 'More weeknight dishes that wow: herby pork larb, sticky chicken with brussels sprouts and shrimp in purgatory. I became a regular at Sofreh the minute Nasim Alikhani first flung open the doors to the chic Persian restaurant in Prospect Heights, Brooklyn. I was irresistibly pulled in by her fragrant platters of duck fesenjan and fish with herbs and tamarind. No matter my order, though, I had to include adas polo ba khorma — Medjool date and lentil rice. A cinnamon-scented mound of soft basmati rice, lentils and dates sprinkled with saffron and rose water and garnished with crisp slivers of fried onion, it was the dish that most haunted me between visits.', 'Why fry when you can freeze? About 1,500 years ago, in the mountains of northern China, you might have found bamboo mats lined with slabs of tofu, resting in the snow overnight. Once frozen solid, “the structure and basic character of the tofu underwent a radical transformation,” William Shurtleff and Akiko Aoyagi wrote in “The Book of Tofu” (1975).', 'The city’s Department of Transportation issued new rules for Dining Out NYC, its official program, and more food news. Like them or not, the outdoor dining sheds that have been an upshot of the pandemic are more or less here to stay. Last week, City Hall and the Department of Transportation issued new guidelines for Dining Out NYC, its official program, and the largest such program in the country. “It’s been a priority for Mayor Adams from Day 1,” said Ya-Ting Liu, the city’s chief public realm officer. Restaurants and other establishments that serve food can now apply for permits to take part through an official portal online. Those that are approved and pay a fee for a four-year license ($1,050) for either a roadbed or sidewalk enclosure have 30 days to remove their temporary structures or outfit them to comply with the city’s rules. The authorized structures can remain in place from April through Nov. 29. Restaurants without approval will have to remove their sheds by Aug. 3; those with a pending application will have until Nov. 1. The city has approved four prototypes designed by WXY Studio to eliminate many of the problems with existing makeshift sheds and to adapt to various roadway and sidewalk configurations. They are being built by SITU, a fabrication company, and are already in place at several restaurants. They are not heated and will supposedly be rat-proof; some models are equipped with solar panels. At Bodrum, on Amsterdam Avenue on the Upper West Side, Huseyin Ozer, an owner, said the 40-foot unit in the roadway outside his restaurant had planters, could be customized with signage, will allow for 16 seats and is easy to disassemble. Hinged floor panels lift to allow for cleaning. Full compliance citywide is expected when the season reopens in April 2025.', 'Ginger-dill salmon, skillet chicken with orzo, dill and feta and (frozen) fava bean stew are herbaceously springy. Spring is so close I can taste it — or at least I’m trying to taste it, as I load up my grocery list with green things like arugula, scallions and leafy herbs. We’re still weeks away from peak spring produce, but you can hustle winter out the door if you lean heavily on ingredients that are available in March but are giving May.', 'Siete serves up vegan Mexican dishes, Tucci brings contemporary Italian into the Delmonico’s portfolio and more restaurant news. With this new venture, the married chefs Angie Rito and Scott Tacinelli, and their partner Michael Stillman’s Quality Branded, aren’t fretting about driving business from their high-profile Italian American restaurant, Don Angie, which opened six years ago just a few doors south. “It’s different, there’s more seafood and we’re being creative with it,” Mr. Tacinelli said. The restaurant’s name is that of the patron saint of Sanza, Mr. Tacinelli’s grandfather’s native village in Campania, Italy. (He was also named Sabino.) The menu, a collaboration by the chefs, has seafood front and center, with scallop crudo, crab and mortadella dip, insalata Louie with dressed shrimp, farfalle stuffed with smoked chili crab, grilled coho salmon, and shrimp Parm with sweet and sour arrabbiata. Cured meats play an important supporting role in several dishes, as spicy capocollo dresses octopus carpaccio and ’nduja seasons stuffed mussels. As at Don Angie, the pastas are all made in-house. The room, lit with slashes of bright gold is seemingly expansive thanks to a mirrored wall. It seats 45 at mahogany tables, some set at toffee-colored leather banquettes. Another 10 seats are at a bar with more curves than the Amalfi Drive.', 'Rick Martinez’s streamlined recipe updates a 1980s favorite for 2024 weeknights. My parents’ initiation into elevated home cooking came by way of Julia Child’s soufflés and coq au vin, but for me the gateway was phyllo triangles and carrot cake from “The Silver Palate Cookbook.” That milestone book, by Julee Rosso and Sheila Lukins, made cooking seem easy, playful and fun, with a lighthearted tone and recipes that captured the fresh and casually stylish zeitgeist of the early 1980s. For better or worse, it introduced an entire generation to arugula, raspberry vinegar and homemade walnut-basil pesto (that last one whirled in a blender).', 'This forgiving and adaptable weeknight dinner stars tender chicken thighs, braising greens and whole garlic cloves. If the overabundance of root vegetables like sunchokes, black radishes and kohlrabies the size of my head is the late-winter scourge of my C.S.A., the steady supply of braising greens is its redemption. No matter how many bunches of curly kale, sturdy collard greens and steely chard arrive each week, there’s always a place on my table for their floppy, verdant magic.', 'In the second installment of Ask Kenji, the cookbook author Kenji López-Alt tackles tough questions about tender meat. In this column, Ask Kenji, the cookbook author Kenji López-Alt answers your questions. This week, he tackles tough questions about yielding tender meat.', 'A new recipe from Hetty Lui McKinnon combines salty halloumi cheese, jarred marinara and harissa for a fantastically easy five-ingredient baked pasta. I found halloumi later in life, and we connected instantly. It’s salty, tangy and squeaky, an underrated quality in cheese. So I’m making up for lost halloumi time with pesto pasta with halloumi, seared halloumi salads and this new five-ingredient baked tomato pasta with harissa and halloumi from the vegetarian cooking queen Hetty Lui McKinnon.', 'A short stay in the freezer removes just enough moisture to create an impressively crisp exterior and pleasantly spongy interior when roasted. To open my freezer door is to ask for trouble. If you’re lucky, you’ll be able to catch the bag of frozen dumplings or compost scraps as it tumbles from the precarious perch atop a lumpy bag of ice. If you’re not so lucky, the batch of 50/50 martinis you made for the party will launch itself from the frozen cannon I’ve inadvertently created and detonate on the tiled floor, as my friend Gabe learned a couple of months back.', 'They’re here today, gone tomorrow. Here are three worth tracking down. Restaurant pop-ups, by their very nature, are ephemeral and hard to pin down. But they can also be destinations for some of New York’s most creative and inspired dining as the chefs that run them aren’t bogged down by the minutiae that plague brick-and-mortar restaurants. Sometimes, pop-ups become popular, permanent restaurants, as in the cases of Saigon Social or L’Appartement 4F or Dame. But most of the time, they appear and disappear and reappear like so many cicadas. (Speaking of, did you know we’re expecting a once-in-a-lifetime double brood this spring?)', 'That way the flavors have time to deepen in the fridge, with plenty of celery root, carrots and parsnips, and lemon juice to make it pop. Good morning. How are you doing? This week marks four years since many of us went into lockdown after the World Health Organization declared the coronavirus to be a pandemic. Amid the fear and illness there would turn out to be, for some, scant pleasures: fragrant, crusty sourdough boules, long walks on quiet streets, seeking beauty amid the darkness. But for many there was simply dread, dread unending, and only pantry meals to mark the passage of time.', 'We’re looking for shoppers to document their habits for a story that will paint a portrait of food purchasing in America today. What someone buys at the grocery store can say a lot about who they are. Who hasn’t peeked into the cart of the person in front of you at checkout and tried to piece together their life?', 'Raoul’s, which he founded, was a celebrity magnet and a neighborhood institution in the 1970s and ’80s. But he had never planned on a life in the restaurant business. Serge Raoul, an Alsatian-born former filmmaker who with his brother, Guy, a classically trained chef, founded Raoul’s, a clubby French bistro and SoHo canteen in Lower Manhattan that drew generations of artists, rock stars, writers, models, machers and movie people — along with those who yearned to be near them — died on March 8 at his home in Nyack, N.Y. He was 86.', 'Four words, a lot of weekend baking delight. I always get a kick from cooking with booze. “Shots!” I’ll announce to nobody in particular as I add the tequila for salted margarita bars. And, without fail, “one for you, one for me” as I deglaze my skillet with a glass of white wine.', 'Boneless beef chuck burbles with maple syrup, caramelized tomato paste, thyme, soy sauce and bay leaves in Vallery Lomas’s bourbon-braised beef. Good morning. Happy St. Patrick’s Day to all those who celebrate. I like corned beef and cabbage myself for the holiday — Irish American food to ship up to Boston with, soda bread on the side.', 'Her Manka’s Inverness Lodge drew actors and writers who dined at Ms. Grade’s farm-to-table restaurant and reveled in her eccentric flair. Margaret Grade, a California neuropsychologist who made a sharp career turn to open a cozy, eclectic inn near the Point Reyes National Seashore that was known for tending to farmers and fishers with the same attentiveness it gave to the film stars and writers who sought sanctuary there, died on Feb. 28 in San Francisco. She was 72.', 'In London, “competitive socializing” transforms pubs into stock exchanges, golf courses and cricket fields for those looking for more elaborate drinking games. “Buy, buy, buy,” a bargoer shouted just after 6:30 on a recent Wednesday evening. He grabbed two shot glasses, vodka sluicing over his hands.', 'The best way to start making homemade sweets? Follow these basic instructions and tips. The poet Emily Dickinson was an avid baker, and, on the back of a recipe card for coconut cake, she wrote these opening lines:', 'My garlicky chicken with lemon-anchovy sauce is a well-loved weeknight classic. If there’s ever a “secret” ingredient to my cooking, it’s probably anchovies. Tossing a few genial fillets into just about anything (salad dressings, eggs, pastas, beans, stews) imbues a salty, funky earthiness that’s not the least bit fishy. Anchovies contribute so much verve for so little effort and expense, and they are — along with garlic and lemon — a key seasoning in much of my weeknight cooking.', 'Peruse vintage home goods from Provence, pick up chocolate-dipped matzo and more food news. The latest hefty volume quarried by the team at Modernist Cuisine, the research kitchen, photography studio and cookbook publisher founded by Nathan Myhrvold, is “Modernist Bread at Home.” It’s a follow-up for nonprofessionals to “Modernist Bread,” published seven years ago. Lavishly photographed with step-by-step instructions for hundreds of breadstuffs, it includes scientific and practical techniques, details about ingredients and even a dozen patterns for scoring a loaf. Recipes are geared to the home cook. As a companion to the 420-page book and a 172-page recipe manual, there is also a series of free monthly email courses. They will be available through August; it is not necessary to own the book, though it will be referenced throughout the courses. “Getting Started With Bread Basics” is running this month, and “Navigating Bread Making From Start to Finish” will be covered in April. Those who enroll will receive one lesson per day in their inbox, for five to seven sessions, as well as a recap.', 'A Missouri high school program teaches students to take freshly killed animals from the field to the classroom and into the kitchen. At Maysville High School in Maysville, Mo., population 1,100, classes can be a little tough for the squeamish. Course work can involve assigned reading and algebra, but also a serious amount of blood and guts.', 'Something about the crackle of the crust, the snap of the bubbles and the salt and spice of the chicken makes for an extraordinary combination. Which came first, the fried chicken or the Champagne?', 'Bright, breezy recipes to welcome spring. I am not one for spring cleaning, but I am one for spring cooking, throwing open the windows and airing out those stewy winter cooking habits. Whether I’m loading a skillet with everything green (like this herb-laden chicken dinner) or cranking up the grill on the first 60-degree day (hello, flank steak), I’m breezily banishing all thoughts of winter. Even the crispy coconut shrimp dish below is shouting “spring break!” ', 'The chef Vikas Khanna serves a menu that covers Kashmir south to Kerala. The chef and cookbook author Vikas Khanna, whose New York debut many years ago was at the Michelin-starred Junoon, now has a place to call his own here. He and his business partner, Jimmy Rizvi, who owns GupShup and other restaurants, settled on the East Village. “The space is so unassuming but unforgettable when you walk in,” Mr. Khanna said. He could not resist the flight of steps going down from the street level, which reminded him of the entrance to the famous Golden Temple in Amritsar in his native Punjab in the north of India. “It makes the entrance surprisingly majestic,” he said. Then why call it Bungalow? In the India of the Raj, bungalows were aristocratic dwellings. First there is a bar area with tables, then a semi-open kitchen and beyond that a spacious dining room, the rear portion of which has greenery and a skylight. The menu trawls Indian cooking from Kashmir south to Kerala, with dahi puri stuffed with lentils from Varanasi, a Kashmiri dish made with lotus roots, a tart Jewish-Indian chicken curry Chitranee, malai chicken with cheese, Muslim saffron bread called sheermal, Rajasthani pulled lamb, and spicy shrimp balchão, which has Portuguese roots. Classics like chicken biryani are also on the menu. Mr. Khanna, who lives in New York, plans to spend most of his time on the premises. “It’s my dream,” he said.', 'Ham El-Waylly’s fast, easy recipe has the creamy texture of an Alfredo and a bright, herbal tang that’s perfect for spring. Hello from the road! I’m scouting for part of our annual national restaurant list, eating nonstop at a slew of new-to-me places. As inspiring and fun as this is — and wow is it ever — it can also be a little overwhelming. Trips like these make me miss the simple meals I cook in my own kitchen.', 'This traditional dish, heady with spices and deeply satisfying, serves as a reminder of survival and possibility. There’s something distinctly satisfying about messy food: sauce dripping down the side of your mouth, juices drizzling across your fingers. It’s the experience you might have when eating a taco or a burger. And it’s most definitely the experience of eating doubles.', 'A fragrant mash-up of shakshuka, eggs in purgatory and egg curry, this easy one-pan recipe can be made with pantry ingredients you probably already have on hand. Poaching eggs in a simmering tomato sauce is a classic path to a quick, meatless meal. Be it an oniony shakshuka or chile-flecked eggs in purgatory, the mix of tangy-sweet tomatoes swirled with runny egg yolk is a perennial crowd-pleaser, as welcome on the table for a steamy Easter brunch as it is for a cozy dinner on any chilly evening.', 'For Ecuadoreans, fanesca, a labor-intensive soup served just during the lead-up to Easter, is a staple of Holy Week festivities. More than 40 years ago, a statue of the Virgin of El Quinche was brought to the United States by a family from Ecuador. To celebrate its arrival at the now-shuttered St. Ann’s Church in Lower Manhattan, Rosa Cartagena and a team of women started a new tradition at the church: making and selling fanesca, a soup so labor-intensive that it is served for only a limited time during the Lenten season.', 'The century-old club, in Helena, had a celebrated Black bartender and a membership of Montana’s biggest movers and shakers. The Montana Club, a celebrated bar, dining room and gathering place in Helena that was founded by frontier movers and shakers in 1885 — four years before Montana became a state — will close its doors after one final toast on March 29.', 'Recipes for when you want fancy-Friday vibes but have meh-Monday energy. Granted, I was born and raised in California, but I will always consider the roast chicken from Zuni Café, in San Francisco, to be the platonic ideal of a Fancy Chicken Dinner. So my Zuni senses were tingling when I saw Melissa Clark’s new recipe for herby skillet chicken with greens. It hits all the necessary notes: crisp skin, tender meat, sturdy greens and scallions dressed in garlicky chicken drippings made just puckery enough with something acidic (in this case, lemon).', 'Sweet potatoes with tahini butter, coconut saag and broccoli aligot are delicious at any age. This is Tejal, filling in for Tanya — hello! I’ve missed you! I just got back from parental leave, which means that I’m now strategizing and scheming about what I’m going to eat each day with a sweet, sticky, roly-poly 6-month-old baby.', 'Are they more “Better Call Saul” or “How I Met Your Father”? When I was in second grade, my elementary school principal convinced my parents that children should not watch TV on weekdays. Naturally, I developed a crippling, lifelong obsession with television.', 'This classic Jamaican treat is bold, bright and vibrant, and central to the holiday. For many Jamaicans, spice bun is a staple of Lent, the 40-day period before Easter marked by prayer, penitence and restraint, for those observing. But there’s nothing restrictive about this baked good, so named for its bold seasonings.', 'For the illustrator Paul Karasik, an Italian salesman’s ingenuity led to a surprising discovery. Follow New York Times Cooking on Instagram, Facebook, YouTube, TikTok and Pinterest. Get regular updates from New York Times Cooking, with recipe suggestions, cooking tips and shopping advice.', 'Satisfying dishes that invite improvisation. Good morning. Perloo (above) is a dish you’ll find all over the Lowcountry of South Carolina, a tomato-stained one-pot rice stew with roots in West Africa.', 'Recipes for those gray, not-so-springy days: skillet eggs with garam masala and tomatoes, braised chicken with salted lemon, sweet potato shepherd’s pie. I started buying eggs by the 30-pack in quarantine and never stopped. If there’s eggs in the fridge, I can put dinner on the table: baked eggs, eggs kejriwal, kimchi eggs, romesco eggs. (For context, there’s only two of us in this household. We just really love eggs.)', 'Make these all-purpose biscuits today and they’ll be terrific. Make them three weekends in a row and they’ll be the best biscuits ever. Good morning. If you make biscuits (above) today — and you ought to — they ought to be terrific. But if you make biscuits today and do so again next weekend and the weekend after and the weekend after that, they will be terrific, the best biscuits ever. This is a matter of practice related to what martial artists call kata — a set pattern that rewards repetition with excellence.', 'They’re popping up all over the dining world: huge, elaborate arrangements of faux blossoms and plants — many of them the work of one enterprising man. Marigolds don’t generally thrive in 30-degree weather. Yet on a cool March afternoon, they bloomed in golden bunches outside Bungalow, a new Indian restaurant in the East Village. The petals appeared perky and thriving, as did the man, Carlos Franqui, expertly twisting them into a colorful archway that crawled around the entrance.', 'And plenty more minimum-effort, maximum-rewards dinner ideas. Hang on to your hats, because Hetty Lui McKinnon has done it again. Why do we all go so nuts for Hetty’s recipes? Because she somehow manages to coax maximum character out of minimal ingredients, techniques and prep work. Her creations are always satisfying and never fussy, a true boon for busy people who care deeply about what they cook.', 'This spring menu — a showstopping frittata, a snappy salad and a chewy cookie from a celebrated restaurant chef — isn’t just surprising. It’s surprisingly simple. No matter what’s going on outside, by the end of March, it can be pretty much spring in the kitchen. It’ll probably be a few weeks until the season’s produce trickles in, but this shouldn’t stop you from making a meal that feels jubilantly of the moment.', 'Snacking for the Masters, a benefit for a culinary careers program and a fond farewell to this column. Add cassava to that wardrobe of tortillas. A new line, Coyotas, is an alternative to flour tortillas. It uses gluten-free organic cassava flour and organic coconut oil with only water and salt. The result behaves like flour tortillas, holds up well with fillings and comes in three sizes: small for tacos, medium for larger tacos and quesadillas, and large for burritos and other wraps. The company, based in San Diego, was started by Janet Flores Pavlovich, a native of Hermosillo in Sonora, in Northern Mexico, where the flour tortilla reigns. She learned to make them in her hometown and while she was at it, innovated by using cassava flour. And in one of those felicitous culinary accidents like the Toll House cookie, wound up with a gluten-free product. There are 12 in a pack of small, eight of medium and six of large; three packs for $37.50.', 'Eric Kim’s bacon and egg don is extremely delicious, and extremely simple. If you eat meat, or have ever eaten meat, then I probably don’t need to mount an argument for bacon, a food so powerfully appealing that science has sought to explain the reasons why. Bacon is transformative in cooking, elevating other ingredients that share the bun, pan or plate. That, of course, includes eggs, which don’t need bacon’s help to be delicious, but become even more so in a New York-style breakfast sandwich or a bowl of spaghetti carbonara.', 'A seafood bar opens above Claud, the former chef of Maharlika and Jeepney turns to Italian cuisine, and more restaurant news. It took Riccardo Giraudi, the Monte Carlo native with a global empire of Beefbars and other brands, 20 years to finally open a restaurant in New York. The TriBeCa space that had housed the original Nobu is now fitted with plush upholstery and 90 seats, an open kitchen and a separate bar area in the former Nobu Next Door. Mr. Giraudi, whose family has been in the wholesale meat business in Monaco since 1968 and whose restaurants in Europe showcase American beef with great success, is in partnership in the United States with Tribeca Hospitality Group, for which this is their first venture. “If this works we have a huge opportunity in the United States,” said Aqib Rahman, who owns the group with other family members. Like many newly minted steakhouses, the owners insist this is “not a traditional steakhouse.” But just like the others there’s an emphasis on seafood. Other choices include items like a Black Angus kathi roll, Kobe beef gyozas, tuna rib-eye with shiso chimichurri, and Korean-style skirt steak. “There’s no sense in just bringing American steaks back to New York,” Mr. Giraudi said. Traditional cuts of Wagyu and Black Angus are served. The executive chef is Peter Jin. (Opens April 4)', 'Irresistible honey-and-soy-glazed chicken thighs, a springy Easter menu and a one-pot dish sure to please. Some ingredient combinations are positively alchemical, imbuing dishes with a sublime character inexplicably greater than the sum of their parts. Garlic, red chile flakes and lemon is one such mixture; honey, soy sauce and ginger is another. You can add almost any protein or vegetable to these and be guaranteed a dinner worth its weight in gold.', 'Using canned artichokes and frozen peas keeps this fresh meal simple to make all year long. Of all the reasons I fantasize about moving to Rome, the availability of precleaned artichokes is near the top of my list.', 'Sheet-pan japchae makes easy work of caramelizing a rainbow of vegetables before tossing with noodles. Hello! It’s Eric Kim, reporting for duty and filling in for Mia Leimkuhler this week. How are we doing today?', 'It can star in a creamy pasta or casserole, or be the understudy to kale in a spring minestrone. For almost two years, I had managed to avoid a New York inevitability: attending an improv comedy show. That streak came to an end this month.', 'Cheap, unfussy and adaptable, these lentils call up warming memories of home and family for many South Asians. One of my favorite Hindi terms is “ghar ka khaana.” It literally means “home food,” but it also encompasses the singular joy and unfussiness of meals made in your own kitchen — the dishes that remind you of childhood, the ones you won’t often find in restaurants.', 'Cabbage, crema, pico de gallo and a spritz of lime, please? In the business of reporting on and reacting to culture — whether it’s theater, film, music, books or restaurants — eventually something you write will end up in promotional advertising.', 'There’s more to Austrian wines than grüner veltliner. Its reds range from juicy and refreshing to satisfyingly complex. Austria is best known for its white wines, grüner veltliners and rieslings primarily. But it also produces brilliant reds, which, because they often seem like afterthoughts, can be great values.', 'Not for you? There’s always carrot maqluba, or a no-recipe recipe for kielbasa with pierogies. Good morning. What I smelled during a 10-minute bicycle ride today: wood smoke, diesel exhaust, grass, frying bacon, rotting wood, bleach, balloon rubber, dollar pizza, a tendril of burning weed, the sharpness of electrical ozone, cart coffee and, last, the strong, sweet scent of lilies — Easter in the air. Good Friday!', 'Whether for a casual cookout or an elegant dinner party, these impressive recipes are easy to pull off. After the quiet winter months, spring heralds the return of longer days and gathering over leisurely meals. The best dishes for those get-togethers are the ones that feel celebratory enough to serve to guests, but are simple enough to ensure you’re not spending all day in the kitchen.', \"Because you'll definitely need fuel for the dance floor. Because you'll definitely need fuel for the dance floor.\", 'In the South, many Black families have made and eaten chew bread — a dessert similar to a blondie — for generations. In the early 1950s, Lucinda Moore founded a church ministry from her home in Blount’s Creek, N.C. The property anchored the charity work she became known for: nursing sick people back to health in her house, giving needy people the clothes that hung in her closet, leading religious ceremonies in the church she helped build in the backyard and cooking dozens of meals every Sunday with staples like fried chicken, macaroni and cheese, candied yams and a favorite of the congregation, chew bread.', 'Are you team raisins or no raisins? On the subject of raisins in carrot cake, the food writer Allison Robicelli once wrote for Taste Cooking, “They don’t just get to show up in desserts, acting like they belong there when they have no business stepping outside of the world of trail mix.”', 'Deviled eggs, for sure. Maybe pickled eggs, cured with beets, vinegar and sugar, too? Good morning. I had a lovely run of Brooklyn sandwiches going, before work, school and Easter intervened to send me back to the kitchen. There was a classic Saigon-style bánh mì from Ba Xuyen in Sunset Park. A colossal roast beef, fried eggplant and mozzarella hero from Defonte’s in Red Hook, with hot peppers, gravy and mayonnaise. A ton-katsu sando on pillowy milk bread from Taku Sando in Greenpoint.']\n",
      "['The celebrated Broadway performer, director and choreographer is asking $2.3 million for the apartment at 414 East 52nd Street, one of two he owns in the same co-op complex. Tommy Tune, the Broadway song-and-dance man, is selling a penthouse at the Southgate, a prewar co-op complex designed by Emery Roth on a quiet cul-de-sac facing the East River.', 'If lack of cash is keeping you from buying a house, you may have options. If lack of cash is keeping you from buying a house, you may have options.', \"Take a look at major residential real estate listings and sales, including Kathy Hilton's Hamptons home. Take a look at major residential real estate listings and sales, including Kathy Hilton's Hamptons home.\", 'Single men traditionally get a head start in homeownership and reap the benefits faster, but single women are thinking creatively to close the gap. Rachel Rodman always dreamed of owning her own home, but life kept getting in the way.', 'Your mortgage lender can sell the servicing of your loan to a different company. You can’t stop that, but you can protect yourself. Q: Here at Ask Real Estate, we recently received a reader’s question about poor treatment by mortgage servicers. Many first-time home buyers don’t realize that the lender that approves their mortgage could turn around and sell the servicing rights to a company they’ve never heard of. Now the homeowner might have to deal with a mortgage servicer that has bad customer service, charges late fees when it shouldn’t, or makes needless demands on borrowers. How can you protect yourself from having to do business with a bad mortgage servicer?', 'Many artworks commissioned by the rich and powerful for their final resting places have rarely been seen by the living for the last century. On a sunny Bronx morning late last year, an all-star team of stained-glass experts prepared to enter a dank 1894 tomb at Woodlawn Cemetery that had been opened just once in the past century.', 'During the quarantine, a couple worked hard on an application for the city’s housing lottery, and their efforts paid off: a two-bedroom for $1,241 a month in Long Island City. When the pandemic began, Susannah Dalton and José Ignacio Vivero were living in a basement apartment in Sunnyside, Queens. “It wasn’t bad during Covid,” Ms. Dalton said, “because it had a strong bunker feel and that was the vibe back then. This was back in the early days when we were, like, Windexing groceries.”', 'A midcentury-modern retreat in Palm Springs, a hillside house in wine country and a three-bedroom home with a guesthouse and recording studio in Topanga. This 1957 house was designed by William Krisel, a prolific local architect, and has been owned by the same family for four decades. It was recently renovated, and additions included new appliances and cherry-wood cabinets in the kitchen and round soaking tubs in the bathrooms.', 'A division of Mr. Buffett’s conglomerate was added to a string of defendants in an antitrust lawsuit that alleges brokerages inflated commissions that home sellers were forced to pay. HomeServices of America, the largest residential real estate brokerage in the United States and owned by Warren E. Buffett’s Berkshire Hathaway Energy, is now at the center of a nationwide antitrust lawsuit with potential implications on the structure of real estate commissions nationwide.', 'Even a quarter of a century ago, the one-bedroom bungalow was a bargain. Several renovations later, it’s the home of their dreams. Even a quarter of a century ago, the one-bedroom bungalow was a bargain. Several renovations later, it’s the home of their dreams.', 'The Philadelphia rowhouse once owned by the jazz musician will be restored through funds provided by the African American Cultural Heritage Action Fund and the Andrew W. Mellon Foundation. The American jazz musician John Coltrane bought a three-story brick rowhouse in Philadelphia’s Strawberry Mansion neighborhood in 1952, using it as his primary residence or a stopping point when on tour until he died in 1967.', 'Even a quarter of a century ago, the one-bedroom house was a bargain in Los Angeles. Several renovations later, it’s the home of their dreams. As families grow and space needs change, the conventional move is to trade one home for another. Rebecca Rudolph and Colin Thompson would say it doesn’t have to be that way.', '‘Lemons and limes are really great houseplants,’ said the owner of a rare-plants nursery in Connecticut — if you choose the right ones. Shattering the glass ceiling isn’t always a goal — not if you’re a certain beloved lemon tree growing in a Victorian-era greenhouse.', 'A hillside home of Spanish architects has a skin made of colorful tubes. Lucía Cano and José Selgas are architects who have no fear of color. Founders of the studio SelgasCano in Madrid, they designed a conference center in Cartagena, Spain, that looks like a translucent organ glowing orange from within as if it were coursing with alien blood. Their Serpentine Pavilion — one of the famed temporary experimental structures displayed in London each summer — was a sprawling, tentacled cocoon with misty rainbow bands.', 'Buildings made shaggy with vegetation or fragrant with wood are no longer novelties. In the lineup of climate villains, architecture towers above many. The building and construction industries account for some 37 percent of worldwide carbon dioxide emissions, according to the United Nations Environment Program. Three of the most commonly used building materials — concrete, steel and aluminum — generate nearly a quarter of all carbon output.', 'A cottage in Southwest Harbor, a two-bedroom condominium in Miami Beach and a four-bedroom bungalow in Seattle. This house is in Southwest Harbor, a small town on Mount Desert Island. It is less than a five-minute drive from the popular campgrounds, hiking trails and beaches in Acadia National Park, and about the same distance from the late 19th-century Claremont Hotel and from a drugstore, a coffee shop and several seafood restaurants on Main Street.', 'Homeowners are adding hidden doors and rooms to foil burglars, eke out extra storage space and prepare for Armageddon. Tabitha Kane is a co-host of a true crime podcast so it might not come as a complete surprise to learn that when she and her husband were planning a new house for their family in Dallas, she cooked up the idea of adding a secret room.', 'Respecting your neighbor’s privacy is a friendly instinct. But you might have to get aggressive to ensure everyone else’s well-being. Q: I am on the board of a small co-op in Manhattan. One of our residents is very private, and possibly a hoarder. He refuses to allow anyone to enter his apartment, even the super. The managing agent has tried contacting this resident by phone and by letter so he can investigate a foul smell that is likely coming from the apartment, but the resident does not respond. The resident’s family member who has helped us in the past has been unreachable. How do we respect this person’s privacy while also making sure that his apartment isn’t disturbing others?', 'This week’s properties are a two-bedroom in Pound Ridge, N.Y., and a four-bedroom in Ridgefield, Conn. A two-bedroom, two-bath, 1,805-square-foot home built in 1940, with a living room that has a lavish stone fireplace and floor-to-ceiling windows, a kitchen with a breakfast nook, a cozy formal dining room, a bright family room with bay windows facing the yard, a basement with a gym, a breezeway to a two-car heated garage, a large bluestone patio, a built-in firepit, a heated in-ground gunite pool and a large converted barn with living space, on 2.36 acres. Bonnie Stein, Julia B Fee Sotheby’s International Realty, 914-262-0915, williampitt.com', 'Nationally, one-year rent increases have leveled out, but local conditions may vary. On the national level, rental rates have flattened over the past year — which is good news following the head-spinning increases of 2022 into 2023. But as Zumper’s February rent report points out, how much a renter should expect to pay in 2024 is highly dependent on where they live, with a record amount of new inventory in Western and Southwestern regions offset by low-supplied markets in the Midwest and Northeast.', 'This week’s properties are in Harlem, Chelsea and Bedford-Stuyvesant. A one-bedroom, one-and-a-half-bath, 900-square-foot garden-level duplex with a large foyer, an eat-in kitchen with an integrated dishwasher, a full bathroom, a bedroom and a balcony on the first level; and a living area, office nooks, a half bath, a washer and a vented dryer hookup on the lower level; plus a private backyard, ample storage and mini-split heating and air-conditioning, in a five-story prewar building with a virtual intercom. Laura Cook, Keller Williams NYC 917-935-8140; kwnyc.com', 'A couple loved living in Sea Gate, Brooklyn, so much that they wanted to share the experience with others. So they looked for a distressed property they could restore and rent to a low-income tenant. A couple loved living in Sea Gate, Brooklyn, so much that they wanted to share the experience with others. So they looked for a distressed property they could restore and rent to a low-income tenant.', 'A cottage in Nunhead Green, a two-bedroom apartment in Wapping and a three-bedroom duplex in Kingsland Basin. This updated house, with a traditional Victorian exterior and contemporary interior, is on a quiet street in Southeast London’s Nunhead Green Conservation Area, close to a small village area with a new community center, fish store, greengrocer, deli and pubs. The London skyline is visible from the parklike Nunhead Cemetery. Neighboring Peckham Rye has an expansive park and common area with a Japanese garden, sports facilities, cafes, bars, restaurants and shops.', 'Dividing the marital home in divorce can be a financially and emotionally fraught experience. As soon as she knew her husband wasn’t coming back, Terri Martin logged onto Facebook Marketplace and bought a 1949 General Electric refrigerator for $5. Her marriage might be over, she thought, but her relationship with her home certainly wasn’t.', 'When a neighbor left her a fortune, she didn’t buy a bigger house. She turned her cottage into a place where Marie Antoinette might have felt at home. When a neighbor left her a fortune, she didn’t buy a bigger house. She turned her cottage into a place where Marie Antoinette might have felt at home.', 'When a neighbor left her a fortune, she didn’t buy a bigger house. She turned her cottage into a place where Marie Antoinette might have felt at home. Bonnie McIlvaine has lived in three homes in San Diego County, all on the very same spot.', 'Alloy Development decided to keep gas appliances out of its new building, 505 State Street, for sustainability. The rule that would have required that move goes into effect in 2026. In an ever-changing Downtown Brooklyn, high-rise apartment buildings nearing completion are a familiar sight. But there’s something a bit different about the one at 505 State Street.', 'A three-bedroom house in Glendale, a Craftsman bungalow in San Francisco and a two-bedroom condominium in a gated retirement community in Carmel. This recently updated house is on a sloping street in the Woodbury neighborhood, about a five-minute drive from public elementary, middle and high schools, and 10 minutes from the Americana at Brand shopping center and the Glendale Galleria mall.', 'When the writer built a dream home for his family, he forgot to include one important thing: a place to write. So he found an unconventional solution. When the writer built a dream home for his family, he forgot to include one important thing: a place to write. So he found an unconventional solution.', 'When the writer built a dream home for his family, he forgot to include one important thing: a place to write. So he found an unconventional solution. The cedar-shingled house that Andre Dubus III built for his family in the seaside town of Newbury, Mass., has four levels that sprawl across 6,000 square feet, with plenty of rooms that could have made a nice writer’s office. But Mr. Dubus plies his trade down in the mechanical room, near the exercise equipment and the boiler, in a lofted space that he built himself out of plywood.', 'An A-frame cabin in Greene County, a renovated bungalow in Columbus and a 1911 home outside Philadelphia. This house is five minutes from Prattsville, a Greene County town with a diner, a tavern and a grocery store, and a 10-minute drive from a number of Catskill Mountains hiking and biking trails. Hunter Mountain, a popular ski resort, is 20 minutes away. The town of Catskill, on the banks of the Hudson River, is a 45-minute drive.', 'This week’s properties are a six-bedroom in Chatham, N.J., and a five-bedroom in Scarsdale, N.Y. A six-bedroom, five-and-a-half-bath, colonial-style house built in 1977 and renovated and expanded in 2008, with a new chef’s kitchen that has two islands and high-end appliances, a family room, a great room with a retractable movie screen and gas fireplace, formal dining and living rooms, a primary bedroom suite with an adjacent office, an au pair suite, a finished basement, two laundry rooms and an attached two-car garage, on 0.52 acres. Debbie Woerner, Coldwell Banker, 973-500-3032; coldwellbanker.com', 'This week’s properties are in Morningside Heights, Murray Hill and Williamsburg. A one-bedroom, one-bath, 810-square-foot apartment with an open floor plan, a breakfast bar, a large marble bathroom with a double vanity, a walk-in closet, casement windows, central air-conditioning and a washer/dryer, on the 10th floor of a 41-story doorman new development with a live-in resident manager, super, porter, basement storage, private parking garage and three floors of amenities including a gym, swimming pool, children’s playroom and library. Danika Dorsey, Corcoran Sunshine Marketing Group; 212-246-2100, corcoran.com', 'More than a third of U.S. homeowners plan to stay in their homes forever, according to a new survey. As if it weren’t difficult enough to find a home to buy these days, a new study reveals that more than a third of all American homeowners plan to stay in their current homes forever.', 'With a new job at Bryn Mawr and a grandchild on the way, an academic looked for the things she couldn’t afford in Manhattan: more space, more green, more parking. With a new job at Bryn Mawr and a grandchild on the way, an academic looked for the things she couldn’t afford in Manhattan: more space, more green, more parking.', 'A 108-block sidewalk restoration project led by the Central Park Conservancy balances historical aesthetics with modern needs. The sidewalks surrounding Central Park were designed to help you escape.', 'An industrial loft in La Villette, a former workshop in Sainte-Avoye and an updated apartment with 19th-century touches on Île Saint-Louis. This two-bedroom loft is in the vibrant La Villette district, formerly a neighborhood of slaughterhouses in northeast Paris that has been undergoing redevelopment since the 1980s. The 136-acre La Villette Park, with concert halls, museums, theaters, event spaces and other cultural venues, is less than 10 minutes away on foot. A comparable walk in the other direction arrives at the Bassin de la Villette, the largest artificial lake in Paris, and a bohemian area offering shops, restaurants and bars, boating and other attractions.', 'Jeremiah Brent, the newest cast member of Netflix’s “Queer Eye,” shows how he styles the shelves in the home he shares with his husband, Nate Berkus. In a public library, styling a bookshelf is easy: Just fill it with books. At home, a bookcase needs to do a lot more than hold books.', 'Interior designer Jeremiah Brent offers guidance on how to style bookshelves. Interior designer Jeremiah Brent offers guidance on how to style bookshelves.', 'The influential National Association of Realtors agreed to make several changes to its policies to settle class-action lawsuits brought by home sellers who say they were forced to pay inflated commissions to real estate agents. In the early hours of Friday morning, the National Association of Realtors agreed to a global settlement deal that would resolve several lawsuits against the trade group.', 'The National Association of Realtors will pay $418 million in damages and will amend several rules that housing experts say will drive down housing costs. American homeowners could see a significant drop in the cost of selling their homes after a real estate trade group agreed to a landmark deal that will eliminate a bedrock of the industry, the standard 6 percent sales commission.', 'The law permits landlords to make upgrades in rent-stabilized units, but that doesn’t mean your rent has to go up. Q: I am a senior citizen and have lived for almost 50 years in a small building in Queens. My apartment is the only rent-stabilized unit in the building. The landlord is installing a new heating system in the building, which will involve major work in my apartment to install new pipes. The current system works well, and it appears the installation of a new system is mainly to bring in more rent for the landlord. Do I have to allow this work in my unit? Will my rent increase once the new heating system is functioning?', 'The National Association of Realtors has agreed to change its policies to settle several lawsuits brought by home sellers — a move that could reduce commissions. A settlement reached this week threatens to strike a blow to an established standard of residential real estate: the 6 percent sales commission. It also will change who pays it. The deal, reached after a yearslong court battle initially brought by a group of home sellers in Missouri, calls for the powerful National Association of Realtors, which has long regulated the way U.S. homes are sold, to amend its rules on how Realtors for sellers and buyers are compensated.', 'One quarter of residents in the French capital live in government-owned housing, part of an aggressive plan to keep lower-income Parisians — and their businesses — in the city. The two-bedroom penthouse comes with sweeping views of the Eiffel Tower and just about every other monument across the Paris skyline. The rent, at 600 euros a month, is a steal.', 'After renting their first New York apartment sight unseen, they decided to take a new place in the South Bronx with eyes wide open. Altin Sencalar’s timing could hardly have been worse.', 'A Victorian-style home in San Rafael, a ranch house in Santa Barbara and a Spanish-style home in Los Angeles. This house was built to replace a Victorian house that burned down 100 years after it was built on this lot, and the designers attempted to recreate as many Victorian-era details as possible. It is about a mile from the center of the city, putting it within a five-minute drive or a 20-minute walk of shopping, dining and the Smith Rafael Film Center, an Art Deco theater showing independent films.', 'For one Brooklyn family, color was all-important. So was renovating on a budget. For one Brooklyn family, color was all-important. So was renovating on a budget.', 'For one Brooklyn family, color was all-important. So was renovating on a budget. As Giovanni Botta and Amanda Pinegar began planning their renovation of the house they bought in Prospect-Lefferts Gardens, Brooklyn, they knew one thing for sure: The kitchen would have to be pink.', 'New changes to the way homes are bought and sold are causing confusion among buyers, sellers and real estate agents. We want to hear your experience of selling a home in New York City in 2024. In the aftermath of the recent legal settlement calling for the National Association of Realtors to amend its rules on how Realtors are compensated for a home sale, many home buyers and sellers across the United States are wondering how the changes will affect them.', 'The architect of Bergen, in Boerum Hill, is Frida Escobedo, who recently landed the commission to redesign a wing of the Metropolitan Museum of Art. To fit into Boerum Hill, Brooklyn, known for its brownstones and low-key style, new buildings must follow a pattern: be stately but not flashy, and above all honor the integrity of the neighborhood.', 'A three-bedroom condominium in an Edwardian house in San Francisco, a Craftsman bungalow in Tampa and an 1881 home in Providence. This floor-through apartment is in a building near Mission Dolores Park, one of the city’s most beloved outdoor spaces, with picnic areas, a playground and tennis courts. It is also just a few blocks from Mission San Francisco de Asis, a late 18th-century Spanish-style church; Roxie Theater, one of the city’s oldest continuously operating movie theaters; and the popular Tartine bakery. Public elementary, middle and high schools are within a 15-minute walk.', 'Many U.S. homeowners are staying put rather than selling, even if they’d prefer to move. These days, renovating may be a better bet. If you bought a home before mortgage rates shot up to their current levels, congratulations — you’re probably paying much less each month than you would if you moved today and borrowed again. That’s why so many homeowners are staying put, even if they’d prefer to move. ', 'This week’s properties are Lenox Hill, Yorkville and Holliswood. A roughly 500-square-foot studio apartment that has a windowed kitchen with a dishwasher, a dressing room, a windowed bathroom, an electric fireplace, large tilt-and-turn windows and through-the-wall air-conditioning, on the 16th floor of a 17-story doorman building with a live-in resident manager, porters, shared laundry, bike storage, basement storage lockers and a package room. Lisa Chajet, Coldwell Banker Warburg, 212-439-5199; cbwarburg.com', 'This week’s properties are a five-bedroom in Old Westbury, N.Y., and a three-bedroom in Riverside, Conn. A five-bedroom, four-and-a-half-bath house from 1953, with an entry foyer, a formal dining room, an eat-in kitchen, a sunken living room with a fireplace, a family room, an en suite primary bedroom, a finished lower level with a fireplace and access to the backyard, and a two-car garage, on one acre. Lois Kirschenbaum, Daniel Gale Sotheby’s International Realty, 516-526-7425; danielgale.com.', 'Most real estate agents in the city are not affiliated with the National Association of Realtors. Here’s how the group’s recent blockbuster settlement will affect buying and selling homes in New York City. Last week, the National Association of Realtors settled a series of lawsuits brought by home sellers, agreeing to pay $418 million in damages and eliminate its longstanding rules on broker commissions. The deal, which still needs a federal court’s approval, would eliminate the standard 6 percent commission on home sales and pave the way for a system in which sellers no longer pay the entire commission.', 'Unable to afford a single-family home near their jobs, a young family took a chance on a mobile-home park near the beach. Here’s what they found. Unable to afford a single-family home near their jobs, a young family took a chance on a mobile-home park near the beach. Here’s what they found.', 'Entire sections of this tiny New York City home can shift and change, depending on the time of day and what the occupants need. Once Michael Mance and Shannie Easterby adopted a child, it didn’t take long to realize that a 400-square-foot apartment wasn’t going to work for them anymore.', 'Customers raised $250,000 to save Boris & Horton from closure. Now its owners are negotiating with landlords and working to stay open with changes to their business model. A triumphant mood hung in the air at the East Village cafe Boris & Horton, as good boys and good girls scampered, barked, sprawled and ogled an array of treats.', 'The art dealer has listed his West Village duplex, which he pieced together from three apartments, for $5.5 million. (And, yes, the contemporary art and furnishings are also for sale.) For the last several years, the gallery owner Leo Koenig has been busy creating his own work of art: his West Village home.', 'An A-frame lakefront chalet in La Minerve, a ski-in-ski-out condo in Mont-Tremblant, and a modern house in a development in the village of La Conception. Set on the shore of Lake Chapleau, a popular fishing spot, this peaked-roof chalet is in La Minerve, a municipality in the Laurentians region of Quebec. Mont-Tremblant, with its ski resorts, golf courses, dining and private airport, is about 30 miles southeast. Hiking and snowmobile trails crisscross the wooded terrain around the property. A commercial strip with a supermarket, bakery, hardware store and library is about a mile north. Montreal is about 109 miles southeast.', 'As long as this dog isn’t biting people, it’s probably not going anywhere. But that doesn’t necessarily mean you have to live with the noise. Q: My husband and I have lived in a co-op in Westchester County for 37 years. It’s a three-story building that prohibits dogs as pets, and we’ve always had a great relationship with the other residents. But nine months ago, our upstairs neighbors acquired an emotional support dog for their teenager. The dog runs back and forth for 30 minutes at a time. At least three nights a week, it scratches a bedroom rug, waking us up throughout the night. We have shared our concerns with the neighbors, asking them to crate the dog at night and walk him when he’s rambunctious. They seemed receptive, but the problem persists. How can we balance the rights of people to have emotional support animals with our right to live peacefully?', 'Real estate experts say that getting a judgment is a lot easier than foreclosing on a major piece of real estate. And pinning a value to Trump’s buildings is a guessing game. Rejected by more than two dozen bond companies, Donald J. Trump has so far been unable to come up with the nearly half-a-billion dollar penalty owed by Monday in his civil fraud trial.', 'Economists and real estate experts warn that changes in how agents are paid could have unintended consequences for people buying their first homes. With a landmark legal settlement poised to upend a decades-old norm that has dictated who pays real estate agents and how much, economists, agents and lenders are beginning to worry that the burden could now be on first-time home buyers.', 'A two-bedroom condominium in San Francisco, a three-bedroom cottage in Los Angeles and a ranch house in San Luis Obispo. This condominium is in Cow Hollow, a few blocks from the Fillmore Street shopping corridor and from walking trails winding through the Presidio, one of the city’s largest public parks. It is less than a mile from the Palace of Fine Arts, built for the Panama-Pacific International Exposition of 1915, and less than a 10-minute drive from Crissy Field East Beach, which offers sweeping views of the Golden Gate Bridge.', 'Nathan Connolly and the estate of Shani Mott, who recently died, will receive a payment from their mortgage lender, which also agreed to several policy changes to discourage discrimination. A Black couple who claimed an appraisal company undervalued their Baltimore home based on their race have settled their lawsuit against their mortgage lender, loanDepot, which has agreed to a number of sweeping policy changes that could offer significant relief to homeowners who allege racially biased appraisals in the future.', 'Lawmakers say preservationists held too much power over decisions on whether buildings should be demolished and what should be allowed to replace them. The oceanfront Eden Roc Hotel is an icon of Miami Modernist architecture, a style that epitomized the postwar glamour and grandeur of Miami Beach. Two turquoise panels wrap the white facade. The oval canister perched atop the building resembles a cruise ship’s funnel. Crooners like Frank Sinatra, Harry Belafonte, and Sammy Davis, Jr., stayed and played there.', 'You won’t stop at just one, once you discover what they can do for your garden: “People get obsessed.” Matthew and Timothy Nichols’s story could be a case study of what it means to manifest something. The goal they realized: To amass an enviable collection of Japanese maples and establish a leading role in championing them.', 'Your entryway has been working hard all winter. But it’s a new season: Time to lighten things up. It may not feel like spring yet — but it is.', 'A converted 1840 schoolhouse in Phoenixville, a one-bedroom condominium in Portland and a two-story house in New Orleans. This home, known as the Old Pickering Schoolhouse, still has much of its interior woodwork intact, along with its belfry (and the bell inside it). It is about a five-minute drive from Phoenixville High School and less than 10 minutes from the center of town, which has an early 20th-century movie theater, a brewery and walking paths along French Creek, a tributary of the nearby Schuylkill.', 'After several lawsuits brought by home sellers, the rules around buying and selling properties are about to change. After several lawsuits brought by home sellers, the rules around buying and selling properties are about to change.', 'Six home sellers in Missouri successfully argued that the powerful real estate trade group’s rules on commissions forced them to pay inflated fees. When Rhonda Burnett went to sell a home in 2016, she knew she would have to pay a commission to her real estate agent.', 'Real estate taxes on single-family homes increased about 24 percent from 2019 to 2023. The median price for a single-family home in the United States rose about 40 percent from 2019 to 2022, peaking at $480,000 before receding to about $417,000 at the close of 2023. The higher home prices have led to higher property taxes, adding even more to a monthly housing budget. A recent study by CoreLogic found that from 2019 through 2023, the median U.S. single-family property-tax bill rose by about 24 percent, to about $2,826.', 'The estate of Maurice Kanbar, an entrepreneur, is selling his Upper East Side home. There is an art gallery on the first two floors and four vacant rental apartments upstairs. Maurice Kanbar never saw the sense in accepting things as they were. The lifelong inventor and entrepreneur, who died in 2022 at age 93, developed, among other things, a comb for “defuzzing” sweaters, New York’s first multiplex cinema, and Skyy vodka, which he — somewhat dubiously — claimed wouldn’t leave you with a hangover.', 'This week’s properties are in Manhattan Valley, Hell’s Kitchen and St. George. A two-bedroom, two-bath, 1,140-square-foot apartment with an open floor plan, a breakfast bar, a dining alcove, a primary suite with a walk-in closet and a balcony on the 11th floor of a 19-story doorman building with a live-in super, a package room, shared laundry, a bike room, parking, a gym, a children’s playroom, a residents’ lounge and a waiting list for basement storage cages. James Michael Angelo, Christie’s International Real Estate, 917-373-8343; christiesrealestate.com', 'This week’s properties are five-bedroom homes in Paramus, N.J., and Chappaqua, N.Y. A five-bedroom, four-bath house built in 1950 but fully remodeled this year, featuring an open kitchen with a center island, dining area and living rooms and a separate family room and bedroom suite, four other bedrooms, a finished basement and one-car attached garage, a deck and a fenced yard on 0.25 acres. Besmir Vatoci, Realty One Group Legend, 201-294-2885; realtyonegroup.com', 'Looking to explore a new neighborhood in Manhattan and create a better work setup, a couple embarked on a search for a prewar two-bedroom. Looking to explore a new neighborhood in Manhattan and create a better work setup, a couple embarked on a search for a prewar two-bedroom.', 'During the Harlem Renaissance, some Black people hosted rent parties, celebrations with an undercurrent of desperation in the face of racism and discrimination. During the Harlem Renaissance, some Black people hosted rent parties, celebrations with an undercurrent of desperation in the face of racism and discrimination.', 'A one-bedroom apartment near the Trevi Fountain, a two-bedroom duplex on the western edge of town, and a spacious pied-à-terre across from the Basilica of Santa Cecilia. This one-bedroom, one-bath apartment is on the top floor of a four-story 18th-century building near the Trevi Fountain. Built in the Renaissance style, it features cornices above the windows and wood shutters. An inscription above the main entry has the Latin motto, “Ne Gloriari Liberat Alienis Bonis” (“Do not boast of the merits of others”), taken from an ancient fable by Phaedrus.', \"March's top sales include the former home of George Malkemus. March's top sales include the former home of George Malkemus.\", 'Private clubs have long shaped the fabric of New York social life. Many of them formed during the Gilded Age, meticulously designed to be showstoppers before Manhattan’s skyscrapers surrounded them. But in recent years, a new wave of clubs has pro... Private clubs have long shaped the fabric of New York social life. Many of them formed during the Gilded Age, meticulously designed to be showstoppers before Manhattan’s skyscrapers surrounded them. But in recent years, a new wave of clubs has proliferated, varying in price point, exclusivity and amenities.', 'Some people belong to multiple private clubs that have emerged to fill physical and emotional voids. Others belong only to Sam’s Club. In a 115-year-old ferry terminal in New York’s financial district, an abundance of excess now exists. Walls lined with Loro Piana cashmere, Brooklyn Bridge views, a wellness center, a jazz bar — all of it can be yours for $3,900 annually (or just $2,500, if you’re under 30). Since it opened in 2021, Casa Cipriani has become one of the city’s buzziest private clubs.', 'A lease rental bond guarantee, which covers losses if a tenant fails to pay the rent, may seem unnecessary. But your landlord can require one. Q: A year ago, when I applied for a market-rate apartment in the Bronx, the landlord required that I get a lease rental bond from a bond company. I have a good credit score, but the agent said my liquid assets were below the required threshold. In addition to the bond, I had to give them first month’s rent and a one-month security deposit before moving in. The bond cost me $1,000. I’ve been paying my rent on time through the company’s app, but now they’re telling me that I need to renew the bond for a new two-year lease. I have signed the lease; the landlord has not. If I say no to the bond and can’t work something else out, can I be evicted?']\n",
      "['The arachnids, which are not spiders, were thought to have only two eyes, compared with many more on spiders. Guilherme Gainett, then a biologist at the University of Wisconsin-Madison, was looking through a microscope at the embryo of a daddy longlegs when he saw it — or, rather, saw them. Daddy longlegs, the group of splendidly leggy arachnids also known as harvestmen, have been thought to have just two eyes. But there on the animal’s body, illuminated with fluorescent markers, were what looked like four more vestigial eyes.', 'DNA has shown that the extinct humans thrived around the world, from chilly Siberia to high-altitude Tibet — perhaps even in the Pacific islands. Neanderthals may have vanished 40,000 years ago, but they are no strangers to us today. Their stocky skeletons dazzle in museums around the world. Their imagined personas star in television ads. When Kevin Bacon noted on Instagram that his morning habits are like those of a Neanderthal, he did not stop to explain that our ancient cousins interbred with modern humans expanding out of Africa.', 'Two spacecraft have ended up askew on the lunar surface this year. It is easier to tip over in the weaker gravity on the moon than you may imagine. When the robotic lander Odysseus last month became the first American-built spacecraft to touch down on the moon in more than 50 years, it toppled over at an angle. That limited the amount of science it could do at the lunar surface, because its antennas and solar panels were not pointed in the correct directions.', 'A new study suggests that the amount of the element on the moon of Jupiter is on the lower end of previous estimates. Under its bright, frosty shell, Jupiter’s moon Europa is thought to harbor a salty ocean, making it a world that might be one of the most habitable places in our solar system.', 'She discovered new ways to promote regeneration in the nervous system, offering hope to countless paralyzed patients worldwide. Mary Bartlett Bunge, who with her husband, Richard, studied how the body responds to spinal cord injuries and continued their work after his death in 1996, ultimately discovering a promising treatment to restore movement to millions of paralyzed patients, died on Feb. 17, at her home in Coral Gables, Fla. She was 92.', 'Archaeologists have revealed a major production site for one of history’s most luxurious, and smelliest, colorants. The most prized pigment of antiquity was processed not from a tangle of root or the frothy extract of a weed, but by drawing out a slimy secretion from the mucus glands behind the anus of murex sea snails — “the bottom of the bottom-feeders,” the historian Kelly Grovier has written. The common name of the dyestuff, Tyrian purple, derives from the habitat of the mollusks, which the Phoenicians purportedly began harvesting in the 16th century B.C. in the city-state of Tyre in present-day Lebanon.', 'She linked her passion for the natural environment to the precepts of the Hebrew Bible, beginning with the Garden of Eden. Ellen Bernstein, a river guide turned rabbi who blazed a spiritual trail in the environmental movement by undergirding it with the Hebrew Bible’s veneration of nature, died on Feb. 27 in Philadelphia. She was 70.', 'The last child of the pioneering ecologist Aldo Leopold, she also helped preserve her father’s legacy as a founder of the modern environmental movement. Estella Bergere Leopold, a botanist who examined ancient pollen to illuminate the effects of climate change — and who, as the last child of the pioneering environmentalist Aldo Leopold, helped preserve her father’s legacy as a founder of the modern conservation movement — died on Feb. 25 at a retirement home in Seattle. She was 97.', 'Sunflower sea stars, a species of giant starfish, are critically endangered. Researchers tinkered with sperm in an aquarium lab to help them reproduce. On Valentine’s Day, Melissa Torres strung up red tinsel hearts around a shallow pool at her workplace, the Birch Aquarium at Scripps Institution of Oceanography in La Jolla, Calif. She and her colleagues were arranging a romantic encounter of sorts, and the stakes were high. The happy couple, a pair of sunflower sea stars, belonged to a species that has nearly vanished because of climate change.', 'Russian President Vladimir V. Putin may find that a nuclear weapon in orbit is less useful for war than intimidation. In 1982, President Ronald Reagan was considering what became known as “Star Wars,” a plan to shield America from Soviet missiles by deploying up to thousands of weapons in space. At the same time, as a young science writer, I was reporting on how the rays from a single nuclear detonation in orbit could wipe out whole fleets of battle stations and laser death rays. “Star Wars: Pentagon Lunacy,” read one of the headlines.', 'The results could shed light on why the animals rarely get cancer. But the researchers’ ultimate goal of bringing back woolly mammoths is still aspirational. When the biotechnology firm Colossal started in 2021, it set an eyebrow-raising goal: to genetically engineer elephants with hair and other traits found on extinct woolly mammoths.', 'A new paper challenges the idea that the large, carnivorous Spinosaurus dived after prey rather than wading and plucking it out of the water. Spinosaurus was one of the largest carnivorous dinosaurs, and it ate fish. That much paleontologists agree on.', 'Gray whales are regularly found in the North Pacific, but sightings in the Atlantic, from which they had vanished by the 18th century, are extremely rare. Researchers with the New England Aquarium were conducting a regular survey of the waters south of Martha’s Vineyard and Nantucket in Massachusetts last week when something caught their eye.', 'His groundbreaking research, which he performed with Yvonne Barr, his doctoral student, uncovered the first virus capable of causing cancer in humans. In March 1961, Dr. Anthony Epstein, a pathologist at Middlesex Hospital in London, almost skipped a visiting physician’s afternoon lecture about children with exceptionally large facial tumors in Uganda.', 'A green honeycreeper spotted on a farm in Colombia exhibits a rare biological phenomenon known as bilateral gynandromorphism. Colombia is a bird watcher’s paradise. Its stunningly diverse ecosystems — which include mountain ranges, mangrove swamps, Caribbean beaches and Amazonian rainforests — are home to more avian species than any other country on Earth.', 'When a seagrass shortage caused a mass manatee die-off, scientists rushed to save the orphaned young. After three years at a zoo, the manatees are now grown up and going back to the wild. The photographer Jason Gulley explains how ZooTampa rescues... When a seagrass shortage caused a mass manatee die-off, scientists rushed to save the orphaned young. After three years at a zoo, the manatees are now grown up and going back to the wild. The photographer Jason Gulley explains how ZooTampa rescues manatees, cares for them and eventually releases them back into the wild.', 'Amphibians called caecilians add cloacal secretions of a nutritious material similar to milk to their numerous quirks, according to a new study. Motherhood takes many shapes. Most vertebrates, like birds, reptiles, amphibians and fish, reproduce by laying eggs filled with nourishing yolk that their offspring use as an initial source of nutrition before hatching. Mammals change the game by giving birth to live young and feeding them fatty, sugary milk as they get on their feet.', 'In 1983, he commanded a Challenger shuttle flight. After the 1986 disaster, he was charged with leading NASA’s return to space. Richard Truly, a naval aviator and astronaut who flew aboard two early space shuttle missions and, as NASA’s associate administrator, guided the agency’s return to space after the Challenger disaster, died on Feb. 27 at his home in Genesee, Colo. He was 86.', 'The National Science Foundation takes a step (just one) toward an “extremely large telescope.” The United States should commit $1.6 billion to building an “extremely large telescope” that would vault American astronomy into a new era, according to the National Science Board, which advises the National Science Foundation.In a statement on Feb. 27, the board gave the foundation until May to decide how to choose between two competing proposals for the telescope. The announcement came as a relief to American astronomers, who have been fretting about losing ground to their European colleagues in the quest to examine the heavens with bigger and better telescopes.', 'The populations of some Latin American birds are declining, even in the countries they symbolize. The American tropics are uniquely blessed with birds. Thirty-six percent of the world’s 11,000 bird species live in the region south of the border between the United States and Mexico, more than in Asia or Africa.', 'A nova named T Coronae Borealis lit up the night about 80 years ago, and astronomers say it’s expected to put on another show in the coming months. If you keep a close eye on the night sky in the weeks and months ahead, you may spot something new. It will shine as bright as Polaris, the North Star, for no longer than a week before fading back into darkness.', 'While the sentinel trees of Northern Lebanon may not be as old as some traditions hold, one tree might be more than 1,000 years old. Olive trees are common in Northern Lebanon, but in the village of Bshaaleh, a handful look downright ancient. Their branches grow in wildly unpredictable directions, and the trees’ gray, gnarled trunks are shot through with holes and crevasses large enough to hide a sleeping child. Many people believe these sentinel trees are thousands of years old. They are known as “Noah trees” because of some people’s belief that the trees are the source of the olive branch carried by the dove back to Noah’s ark.', 'Given troves of data about genes and cells, A.I. models have made some surprising discoveries. What could they teach us someday? In 1889, a French doctor named Francois-Gilbert Viault climbed down from a mountain in the Andes, drew blood from his arm and inspected it under a microscope. Dr. Viault’s red blood cells, which ferry oxygen, had surged 42 percent. He had discovered a mysterious power of the human body: When it needs more of these crucial cells, it can make them on demand.', 'The findings, from the largely uncharted waters of Bounty Trough, show that “we’ve got a long way to go in terms of understanding where life is found in the ocean,” a researcher said. A team of 21 scientists set off on an expedition in the largely uncharted waters of Bounty Trough off the coast of the South Island of New Zealand in February hoping to find a trove of new species.', 'In February, Peter Kaestner beat out the competition to document his 10,000th bird species. On Feb. 9, Peter Kaestner stood in the shadow of majestic Tinuy-an Falls on the Philippine island of Mindanao, on the cusp of a record he’d spent seven decades chasing and worried that he’d arrived too late.', 'In 2014 a fireball from outer space was posited to be an alien artifact. A recent study suggests otherwise. In January of 2014, a meteor fell from space off the coast of Papua New Guinea. That might have been the end of it, but several years later Avi Loeb, a theoretical astrophysicist at Harvard, drew on seismic data from near the site, looked for crash remains on the ocean floor and proposed that the remains “may reflect an extraterrestrial technological origin.”', 'A new study reveals that cicadas can discharge urine with far more force than their size would suggest. This spring’s output could be significant. This spring, when the ground temperature hits 64 degrees Fahrenheit, trillions of cicadas will dig their way up from beneath the soil across the Southern and Midwestern United States. In a rare so-called double emergence, two distinct cicada broods — one on a 13-year life cycle and the other on a 17-year one — will take to the trees to sing, eat and mate.', 'Scientists never imagined that the blind cave salamanders called olms willingly left their caves. But at numerous aboveground springs, there they were. Scientists have discovered that blind cave salamanders in northern Italy leave their underground homes to go on expeditions to the surface.', 'An 11th-century astrolabe, a complex instrument for precisely mapping the heavens, recently turned up in an Italian museum. ', 'Despite a common narrative that male mammals tend to dwarf female ones, fewer than half of mammalian species display that pattern, a new study suggests. Female elephant seals are not delicate creatures. They are rippling tubes of muscle and blubber that can weigh more than 1,000 pounds. Still, female elephant seals are absolutely dwarfed by their male counterparts, which are typically at least three times heavier.', 'A new study argues that the change brought these females an evolutionary advantage — and perhaps did the same for humans. Menopause is all too familiar to women, but in other species it’s remarkably rare. Last year, scientists reported that females in a single population of chimpanzees live long past their reproductive years. But aside from chimps and humans, researchers have found clear evidence of menopause in only five species — all of them whales.', 'Bigger than the Statue of Liberty, the SpaceX vehicle is central to NASA’s plans to get to the moon and Elon Musk’s dreams of the red planet. For Elon Musk, Starship is really a Mars ship. He envisions a fleet of Starships carrying settlers to the red planet in the coming years.', 'While SpaceX has a major head start on the way to orbit, Blue Origin has a plan to put an uncrewed spacecraft on the moon in 12-16 months. Which billionaire space company will get to the moon first: Elon Musk’s SpaceX or Jeff Bezos’ Blue Origin?', 'Seeing plasma build up beneath a spacecraft in near-real time is uncommon. Just past the 45-minute mark of the Starship vehicle’s journey through space on Thursday, something eerie happened. As it drifted high above Earth’s oceans and clouds, the spacecraft’s silvery exterior was overtaken by a brilliant and fiery orange glow.', 'The third test flight of the most powerful rocket ever built achieved a series of milestones before the spacecraft was lost as it re-entered Earth’s atmosphere. The third try turned out to be closer to the charm for Elon Musk and SpaceX, as his company’s mammoth Starship rocket launched on Thursday and traveled about halfway around the Earth before it was lost as it re-entered the atmosphere.', 'April 8 could be your best opportunity to see a total solar eclipse for decades. But if clouds fill the sky, you may miss the spectacle. April 8 could be your best opportunity to see a total solar eclipse for decades. But if clouds fill the sky, you may miss the spectacle.', 'The quiet withdrawal of a 2021 cancer study by Dr. Sam Yoon highlights scientific publishers’ lack of transparency around data problems. The quiet withdrawal of a 2021 cancer study by Dr. Sam Yoon highlights scientific publishers’ lack of transparency around data problems.', 'The observation suggests that seals join cobras, archerfish and other animals known to spit, although researchers can only speculate about the reason for the mammal’s expectoration. On Jan. 3, 2022, Clare Jacobs, a bird-watcher, was delighted to spot a rare white-tailed eagle, or Haliaeetus albicilla, at a nature reserve on the Isle of Wight in southern England. These birds, also known as sea eagles or ernes, vanished from the region some 250 years ago, but more than two dozen birds have been released on the island since 2019.', 'The writer and filmmaker discusses the blend of theoretical cosmology and Black culture in Chicago’s newest planetarium show. On Feb. 17, the Adler Planetarium in Chicago unveiled a new sky show called “Niyah and the Multiverse,” a blend of theoretical cosmology, Black culture and imagination. And as with many things Afrofuturistic, Ytasha Womack’s fingerprints are all over it.', 'To decarbonize the electrical grid, companies are finding creative ways to store energy during periods of low demand. Central Sardinia is not generally considered a hotbed of innovation: Arid and rural, some of its road signs riddled with bullet holes made by target-practicing locals, the setting recalls a Clint Eastwood western. Yet in Ottana, on the brownfield site of a former petrochemical plant, a new technology is taking shape that might help the world slow climate change. The key component of this technology is as unlikely as the remote location: carbon dioxide, the chief cause of global warming.', 'A new study of camera-trap images complicates the idea that all wildlife thrived during the Covid lockdowns. In the early months of the Covid pandemic, when every bit of news seemed bleak, there was one heartwarming narrative that took hold: With humans stuck in their homes, the world was safe again for wild animals, which could now wander freely through cities, parking lots or fields that once might have been crowded with people.', 'The Apollo-Soyuz mission, amid the Cold War, broke new ground in space cooperation when an American capsule docked with a Soviet craft 140 miles above the earth. Thomas P. Stafford, an astronaut who pioneered cooperation in space when he commanded the American capsule that linked up with a Soviet spaceship in July 1975, died on Monday in Satellite Beach, Fla. He was 93.', 'He broke barriers as the first Black physicist in nearly every role. But his identity made him reach for dreams beyond his career as a scientist. The day before Walter Massey turned 30, in 1968, the Rev. Dr. Martin Luther King Jr. was fatally shot on a hotel balcony in Memphis. Dr. Massey, then a physicist at Argonne National Laboratory, watched the funeral on television, in tears, from his apartment in Chicago. Outside, the west side of the city was burning.', 'The superbly preserved remains of a Bronze Age settlement offer a glimpse of a “colorful, rich, varied” domestic life circa 850 B.C. Three millenniums ago, a small, prosperous farming community briefly flourished in the freshwater marshes of eastern England. The inhabitants lived in a clutch of thatched roundhouses built on wooden stilts above a channel of the River Nene, which empties into the North Sea. They wore clothes of fine flax linen, with pleats and tasseled hems; bartered for glass and amber beads imported from places as far-flung as present-day Iran; drank from delicate clay poppyhead cups; dined on leg of boar and honey-glazed venison, and fed table scraps to their dogs.', 'The study, based on research featured in a Netflix documentary, fueled debate over a site that is used for Islamic and Hindu rituals. The American publisher of a study that challenged scientific orthodoxy by claiming that an archaeological site in Indonesia may be the world’s “oldest pyramid” says it has been retracted.', 'Michel Talagrand of France has credited a brush with blindness for leading to the work that resulted in his recognition by the math equivalent of the Nobel Prize. A French mathematician is the recipient of this year’s Abel Prize, the math equivalent of the Nobel, for advances in understanding randomness in the universe — the heights of ocean waves crashing on a beach, the weights of babies, the ups and downs of the stock market — work that has found use in mathematical physics and statistics.', 'How do you design an app for a parrot? Consider games that are “made to be licked,” a new study suggests. Parrots have much in common with toddlers. The brainy birds can learn to recognize colors and shapes, manipulate objects, build large vocabularies and make their needs known at improbably high volumes. They are also playful, intelligent and curious; without ample cognitive enrichment, they quickly become bored.', 'An archaeological site in Ethiopia revealed the oldest-known arrowheads and the remnants of a major volcanic eruption. In 2002, a crew of paleoanthropologists were working in northwestern Ethiopia when they came across chipped stones and fossilized animal bones — telltale signs of a place where ancient people had once lived.', 'The studies, pulled because of copied data, illustrate the sluggishness of scientific publishers to address serious errors, experts said. Scientists in a prominent cancer lab at Columbia University have now had four studies retracted and a stern note added to a fifth accusing it of “severe abuse of the scientific publishing system,” the latest fallout from research misconduct allegations recently leveled against several leading cancer scientists.', 'An unusually popular primatologist, he drew the attention of Newt Gingrich, Isabella Rossellini, the philosopher Peter Singer and the reading public. Frans de Waal, who used his study of the inner lives of animals to build a powerful case that apes think, feel, strategize, pass down culture and act on moral sentiments — and that humans are not quite as special as many like to think — died on Thursday at his home in Stone Mountain, Ga. He was 75.', 'A nearly 2,000-year-old stash pouch provides the first evidence of the intentional use of a powerful psychedelic plant in Western Europe during the Roman Era. In 2011, archaeologists in the Netherlands discovered an ancient pit filled with 86,000 animal bones at a Roman-Era farmstead near the city of Utrecht. It fell to Martijn van Haasteren, an archaeozoologist at the Cultural Heritage Agency of the Netherlands, to sort through them.', 'Two musky steroids, and higher levels of odorous acids, distinguish the body odors of adolescents and tots. Few parents would describe the smells emanating from their adolescent children as redolent of sandalwood. But one of the distinct components of teenage body odor is a compound that evokes that warm, woody fragrance, according to a small new study, which compared the scents of adolescents to those of infants and toddlers.', 'The species seemed to have bug eyes and a smile, so a team of researchers named it Kermitops gratus in honor of the banjo-playing Muppet. One crawled across the rain-drenched ground of what is now Texas more than 270 million years ago, possibly feasting on fast-moving insects. The other endeared himself to millions as the banjo-playing roving newscaster, and reluctant beau of Miss Piggy, known as Kermit the Frog.', 'Dante Lauretta, the planetary scientist who led the OSIRIS-REx mission to retrieve a handful of space dust, discusses his next final frontier. Last fall, a NASA spacecraft named OSIRIS-REx dropped a capsule containing more than 120 grams of space dust into the Utah desert. That material came from Bennu, an asteroid that, a billion years ago, broke off from a bigger world that may have hosted liquid water. Studying this material will clarify the role that asteroids might have played in bringing life’s ingredients to Earth.', 'These are answers to common questions about the April 8 eclipse. These are answers to common questions about the April 8 eclipse.', 'These are answers to common questions about the April 8 eclipse, and we’re offering you a place to pose more of them. On April 8, North America will experience its second total solar eclipse in seven years. The moon will glide over the surface of our sun, casting a shadow over a swath of Earth below. Along this path, the world will turn dark as night.', \"How champion skaters' brains keep them from falling or feeling dizzy How champion skaters' brains keep them from falling or feeling dizzy\", 'Victor Glover, a nine-year veteran of the astronaut corps who will fly around the moon in 2025, said the search for excellence and diversity were not mutually exclusive. Do you dream of leaving the planet?', 'More lost shipwrecks are being found because of new technology, climate change and more vessels scanning the ocean floor for science or commerce. Some were fabled vessels that have fascinated people for generations, like Endurance, Ernest Shackleton’s ship that sank in the Antarctic in 1915. Some were common workhorses that faded into the depths, like the Ironton, a barge that was carrying 1,000 tons of grain when it sank in Lake Huron in 1894.', 'The subtle event, known as a penumbral eclipse, can be observed by everyone on Earth’s nightside. As the moon prepares to blot out the surface of our sun in two weeks, it’s warming up with a penumbral lunar eclipse on Sunday night or Monday morning, depending on your time zone.', 'Astronomers have gotten better at tracking the motions of stars just beyond the solar system. But that’s made it harder to predict Earth’s future and reconstruct its past. Regardless of what stock market analysts, political pollsters and astrologers might say, we can’t predict the future. In fact, we can’t even predict the past.', 'On April 8, the moon will cast a shadow across much of North America. On April 8, the moon will cast a shadow across much of North America.', 'U.S. regulators confirmed that sick cattle in Texas, Kansas and possibly in New Mexico contracted avian influenza. They stressed that the nation’s milk supply is safe. A form of avian influenza that is highly fatal in birds has been confirmed in U.S. dairy cattle in Texas and Kansas, the Department of Agriculture announced on Monday.', 'What new research on the avian brain and REM sleep in birds might reveal about our own dream lives. I once dreamed a kiss that hadn’t yet happened. I dreamed the angle at which our heads tilted, the fit of my fingers behind her ear, the exact pressure exerted on the lips by this transfer of trust and tenderness.', 'A new study suggests that two killer whale populations in the North Pacific are distinct enough to be considered separate species. Killer whales are some of the most cosmopolitan creatures on the planet, swimming through every one of the world’s oceans. They patrol the frigid waters near both poles and periodically pop up in the tropics, in locations from western Africa to Hawaii.', 'Researchers examined fossils of the predatory worm and found a new species that persisted for 25 million years after it was believed to have become extinct. With a head covered in rows of curved spines, ancient Selkirkia worms could easily be confused with the razor-toothed sandworms that inhabit the deserts of Arrakis in “Dune: Part Two.”', 'Dr. Goodall, who is best known for her work with chimpanzees, recently celebrated her forthcoming 90th birthday with as many dogs and explained why she isn’t slowing down. Jane Goodall is turning 90 on April 3 and the primatologist-turned-activist seems busier than ever. This year, she’ll be on the road for 320 days. She’ll be raising money for her nonprofit organizations, the Jane Goodall Institute and Roots & Shoots, and encouraging people to take environmental action.', 'How do champion skaters accomplish their extraordinary jumps and spins? Brain science is uncovering clues. ', 'The Delta IV Heavy, a rocket that briefly bursts into flame just before it lifts off, is set to launch for the last time soon. The ignition of the Delta IV Heavy rocket is perhaps the most visually striking liftoff you’ll ever see — the rocket seemingly burns itself up on the launchpad before it heads to space. Now, the very last Delta IV Heavy ever is on the launchpad.', 'A device called LightSound is being distributed to help the blind and visually impaired experience this year’s event. On Aug. 21, 2017, Kiki Smith’s teenage sons giddily prepared to watch the partial solar eclipse in Rochester, N.Y. As Ms. Smith listened to their chatter, she felt excluded.', 'The rendezvous between the sun and the moon in 2017 captivated a small region in the Midwest. Lucky for Americans at the eclipse crossroads, they get to see it again. It is rare for a total solar eclipse to hit the same place twice — once every 366 years on average. In 2019, this happened in the Pacific Ocean, far west of the coast of Chile. By a stroke of luck, the next one will span a region of about 10,000 square miles that includes parts of southern Illinois, southeastern Missouri and western Kentucky.']\n"
     ]
    }
   ],
   "source": [
    "food = jsonToDF(\"food\")\n",
    "realestate = jsonToDF(\"realestate\")\n",
    "science = jsonToDF(\"science\")"
   ]
  },
  {
   "cell_type": "markdown",
   "id": "068ba486-53d4-42ca-a9d6-b8d83421e6b5",
   "metadata": {},
   "source": [
    "Check one dataframe:"
   ]
  },
  {
   "cell_type": "code",
   "execution_count": 4,
   "id": "148e94b7-af45-4b55-9688-b72f0b23df10",
   "metadata": {},
   "outputs": [
    {
     "data": {
      "text/html": [
       "<div>\n",
       "<style scoped>\n",
       "    .dataframe tbody tr th:only-of-type {\n",
       "        vertical-align: middle;\n",
       "    }\n",
       "\n",
       "    .dataframe tbody tr th {\n",
       "        vertical-align: top;\n",
       "    }\n",
       "\n",
       "    .dataframe thead th {\n",
       "        text-align: right;\n",
       "    }\n",
       "</style>\n",
       "<table border=\"1\" class=\"dataframe\">\n",
       "  <thead>\n",
       "    <tr style=\"text-align: right;\">\n",
       "      <th></th>\n",
       "      <th>document</th>\n",
       "    </tr>\n",
       "  </thead>\n",
       "  <tbody>\n",
       "    <tr>\n",
       "      <th>food_1</th>\n",
       "      <td>Commit this method to memory for caramelized a...</td>\n",
       "    </tr>\n",
       "    <tr>\n",
       "      <th>food_2</th>\n",
       "      <td>Kenji López-Alt’s buttery, unabashedly garlick...</td>\n",
       "    </tr>\n",
       "    <tr>\n",
       "      <th>food_3</th>\n",
       "      <td>Just add rice or potatoes (and maybe a chilled...</td>\n",
       "    </tr>\n",
       "    <tr>\n",
       "      <th>food_4</th>\n",
       "      <td>It’s a showstopping kaleidoscope of bulgogi, s...</td>\n",
       "    </tr>\n",
       "    <tr>\n",
       "      <th>food_5</th>\n",
       "      <td>In the third installment of her YouTube series...</td>\n",
       "    </tr>\n",
       "  </tbody>\n",
       "</table>\n",
       "</div>"
      ],
      "text/plain": [
       "                                                 document\n",
       "food_1  Commit this method to memory for caramelized a...\n",
       "food_2  Kenji López-Alt’s buttery, unabashedly garlick...\n",
       "food_3  Just add rice or potatoes (and maybe a chilled...\n",
       "food_4  It’s a showstopping kaleidoscope of bulgogi, s...\n",
       "food_5  In the third installment of her YouTube series..."
      ]
     },
     "execution_count": 4,
     "metadata": {},
     "output_type": "execute_result"
    }
   ],
   "source": [
    "food.head()"
   ]
  },
  {
   "cell_type": "markdown",
   "id": "f85289d1-577b-4d9a-85f6-db78954b3a73",
   "metadata": {},
   "source": [
    "Check the shape of each dataframe:"
   ]
  },
  {
   "cell_type": "code",
   "execution_count": 5,
   "id": "f3120885-38f3-4247-ae18-6cdee1f8621a",
   "metadata": {},
   "outputs": [
    {
     "name": "stdout",
     "output_type": "stream",
     "text": [
      "food: (81, 1)\n",
      "realestate: (82, 1)\n",
      "science: (71, 1)\n"
     ]
    }
   ],
   "source": [
    "print(\"food:\", food.shape)\n",
    "print(\"realestate:\", realestate.shape)\n",
    "print(\"science:\", science.shape)"
   ]
  },
  {
   "cell_type": "markdown",
   "id": "9731de53-159f-4efb-90ef-0ea27a34c22e",
   "metadata": {},
   "source": [
    "Let's concatenate all of them in a single dataframe for the moment:"
   ]
  },
  {
   "cell_type": "code",
   "execution_count": 6,
   "id": "9832bd85-1daa-4e32-b1c2-fff04095068e",
   "metadata": {},
   "outputs": [
    {
     "data": {
      "text/plain": [
       "(234, 1)"
      ]
     },
     "execution_count": 6,
     "metadata": {},
     "output_type": "execute_result"
    }
   ],
   "source": [
    "allDocs = pd.concat([food, realestate, science])\n",
    "allDocs.shape"
   ]
  },
  {
   "cell_type": "code",
   "execution_count": 7,
   "id": "c63d4de4-91bf-4f62-b496-b24f9f176e3b",
   "metadata": {},
   "outputs": [
    {
     "data": {
      "text/html": [
       "<div>\n",
       "<style scoped>\n",
       "    .dataframe tbody tr th:only-of-type {\n",
       "        vertical-align: middle;\n",
       "    }\n",
       "\n",
       "    .dataframe tbody tr th {\n",
       "        vertical-align: top;\n",
       "    }\n",
       "\n",
       "    .dataframe thead th {\n",
       "        text-align: right;\n",
       "    }\n",
       "</style>\n",
       "<table border=\"1\" class=\"dataframe\">\n",
       "  <thead>\n",
       "    <tr style=\"text-align: right;\">\n",
       "      <th></th>\n",
       "      <th>document</th>\n",
       "    </tr>\n",
       "  </thead>\n",
       "  <tbody>\n",
       "    <tr>\n",
       "      <th>food_1</th>\n",
       "      <td>Commit this method to memory for caramelized a...</td>\n",
       "    </tr>\n",
       "    <tr>\n",
       "      <th>food_2</th>\n",
       "      <td>Kenji López-Alt’s buttery, unabashedly garlick...</td>\n",
       "    </tr>\n",
       "    <tr>\n",
       "      <th>food_3</th>\n",
       "      <td>Just add rice or potatoes (and maybe a chilled...</td>\n",
       "    </tr>\n",
       "    <tr>\n",
       "      <th>food_4</th>\n",
       "      <td>It’s a showstopping kaleidoscope of bulgogi, s...</td>\n",
       "    </tr>\n",
       "    <tr>\n",
       "      <th>food_5</th>\n",
       "      <td>In the third installment of her YouTube series...</td>\n",
       "    </tr>\n",
       "  </tbody>\n",
       "</table>\n",
       "</div>"
      ],
      "text/plain": [
       "                                                 document\n",
       "food_1  Commit this method to memory for caramelized a...\n",
       "food_2  Kenji López-Alt’s buttery, unabashedly garlick...\n",
       "food_3  Just add rice or potatoes (and maybe a chilled...\n",
       "food_4  It’s a showstopping kaleidoscope of bulgogi, s...\n",
       "food_5  In the third installment of her YouTube series..."
      ]
     },
     "execution_count": 7,
     "metadata": {},
     "output_type": "execute_result"
    }
   ],
   "source": [
    "allDocs.head()"
   ]
  },
  {
   "cell_type": "markdown",
   "id": "f4079738-7315-4852-b1d0-5d933048e54f",
   "metadata": {},
   "source": [
    "Make the column wide enough to show all text:"
   ]
  },
  {
   "cell_type": "code",
   "execution_count": 8,
   "id": "b8aaaef3-cb3c-4ff2-a8a7-5194215f3dad",
   "metadata": {},
   "outputs": [],
   "source": [
    "pd.set_option(\"display.max_colwidth\",1000)"
   ]
  },
  {
   "cell_type": "markdown",
   "id": "01ac1164-c4df-4036-abdf-429616b8c2f6",
   "metadata": {},
   "source": [
    "Look at the results:"
   ]
  },
  {
   "cell_type": "code",
   "execution_count": 9,
   "id": "0532f308-7688-494d-95cc-e64137c4ccaa",
   "metadata": {},
   "outputs": [
    {
     "data": {
      "text/html": [
       "<div>\n",
       "<style scoped>\n",
       "    .dataframe tbody tr th:only-of-type {\n",
       "        vertical-align: middle;\n",
       "    }\n",
       "\n",
       "    .dataframe tbody tr th {\n",
       "        vertical-align: top;\n",
       "    }\n",
       "\n",
       "    .dataframe thead th {\n",
       "        text-align: right;\n",
       "    }\n",
       "</style>\n",
       "<table border=\"1\" class=\"dataframe\">\n",
       "  <thead>\n",
       "    <tr style=\"text-align: right;\">\n",
       "      <th></th>\n",
       "      <th>document</th>\n",
       "    </tr>\n",
       "  </thead>\n",
       "  <tbody>\n",
       "    <tr>\n",
       "      <th>food_1</th>\n",
       "      <td>Commit this method to memory for caramelized and crisp yet tender vegetables all year long. The kindest thing you can do for yourself when you’re stiff from being in the cold is to find some warmth: Because as the chill in your bones starts to fade, so does your stiffness. The same thing happens to hard winter vegetables when they’re enveloped in the heat of the oven — they soften and sweeten as they roast until they’re golden outside and tender in the middle.</td>\n",
       "    </tr>\n",
       "    <tr>\n",
       "      <th>food_2</th>\n",
       "      <td>Kenji López-Alt’s buttery, unabashedly garlicky noodles are as easy to make as they are to devour. Good morning. The vernal equinox is in less than three weeks, but you wouldn’t know it from the frosted mud in the woods and the storm-wounded lawns where I stay. It’s bare ugly everywhere save in the bays, where water clear as gin flows over rocks in a spectrum of pink. At the market: cabbage and potatoes, a box of turnips, industrial berries that might have been grown in space. The new season’s coming, sure as tulips, but right now it’s hard to imagine.</td>\n",
       "    </tr>\n",
       "    <tr>\n",
       "      <th>food_3</th>\n",
       "      <td>Just add rice or potatoes (and maybe a chilled white wine). Citrus and salmon is a winning combination, previously proven in New York Times Cooking’s recipes for broiled salmon with mustard and lemon, roasted salmon with ginger-lime butter and citrusy roasted salmon and potatoes. Our newest addition to this esteemed company is Farideh Sadeghin’s recipe for orange-glazed baked salmon. It’s a no-fuss fish dinner with a clever, timesaving twist: Farideh builds a side salad into the recipe by tossing salad greens with some of the reserved honeyed orange juice that is used to flavor the salmon. If you’re looking at the above image and thinking, “I bet blood oranges would be especially beautiful and excellent in this recipe,” know that Coco, a reader, already tried that and can confirm that the results were “absolutely delicious.”</td>\n",
       "    </tr>\n",
       "    <tr>\n",
       "      <th>food_4</th>\n",
       "      <td>It’s a showstopping kaleidoscope of bulgogi, shiitakes, bean sprouts, spinach, carrots and cucumbers, all drizzled with a spicy gochujang sauce. Good morning. On Sunday, I like a project in the kitchen more than on any other day. It’s a chance to work at the stove without the need to get something on the table in 45 minutes, a time to stretch my skill set. Mostly, it’s an opportunity to explore recipes rather than simply following them. On Sundays I don’t want to fly by wire. I want to fly.</td>\n",
       "    </tr>\n",
       "    <tr>\n",
       "      <th>food_5</th>\n",
       "      <td>In the third installment of her YouTube series, the cookbook author and chef Sohla El-Waylly will teach you how to master the basics of the bird. For beginners and experienced cooks alike, preparing chicken can come with a lot of questions (and nerves!). Am I going to get salmonella? How do I butcher a whole bird? Am I doomed to an eternity of dry breast meat? In the third installment of her YouTube series, Cooking 101, the chef and cookbook author Sohla El-Waylly will help you master the basics of the bird, then set you up with a handful of recipes that highlight white and dark meat.</td>\n",
       "    </tr>\n",
       "  </tbody>\n",
       "</table>\n",
       "</div>"
      ],
      "text/plain": [
       "                                                                                                                                                                                                                                                                                                                                                                                                                                                                                                                                                                                                                                                                                                                                                                                                                                                                    document\n",
       "food_1                                                                                                                                                                                                                                                                                                                                                                                      Commit this method to memory for caramelized and crisp yet tender vegetables all year long. The kindest thing you can do for yourself when you’re stiff from being in the cold is to find some warmth: Because as the chill in your bones starts to fade, so does your stiffness. The same thing happens to hard winter vegetables when they’re enveloped in the heat of the oven — they soften and sweeten as they roast until they’re golden outside and tender in the middle.\n",
       "food_2                                                                                                                                                                                                                                                                                        Kenji López-Alt’s buttery, unabashedly garlicky noodles are as easy to make as they are to devour. Good morning. The vernal equinox is in less than three weeks, but you wouldn’t know it from the frosted mud in the woods and the storm-wounded lawns where I stay. It’s bare ugly everywhere save in the bays, where water clear as gin flows over rocks in a spectrum of pink. At the market: cabbage and potatoes, a box of turnips, industrial berries that might have been grown in space. The new season’s coming, sure as tulips, but right now it’s hard to imagine.\n",
       "food_3  Just add rice or potatoes (and maybe a chilled white wine). Citrus and salmon is a winning combination, previously proven in New York Times Cooking’s recipes for broiled salmon with mustard and lemon, roasted salmon with ginger-lime butter and citrusy roasted salmon and potatoes. Our newest addition to this esteemed company is Farideh Sadeghin’s recipe for orange-glazed baked salmon. It’s a no-fuss fish dinner with a clever, timesaving twist: Farideh builds a side salad into the recipe by tossing salad greens with some of the reserved honeyed orange juice that is used to flavor the salmon. If you’re looking at the above image and thinking, “I bet blood oranges would be especially beautiful and excellent in this recipe,” know that Coco, a reader, already tried that and can confirm that the results were “absolutely delicious.”\n",
       "food_4                                                                                                                                                                                                                                                                                                                                                       It’s a showstopping kaleidoscope of bulgogi, shiitakes, bean sprouts, spinach, carrots and cucumbers, all drizzled with a spicy gochujang sauce. Good morning. On Sunday, I like a project in the kitchen more than on any other day. It’s a chance to work at the stove without the need to get something on the table in 45 minutes, a time to stretch my skill set. Mostly, it’s an opportunity to explore recipes rather than simply following them. On Sundays I don’t want to fly by wire. I want to fly.\n",
       "food_5                                                                                                                                                                                                                                                       In the third installment of her YouTube series, the cookbook author and chef Sohla El-Waylly will teach you how to master the basics of the bird. For beginners and experienced cooks alike, preparing chicken can come with a lot of questions (and nerves!). Am I going to get salmonella? How do I butcher a whole bird? Am I doomed to an eternity of dry breast meat? In the third installment of her YouTube series, Cooking 101, the chef and cookbook author Sohla El-Waylly will help you master the basics of the bird, then set you up with a handful of recipes that highlight white and dark meat."
      ]
     },
     "execution_count": 9,
     "metadata": {},
     "output_type": "execute_result"
    }
   ],
   "source": [
    "allDocs.head()"
   ]
  },
  {
   "cell_type": "code",
   "execution_count": 10,
   "id": "32b8a22b-5265-4fb5-b49e-b22ae8f82eed",
   "metadata": {},
   "outputs": [
    {
     "data": {
      "text/html": [
       "<div>\n",
       "<style scoped>\n",
       "    .dataframe tbody tr th:only-of-type {\n",
       "        vertical-align: middle;\n",
       "    }\n",
       "\n",
       "    .dataframe tbody tr th {\n",
       "        vertical-align: top;\n",
       "    }\n",
       "\n",
       "    .dataframe thead th {\n",
       "        text-align: right;\n",
       "    }\n",
       "</style>\n",
       "<table border=\"1\" class=\"dataframe\">\n",
       "  <thead>\n",
       "    <tr style=\"text-align: right;\">\n",
       "      <th></th>\n",
       "      <th>document</th>\n",
       "    </tr>\n",
       "  </thead>\n",
       "  <tbody>\n",
       "    <tr>\n",
       "      <th>science_67</th>\n",
       "      <td>Dr. Goodall, who is best known for her work with chimpanzees, recently celebrated her forthcoming 90th birthday with as many dogs and explained why she isn’t slowing down. Jane Goodall is turning 90 on April 3 and the primatologist-turned-activist seems busier than ever. This year, she’ll be on the road for 320 days. She’ll be raising money for her nonprofit organizations, the Jane Goodall Institute and Roots &amp; Shoots, and encouraging people to take environmental action.</td>\n",
       "    </tr>\n",
       "    <tr>\n",
       "      <th>science_68</th>\n",
       "      <td>How do champion skaters accomplish their extraordinary jumps and spins? Brain science is uncovering clues.</td>\n",
       "    </tr>\n",
       "    <tr>\n",
       "      <th>science_69</th>\n",
       "      <td>The Delta IV Heavy, a rocket that briefly bursts into flame just before it lifts off, is set to launch for the last time soon. The ignition of the Delta IV Heavy rocket is perhaps the most visually striking liftoff you’ll ever see — the rocket seemingly burns itself up on the launchpad before it heads to space. Now, the very last Delta IV Heavy ever is on the launchpad.</td>\n",
       "    </tr>\n",
       "    <tr>\n",
       "      <th>science_70</th>\n",
       "      <td>A device called LightSound is being distributed to help the blind and visually impaired experience this year’s event. On Aug. 21, 2017, Kiki Smith’s teenage sons giddily prepared to watch the partial solar eclipse in Rochester, N.Y. As Ms. Smith listened to their chatter, she felt excluded.</td>\n",
       "    </tr>\n",
       "    <tr>\n",
       "      <th>science_71</th>\n",
       "      <td>The rendezvous between the sun and the moon in 2017 captivated a small region in the Midwest. Lucky for Americans at the eclipse crossroads, they get to see it again. It is rare for a total solar eclipse to hit the same place twice — once every 366 years on average. In 2019, this happened in the Pacific Ocean, far west of the coast of Chile. By a stroke of luck, the next one will span a region of about 10,000 square miles that includes parts of southern Illinois, southeastern Missouri and western Kentucky.</td>\n",
       "    </tr>\n",
       "  </tbody>\n",
       "</table>\n",
       "</div>"
      ],
      "text/plain": [
       "                                                                                                                                                                                                                                                                                                                                                                                                                                                                                                                                   document\n",
       "science_67                                      Dr. Goodall, who is best known for her work with chimpanzees, recently celebrated her forthcoming 90th birthday with as many dogs and explained why she isn’t slowing down. Jane Goodall is turning 90 on April 3 and the primatologist-turned-activist seems busier than ever. This year, she’ll be on the road for 320 days. She’ll be raising money for her nonprofit organizations, the Jane Goodall Institute and Roots & Shoots, and encouraging people to take environmental action.\n",
       "science_68                                                                                                                                                                                                                                                                                                                                                                                                                      How do champion skaters accomplish their extraordinary jumps and spins? Brain science is uncovering clues. \n",
       "science_69                                                                                                                                             The Delta IV Heavy, a rocket that briefly bursts into flame just before it lifts off, is set to launch for the last time soon. The ignition of the Delta IV Heavy rocket is perhaps the most visually striking liftoff you’ll ever see — the rocket seemingly burns itself up on the launchpad before it heads to space. Now, the very last Delta IV Heavy ever is on the launchpad.\n",
       "science_70                                                                                                                                                                                                                              A device called LightSound is being distributed to help the blind and visually impaired experience this year’s event. On Aug. 21, 2017, Kiki Smith’s teenage sons giddily prepared to watch the partial solar eclipse in Rochester, N.Y. As Ms. Smith listened to their chatter, she felt excluded.\n",
       "science_71  The rendezvous between the sun and the moon in 2017 captivated a small region in the Midwest. Lucky for Americans at the eclipse crossroads, they get to see it again. It is rare for a total solar eclipse to hit the same place twice — once every 366 years on average. In 2019, this happened in the Pacific Ocean, far west of the coast of Chile. By a stroke of luck, the next one will span a region of about 10,000 square miles that includes parts of southern Illinois, southeastern Missouri and western Kentucky."
      ]
     },
     "execution_count": 10,
     "metadata": {},
     "output_type": "execute_result"
    }
   ],
   "source": [
    "allDocs.tail()"
   ]
  },
  {
   "cell_type": "markdown",
   "id": "b88e687f-0552-4aea-a9ac-9a28de5d978a",
   "metadata": {},
   "source": [
    "<a id=\"sec2\"></a>\n",
    "## 2. Convert to document-term matrix\n",
    "\n",
    "We will apply the CountVectorizer to convert our corpus into a document-term matrix. Empirical evidence has shown that simply counting words is more meaningful for performing LDA on documents. (It is possible to use the Tf-idf vectorizer too.)"
   ]
  },
  {
   "cell_type": "code",
   "execution_count": 11,
   "id": "9603ec70-34fe-4eda-8f4e-c75e891197b7",
   "metadata": {},
   "outputs": [],
   "source": [
    "from sklearn.feature_extraction.text import CountVectorizer"
   ]
  },
  {
   "cell_type": "markdown",
   "id": "c4161269-702a-4006-9c43-d455bdece2fc",
   "metadata": {},
   "source": [
    "This process has always two steps: \n",
    "\n",
    "1. initialize the vectorizer constructor\n",
    "2. apply `fit_transform` to perform the transformation."
   ]
  },
  {
   "cell_type": "code",
   "execution_count": 33,
   "id": "9a120ec0-4afc-4456-9e41-801cb7d0ed80",
   "metadata": {},
   "outputs": [
    {
     "data": {
      "text/plain": [
       "<234x4504 sparse matrix of type '<class 'numpy.int64'>'\n",
       "\twith 8227 stored elements in Compressed Sparse Row format>"
      ]
     },
     "execution_count": 33,
     "metadata": {},
     "output_type": "execute_result"
    }
   ],
   "source": [
    "# Initialize the vectorizer\n",
    "vectorizer = CountVectorizer(\n",
    "    strip_accents='unicode',\n",
    "    stop_words='english',\n",
    "    lowercase=True,\n",
    "    token_pattern=r'\\b[a-zA-Z]{3,}\\b', # we want only words that contain letters and are 3 or more characters long\n",
    ")\n",
    "\n",
    "# Transform our data into the document-term matrix\n",
    "dtm = vectorizer.fit_transform(allDocs['document'])\n",
    "dtm"
   ]
  },
  {
   "cell_type": "markdown",
   "id": "f46c49a6-0c86-4c3a-88fc-60416743329e",
   "metadata": {},
   "source": [
    "### Exploring the features   \n",
    "Let's look at the features of the \"model\", that is, the columns of our document-term matrix:"
   ]
  },
  {
   "cell_type": "code",
   "execution_count": 13,
   "id": "0c5e9415-5d67-428e-a9f3-3a7cee7b453e",
   "metadata": {},
   "outputs": [
    {
     "data": {
      "text/plain": [
       "array(['abel', 'able', 'aboard', ..., 'zootampa', 'zumper', 'zuni'],\n",
       "      dtype=object)"
      ]
     },
     "execution_count": 13,
     "metadata": {},
     "output_type": "execute_result"
    }
   ],
   "source": [
    "feature_names = vectorizer.get_feature_names_out()\n",
    "feature_names"
   ]
  },
  {
   "cell_type": "markdown",
   "id": "cdd401a9-0ea4-408f-a59d-6fa33f5803f6",
   "metadata": {},
   "source": [
    "It's an array, let's look at its dimensions:"
   ]
  },
  {
   "cell_type": "code",
   "execution_count": 14,
   "id": "f21ea558-6a87-44e1-bd1b-f544df51fb54",
   "metadata": {},
   "outputs": [
    {
     "data": {
      "text/plain": [
       "(4504,)"
      ]
     },
     "execution_count": 14,
     "metadata": {},
     "output_type": "execute_result"
    }
   ],
   "source": [
    "feature_names.shape"
   ]
  },
  {
   "cell_type": "markdown",
   "id": "9eaeb888-ec28-4434-b1e2-f204a89c628e",
   "metadata": {},
   "source": [
    "Let's look at a larger chunk of values:"
   ]
  },
  {
   "cell_type": "code",
   "execution_count": 15,
   "id": "394019cf-6cf7-4bf0-b506-30b0354b06de",
   "metadata": {},
   "outputs": [
    {
     "data": {
      "text/plain": [
       "array(['barge', 'bargoer', 'bargoers', 'barked', 'barley', 'barn', 'barr',\n",
       "       'barriers', 'bars', 'bartender', 'bartered', 'bartlett', 'based',\n",
       "       'basement', 'basic', 'basics', 'basil', 'basilica', 'basin',\n",
       "       'basmati', 'bass', 'bassin', 'batch', 'bath', 'bathroom',\n",
       "       'bathrooms', 'battle', 'bay', 'bays', 'beach', 'beaches', 'beads',\n",
       "       'bean', 'beans', 'beat', 'beau', 'beautiful', 'beauty', 'beckoned',\n",
       "       'bedford', 'bedrock', 'bedroom', 'bedrooms', 'beef', 'beefbars',\n",
       "       'beekman', 'beets', 'began', 'beginners', 'beginning'],\n",
       "      dtype=object)"
      ]
     },
     "execution_count": 15,
     "metadata": {},
     "output_type": "execute_result"
    }
   ],
   "source": [
    "feature_names[300:350]"
   ]
  },
  {
   "cell_type": "markdown",
   "id": "c2e8f6e5-cc38-44f4-8a52-07c458be436d",
   "metadata": {},
   "source": [
    "It's clear that these are all cleaned words, three or more characters long, which have not been stemmed. That is, we have both \"bean\" and \"beans\" as two separate features."
   ]
  },
  {
   "cell_type": "markdown",
   "id": "4441c6a9-b806-46dc-8d19-003138f74e1a",
   "metadata": {},
   "source": [
    "### Understanding the document-term matrix\n",
    "\n",
    "Let's look at a single row of the matrix, the first row, which corresponds to the first document from the NYT articles:"
   ]
  },
  {
   "cell_type": "code",
   "execution_count": 16,
   "id": "1e6860bb-fe49-4aec-be62-17f45d0b8ad5",
   "metadata": {},
   "outputs": [
    {
     "data": {
      "text/plain": [
       "<1x4504 sparse matrix of type '<class 'numpy.int64'>'\n",
       "\twith 32 stored elements in Compressed Sparse Row format>"
      ]
     },
     "execution_count": 16,
     "metadata": {},
     "output_type": "execute_result"
    }
   ],
   "source": [
    "doc1 = dtm[0]\n",
    "doc1"
   ]
  },
  {
   "cell_type": "markdown",
   "id": "1b510de6-3055-489a-b391-d06cbcbfafe6",
   "metadata": {},
   "source": [
    "It says that it has 4504 colums, but there are only 32 stored elements (terms that are non-zero)."
   ]
  },
  {
   "cell_type": "markdown",
   "id": "483867c7-fdbb-47a8-bc01-e638b36026ea",
   "metadata": {},
   "source": [
    "We can use some Python code to find the words and their counts for this document:"
   ]
  },
  {
   "cell_type": "code",
   "execution_count": 17,
   "id": "9d15978f-db56-4861-9c42-bb1d7b107fe8",
   "metadata": {},
   "outputs": [
    {
     "name": "stdout",
     "output_type": "stream",
     "text": [
      "bones: 1\n",
      "caramelized: 1\n",
      "chill: 1\n",
      "cold: 1\n",
      "commit: 1\n",
      "crisp: 1\n",
      "does: 1\n",
      "enveloped: 1\n",
      "fade: 1\n",
      "golden: 1\n",
      "happens: 1\n",
      "hard: 1\n",
      "heat: 1\n",
      "kindest: 1\n",
      "long: 1\n",
      "memory: 1\n",
      "method: 1\n",
      "middle: 1\n",
      "outside: 1\n",
      "oven: 1\n",
      "roast: 1\n",
      "soften: 1\n",
      "starts: 1\n",
      "stiff: 1\n",
      "stiffness: 1\n",
      "sweeten: 1\n",
      "tender: 2\n",
      "thing: 2\n",
      "vegetables: 2\n",
      "warmth: 1\n",
      "winter: 1\n",
      "year: 1\n"
     ]
    }
   ],
   "source": [
    "row_index = 0\n",
    "doc_vec = dtm.getrow(row_index).toarray()\n",
    "\n",
    "non_zero_indices = doc_vec.nonzero()[1]\n",
    "dtm_scores = doc_vec[0, non_zero_indices] # goes and retrieves the values corresponding to the non_zero_indices\n",
    "words = [feature_names[i] for i in non_zero_indices]\n",
    "\n",
    "for word, score in zip(words, dtm_scores):\n",
    "    print(f\"{word}: {score}\")"
   ]
  },
  {
   "cell_type": "markdown",
   "id": "694ff9ed-95bf-4b9e-8548-bb834a2b1de6",
   "metadata": {},
   "source": [
    "We can look at non_zero_indices to check what that variable stores:"
   ]
  },
  {
   "cell_type": "code",
   "execution_count": 18,
   "id": "20535fab-52e4-4269-9381-c62f2fae8c23",
   "metadata": {},
   "outputs": [
    {
     "data": {
      "text/plain": [
       "array([ 437,  599,  713,  792,  830,  972, 1168, 1331, 1436, 1717, 1807,\n",
       "       1810, 1840, 2162, 2334, 2503, 2513, 2525, 2792, 2794, 3392, 3728,\n",
       "       3832, 3863, 3864, 3967, 4027, 4051, 4282, 4357, 4424, 4480])"
      ]
     },
     "execution_count": 18,
     "metadata": {},
     "output_type": "execute_result"
    }
   ],
   "source": [
    "non_zero_indices"
   ]
  },
  {
   "cell_type": "markdown",
   "id": "6765ac9d-fc51-42b3-baec-0f7ebb65ca9f",
   "metadata": {},
   "source": [
    "These values correspond to the column indices of each of the terms (words) in the matrix. A word like \"year\" has a high index, since is toward the end of the matrix, where terms are ordered alphabetically. \n",
    "\n",
    "Now that we know the indices of these words, we can use them to find how often each words occurrs in the entire matrix.\n",
    "\n",
    "We will check the word \"caramelized\", which has the index 599."
   ]
  },
  {
   "cell_type": "code",
   "execution_count": 19,
   "id": "635fcf0d-bbfe-4760-a952-fd9e2f4d5c14",
   "metadata": {},
   "outputs": [
    {
     "data": {
      "text/plain": [
       "array([[1, 0, 0, 0, 0, 0, 0, 0, 0, 0, 0, 1, 0, 0, 0, 0, 0, 0, 0, 0, 0, 0,\n",
       "        0, 0, 0, 0, 0, 0, 0, 0, 0, 0, 0, 0, 0, 0, 0, 0, 0, 1, 0, 0, 0, 0,\n",
       "        0, 0, 0, 0, 0, 0, 0, 0, 0, 0, 0, 0, 0, 0, 0, 0, 0, 0, 0, 0, 0, 0,\n",
       "        0, 0, 0, 0, 0, 0, 0, 0, 0, 0, 0, 0, 0, 0, 0, 0, 0, 0, 0, 0, 0, 0,\n",
       "        0, 0, 0, 0, 0, 0, 0, 0, 0, 0, 0, 0, 0, 0, 0, 0, 0, 0, 0, 0, 0, 0,\n",
       "        0, 0, 0, 0, 0, 0, 0, 0, 0, 0, 0, 0, 0, 0, 0, 0, 0, 0, 0, 0, 0, 0,\n",
       "        0, 0, 0, 0, 0, 0, 0, 0, 0, 0, 0, 0, 0, 0, 0, 0, 0, 0, 0, 0, 0, 0,\n",
       "        0, 0, 0, 0, 0, 0, 0, 0, 0, 0, 0, 0, 0, 0, 0, 0, 0, 0, 0, 0, 0, 0,\n",
       "        0, 0, 0, 0, 0, 0, 0, 0, 0, 0, 0, 0, 0, 0, 0, 0, 0, 0, 0, 0, 0, 0,\n",
       "        0, 0, 0, 0, 0, 0, 0, 0, 0, 0, 0, 0, 0, 0, 0, 0, 0, 0, 0, 0, 0, 0,\n",
       "        0, 0, 0, 0, 0, 0, 0, 0, 0, 0, 0, 0, 0, 0]])"
      ]
     },
     "execution_count": 19,
     "metadata": {},
     "output_type": "execute_result"
    }
   ],
   "source": [
    "dtm.getcol(599).toarray().T # get the column, turn it into an array format, then transpose it to be a row"
   ]
  },
  {
   "cell_type": "markdown",
   "id": "a06004ee-0ad3-4285-8133-adfbf4d8ab8e",
   "metadata": {},
   "source": [
    "It's obvious that the word doesn't show up often, I see only 3 values of 1. Let's check for the word \"vegetables\", index = 4282"
   ]
  },
  {
   "cell_type": "code",
   "execution_count": 20,
   "id": "1a156328-75b8-436c-91b9-5db2411f7b05",
   "metadata": {},
   "outputs": [
    {
     "data": {
      "text/plain": [
       "array([[2, 0, 0, 0, 0, 0, 0, 0, 0, 1, 0, 0, 0, 0, 0, 0, 0, 0, 0, 0, 0, 0,\n",
       "        0, 0, 0, 0, 0, 0, 0, 0, 1, 0, 0, 0, 0, 0, 0, 0, 0, 0, 0, 0, 0, 0,\n",
       "        0, 0, 0, 0, 0, 0, 0, 0, 0, 0, 0, 0, 0, 0, 0, 0, 0, 0, 0, 0, 0, 0,\n",
       "        0, 0, 0, 0, 1, 0, 0, 0, 0, 0, 0, 0, 0, 0, 0, 0, 0, 0, 0, 0, 0, 0,\n",
       "        0, 0, 0, 0, 0, 0, 0, 0, 0, 0, 0, 0, 0, 0, 0, 0, 0, 0, 0, 0, 0, 0,\n",
       "        0, 0, 0, 0, 0, 0, 0, 0, 0, 0, 0, 0, 0, 0, 0, 0, 0, 0, 0, 0, 0, 0,\n",
       "        0, 0, 0, 0, 0, 0, 0, 0, 0, 0, 0, 0, 0, 0, 0, 0, 0, 0, 0, 0, 0, 0,\n",
       "        0, 0, 0, 0, 0, 0, 0, 0, 0, 0, 0, 0, 0, 0, 0, 0, 0, 0, 0, 0, 0, 0,\n",
       "        0, 0, 0, 0, 0, 0, 0, 0, 0, 0, 0, 0, 0, 0, 0, 0, 0, 0, 0, 0, 0, 0,\n",
       "        0, 0, 0, 0, 0, 0, 0, 0, 0, 0, 0, 0, 0, 0, 0, 0, 0, 0, 0, 0, 0, 0,\n",
       "        0, 0, 0, 0, 0, 0, 0, 0, 0, 0, 0, 0, 0, 0]])"
      ]
     },
     "execution_count": 20,
     "metadata": {},
     "output_type": "execute_result"
    }
   ],
   "source": [
    "dtm.getcol(4282).toarray().T"
   ]
  },
  {
   "cell_type": "markdown",
   "id": "dea4c44f-01da-41a8-aba4-2b121f85a5aa",
   "metadata": {},
   "source": [
    "Even this word doesn't show in more than 3 documents in total. Meanwhile, let's see a word like \"year\", index = 4480:"
   ]
  },
  {
   "cell_type": "code",
   "execution_count": 21,
   "id": "3170843d-0df9-49e0-b941-34ffa9659ade",
   "metadata": {},
   "outputs": [
    {
     "data": {
      "text/plain": [
       "array([[1, 0, 0, 0, 0, 2, 0, 0, 0, 0, 0, 0, 0, 0, 0, 0, 0, 0, 0, 0, 0, 0,\n",
       "        0, 1, 0, 0, 1, 0, 0, 0, 0, 0, 0, 0, 0, 0, 0, 0, 0, 0, 0, 0, 0, 0,\n",
       "        0, 0, 0, 0, 0, 0, 0, 0, 0, 0, 0, 0, 0, 0, 0, 0, 0, 0, 0, 0, 0, 0,\n",
       "        0, 0, 0, 1, 0, 0, 0, 0, 0, 0, 0, 0, 0, 0, 0, 0, 0, 0, 0, 0, 1, 0,\n",
       "        0, 0, 0, 0, 0, 0, 0, 0, 0, 0, 0, 0, 2, 0, 0, 0, 0, 0, 0, 0, 0, 0,\n",
       "        0, 0, 0, 0, 0, 0, 0, 0, 0, 0, 0, 0, 0, 0, 0, 0, 0, 0, 0, 0, 0, 0,\n",
       "        0, 0, 0, 0, 0, 0, 0, 0, 0, 0, 0, 0, 0, 0, 0, 0, 0, 0, 0, 0, 0, 0,\n",
       "        0, 1, 0, 0, 0, 0, 0, 1, 2, 0, 0, 1, 0, 0, 0, 0, 0, 0, 0, 0, 0, 0,\n",
       "        0, 0, 0, 0, 0, 0, 0, 0, 0, 0, 0, 0, 0, 2, 0, 0, 0, 1, 0, 0, 0, 0,\n",
       "        0, 0, 0, 0, 0, 0, 0, 0, 0, 0, 1, 0, 0, 0, 0, 1, 0, 0, 0, 0, 0, 0,\n",
       "        1, 0, 0, 0, 0, 0, 0, 0, 0, 1, 0, 0, 1, 0]])"
      ]
     },
     "execution_count": 21,
     "metadata": {},
     "output_type": "execute_result"
    }
   ],
   "source": [
    "dtm.getcol(4480).toarray().T"
   ]
  },
  {
   "cell_type": "markdown",
   "id": "9432d6ba-2f86-4d06-9b9e-a1ba793774ef",
   "metadata": {},
   "source": [
    "This seems to occur a bit more often, we can find in how many documents:"
   ]
  },
  {
   "cell_type": "code",
   "execution_count": 22,
   "id": "5935a083-f208-433a-bd25-5d371e105eea",
   "metadata": {},
   "outputs": [
    {
     "data": {
      "text/plain": [
       "18"
      ]
     },
     "execution_count": 22,
     "metadata": {},
     "output_type": "execute_result"
    }
   ],
   "source": [
    "np.count_nonzero(dtm.getcol(4480).toarray().T)"
   ]
  },
  {
   "cell_type": "markdown",
   "id": "9aa3078b-a018-457c-8eab-6a0107a1cf42",
   "metadata": {},
   "source": [
    "### **Task for you:** find the top 5 words from this document (meaning, they show in most articles).\n",
    "\n",
    "Use the variable names that have been seen so far."
   ]
  },
  {
   "cell_type": "code",
   "execution_count": 47,
   "id": "e59a8bdb-96dc-4cb7-af3b-170f6d29cef1",
   "metadata": {},
   "outputs": [
    {
     "name": "stdout",
     "output_type": "stream",
     "text": [
      "Top 5 Words:\n",
      "new        89\n",
      "home       69\n",
      "bedroom    41\n",
      "like       33\n",
      "years      33\n",
      "Name: 0, dtype: int64\n"
     ]
    }
   ],
   "source": [
    "words = vectorizer.get_feature_names_out()\n",
    "#print(words)\n",
    "\n",
    "# Sum the occurrences of each word across all documents\n",
    "word_frequencies = np.sum(dtm, axis=0)\n",
    "\n",
    "# Create a DataFrame to associate words with their frequencies\n",
    "word_frequency_df = pd.DataFrame(\n",
    "    data=word_frequencies, \n",
    "    columns=words)\n",
    "\n",
    "# Extract the top 5 words with the highest values\n",
    "top_5_words = word_frequency_df.squeeze().nlargest(5)\n",
    "\n",
    "# Print the top 5 words\n",
    "print(\"Top 5 Words:\")\n",
    "print(top_5_words)"
   ]
  },
  {
   "cell_type": "markdown",
   "id": "4cabef82-eeb1-48a6-af28-aa7f576609e2",
   "metadata": {},
   "source": [
    "**Reflection questions** \n",
    "\n",
    "1. From these top words would you be able to infer that this document is about cooking/food? \n",
    "\n",
    "2. If these words were part of a **topic**, what would you name that topic?"
   ]
  },
  {
   "cell_type": "markdown",
   "id": "a5012232-5b17-4e73-818a-4e3b4d38141d",
   "metadata": {},
   "source": [
    "These top words (new, home, bedroom, like , years) do not suggest that the given document is about food. I would say that it is about 'home and living'."
   ]
  },
  {
   "cell_type": "markdown",
   "id": "a7574965-face-42cd-a7e7-4b91cdb9ee5f",
   "metadata": {},
   "source": [
    "### Going back to the dataframe"
   ]
  },
  {
   "cell_type": "markdown",
   "id": "98c44efe-ee5f-40f8-aa8d-988ab464ceec",
   "metadata": {},
   "source": [
    "We can create a function that takes the representation of each document as a row of numbers in the matrix and converts it back to a list of words."
   ]
  },
  {
   "cell_type": "code",
   "execution_count": 25,
   "id": "523d3de9-d4ce-4674-b832-6b36da164b6f",
   "metadata": {},
   "outputs": [],
   "source": [
    "def matrix2Doc(dtMatrix, features, index):\n",
    "    \"\"\"Turns each row of the document-term matrix into a list of terms\"\"\"\n",
    "    row = dtMatrix.getrow(index).toarray()\n",
    "    non_zero_indices = row.nonzero()[1]\n",
    "    words = [features[idx] for idx in non_zero_indices]\n",
    "    return words"
   ]
  },
  {
   "cell_type": "code",
   "execution_count": 26,
   "id": "3e41e469-d996-4595-9d7d-37e799206555",
   "metadata": {},
   "outputs": [],
   "source": [
    "allDocsAsTerms = [matrix2Doc(dtm, feature_names, i) for i in range(dtm.shape[0])]"
   ]
  },
  {
   "cell_type": "markdown",
   "id": "3ba40d9d-9587-479d-a496-c7057c3072ab",
   "metadata": {},
   "source": [
    "Check that we have all of them:"
   ]
  },
  {
   "cell_type": "code",
   "execution_count": 27,
   "id": "983e28bb-0490-475a-ac94-81fc5e4e9a9f",
   "metadata": {},
   "outputs": [
    {
     "data": {
      "text/plain": [
       "234"
      ]
     },
     "execution_count": 27,
     "metadata": {},
     "output_type": "execute_result"
    }
   ],
   "source": [
    "len(allDocsAsTerms)"
   ]
  },
  {
   "cell_type": "markdown",
   "id": "10d29b95-d2b4-49d0-8a3a-e91c849cddda",
   "metadata": {},
   "source": [
    "Add a column to the dataframe:"
   ]
  },
  {
   "cell_type": "code",
   "execution_count": 28,
   "id": "291c44a4-ebf2-4bad-9008-050d4af37769",
   "metadata": {},
   "outputs": [
    {
     "data": {
      "text/html": [
       "<div>\n",
       "<style scoped>\n",
       "    .dataframe tbody tr th:only-of-type {\n",
       "        vertical-align: middle;\n",
       "    }\n",
       "\n",
       "    .dataframe tbody tr th {\n",
       "        vertical-align: top;\n",
       "    }\n",
       "\n",
       "    .dataframe thead th {\n",
       "        text-align: right;\n",
       "    }\n",
       "</style>\n",
       "<table border=\"1\" class=\"dataframe\">\n",
       "  <thead>\n",
       "    <tr style=\"text-align: right;\">\n",
       "      <th></th>\n",
       "      <th>document</th>\n",
       "      <th>terms</th>\n",
       "    </tr>\n",
       "  </thead>\n",
       "  <tbody>\n",
       "    <tr>\n",
       "      <th>food_1</th>\n",
       "      <td>Commit this method to memory for caramelized and crisp yet tender vegetables all year long. The kindest thing you can do for yourself when you’re stiff from being in the cold is to find some warmth: Because as the chill in your bones starts to fade, so does your stiffness. The same thing happens to hard winter vegetables when they’re enveloped in the heat of the oven — they soften and sweeten as they roast until they’re golden outside and tender in the middle.</td>\n",
       "      <td>[bones, caramelized, chill, cold, commit, crisp, does, enveloped, fade, golden, happens, hard, heat, kindest, long, memory, method, middle, outside, oven, roast, soften, starts, stiff, stiffness, sweeten, tender, thing, vegetables, warmth, winter, year]</td>\n",
       "    </tr>\n",
       "    <tr>\n",
       "      <th>food_2</th>\n",
       "      <td>Kenji López-Alt’s buttery, unabashedly garlicky noodles are as easy to make as they are to devour. Good morning. The vernal equinox is in less than three weeks, but you wouldn’t know it from the frosted mud in the woods and the storm-wounded lawns where I stay. It’s bare ugly everywhere save in the bays, where water clear as gin flows over rocks in a spectrum of pink. At the market: cabbage and potatoes, a box of turnips, industrial berries that might have been grown in space. The new season’s coming, sure as tulips, but right now it’s hard to imagine.</td>\n",
       "      <td>[alt, bare, bays, berries, box, buttery, cabbage, clear, coming, devour, easy, equinox, flows, frosted, garlicky, gin, good, grown, hard, imagine, industrial, kenji, know, lawns, lopez, make, market, morning, mud, new, noodles, pink, potatoes, right, rocks, save, season, space, spectrum, stay, storm, sure, tulips, turnips, ugly, unabashedly, vernal, water, weeks, woods, wouldn, wounded]</td>\n",
       "    </tr>\n",
       "    <tr>\n",
       "      <th>food_3</th>\n",
       "      <td>Just add rice or potatoes (and maybe a chilled white wine). Citrus and salmon is a winning combination, previously proven in New York Times Cooking’s recipes for broiled salmon with mustard and lemon, roasted salmon with ginger-lime butter and citrusy roasted salmon and potatoes. Our newest addition to this esteemed company is Farideh Sadeghin’s recipe for orange-glazed baked salmon. It’s a no-fuss fish dinner with a clever, timesaving twist: Farideh builds a side salad into the recipe by tossing salad greens with some of the reserved honeyed orange juice that is used to flavor the salmon. If you’re looking at the above image and thinking, “I bet blood oranges would be especially beautiful and excellent in this recipe,” know that Coco, a reader, already tried that and can confirm that the results were “absolutely delicious.”</td>\n",
       "      <td>[absolutely, add, addition, baked, beautiful, bet, blood, broiled, builds, butter, chilled, citrus, citrusy, clever, coco, combination, company, confirm, cooking, delicious, dinner, especially, esteemed, excellent, farideh, fish, flavor, fuss, ginger, glazed, greens, honeyed, image, juice, just, know, lemon, lime, looking, maybe, mustard, new, newest, orange, oranges, potatoes, previously, proven, reader, recipe, recipes, reserved, results, rice, roasted, sadeghin, salad, salmon, thinking, times, timesaving, tossing, tried, twist, used, white, wine, winning, york]</td>\n",
       "    </tr>\n",
       "    <tr>\n",
       "      <th>food_4</th>\n",
       "      <td>It’s a showstopping kaleidoscope of bulgogi, shiitakes, bean sprouts, spinach, carrots and cucumbers, all drizzled with a spicy gochujang sauce. Good morning. On Sunday, I like a project in the kitchen more than on any other day. It’s a chance to work at the stove without the need to get something on the table in 45 minutes, a time to stretch my skill set. Mostly, it’s an opportunity to explore recipes rather than simply following them. On Sundays I don’t want to fly by wire. I want to fly.</td>\n",
       "      <td>[bean, bulgogi, carrots, chance, cucumbers, day, don, drizzled, explore, fly, following, gochujang, good, kaleidoscope, kitchen, like, minutes, morning, need, opportunity, project, recipes, sauce, set, shiitakes, showstopping, simply, skill, spicy, spinach, sprouts, stove, stretch, sunday, sundays, table, time, want, wire, work]</td>\n",
       "    </tr>\n",
       "    <tr>\n",
       "      <th>food_5</th>\n",
       "      <td>In the third installment of her YouTube series, the cookbook author and chef Sohla El-Waylly will teach you how to master the basics of the bird. For beginners and experienced cooks alike, preparing chicken can come with a lot of questions (and nerves!). Am I going to get salmonella? How do I butcher a whole bird? Am I doomed to an eternity of dry breast meat? In the third installment of her YouTube series, Cooking 101, the chef and cookbook author Sohla El-Waylly will help you master the basics of the bird, then set you up with a handful of recipes that highlight white and dark meat.</td>\n",
       "      <td>[alike, author, basics, beginners, bird, breast, butcher, chef, chicken, come, cookbook, cooking, cooks, dark, doomed, dry, eternity, experienced, going, handful, help, highlight, installment, lot, master, meat, nerves, preparing, questions, recipes, salmonella, series, set, sohla, teach, waylly, white, youtube]</td>\n",
       "    </tr>\n",
       "  </tbody>\n",
       "</table>\n",
       "</div>"
      ],
      "text/plain": [
       "                                                                                                                                                                                                                                                                                                                                                                                                                                                                                                                                                                                                                                                                                                                                                                                                                                                                    document  \\\n",
       "food_1                                                                                                                                                                                                                                                                                                                                                                                      Commit this method to memory for caramelized and crisp yet tender vegetables all year long. The kindest thing you can do for yourself when you’re stiff from being in the cold is to find some warmth: Because as the chill in your bones starts to fade, so does your stiffness. The same thing happens to hard winter vegetables when they’re enveloped in the heat of the oven — they soften and sweeten as they roast until they’re golden outside and tender in the middle.   \n",
       "food_2                                                                                                                                                                                                                                                                                        Kenji López-Alt’s buttery, unabashedly garlicky noodles are as easy to make as they are to devour. Good morning. The vernal equinox is in less than three weeks, but you wouldn’t know it from the frosted mud in the woods and the storm-wounded lawns where I stay. It’s bare ugly everywhere save in the bays, where water clear as gin flows over rocks in a spectrum of pink. At the market: cabbage and potatoes, a box of turnips, industrial berries that might have been grown in space. The new season’s coming, sure as tulips, but right now it’s hard to imagine.   \n",
       "food_3  Just add rice or potatoes (and maybe a chilled white wine). Citrus and salmon is a winning combination, previously proven in New York Times Cooking’s recipes for broiled salmon with mustard and lemon, roasted salmon with ginger-lime butter and citrusy roasted salmon and potatoes. Our newest addition to this esteemed company is Farideh Sadeghin’s recipe for orange-glazed baked salmon. It’s a no-fuss fish dinner with a clever, timesaving twist: Farideh builds a side salad into the recipe by tossing salad greens with some of the reserved honeyed orange juice that is used to flavor the salmon. If you’re looking at the above image and thinking, “I bet blood oranges would be especially beautiful and excellent in this recipe,” know that Coco, a reader, already tried that and can confirm that the results were “absolutely delicious.”   \n",
       "food_4                                                                                                                                                                                                                                                                                                                                                       It’s a showstopping kaleidoscope of bulgogi, shiitakes, bean sprouts, spinach, carrots and cucumbers, all drizzled with a spicy gochujang sauce. Good morning. On Sunday, I like a project in the kitchen more than on any other day. It’s a chance to work at the stove without the need to get something on the table in 45 minutes, a time to stretch my skill set. Mostly, it’s an opportunity to explore recipes rather than simply following them. On Sundays I don’t want to fly by wire. I want to fly.   \n",
       "food_5                                                                                                                                                                                                                                                       In the third installment of her YouTube series, the cookbook author and chef Sohla El-Waylly will teach you how to master the basics of the bird. For beginners and experienced cooks alike, preparing chicken can come with a lot of questions (and nerves!). Am I going to get salmonella? How do I butcher a whole bird? Am I doomed to an eternity of dry breast meat? In the third installment of her YouTube series, Cooking 101, the chef and cookbook author Sohla El-Waylly will help you master the basics of the bird, then set you up with a handful of recipes that highlight white and dark meat.   \n",
       "\n",
       "                                                                                                                                                                                                                                                                                                                                                                                                                                                                                                                                                                                             terms  \n",
       "food_1                                                                                                                                                                                                                                                                                                                               [bones, caramelized, chill, cold, commit, crisp, does, enveloped, fade, golden, happens, hard, heat, kindest, long, memory, method, middle, outside, oven, roast, soften, starts, stiff, stiffness, sweeten, tender, thing, vegetables, warmth, winter, year]  \n",
       "food_2                                                                                                                                                                                       [alt, bare, bays, berries, box, buttery, cabbage, clear, coming, devour, easy, equinox, flows, frosted, garlicky, gin, good, grown, hard, imagine, industrial, kenji, know, lawns, lopez, make, market, morning, mud, new, noodles, pink, potatoes, right, rocks, save, season, space, spectrum, stay, storm, sure, tulips, turnips, ugly, unabashedly, vernal, water, weeks, woods, wouldn, wounded]  \n",
       "food_3  [absolutely, add, addition, baked, beautiful, bet, blood, broiled, builds, butter, chilled, citrus, citrusy, clever, coco, combination, company, confirm, cooking, delicious, dinner, especially, esteemed, excellent, farideh, fish, flavor, fuss, ginger, glazed, greens, honeyed, image, juice, just, know, lemon, lime, looking, maybe, mustard, new, newest, orange, oranges, potatoes, previously, proven, reader, recipe, recipes, reserved, results, rice, roasted, sadeghin, salad, salmon, thinking, times, timesaving, tossing, tried, twist, used, white, wine, winning, york]  \n",
       "food_4                                                                                                                                                                                                                                                  [bean, bulgogi, carrots, chance, cucumbers, day, don, drizzled, explore, fly, following, gochujang, good, kaleidoscope, kitchen, like, minutes, morning, need, opportunity, project, recipes, sauce, set, shiitakes, showstopping, simply, skill, spicy, spinach, sprouts, stove, stretch, sunday, sundays, table, time, want, wire, work]  \n",
       "food_5                                                                                                                                                                                                                                                                   [alike, author, basics, beginners, bird, breast, butcher, chef, chicken, come, cookbook, cooking, cooks, dark, doomed, dry, eternity, experienced, going, handful, help, highlight, installment, lot, master, meat, nerves, preparing, questions, recipes, salmonella, series, set, sohla, teach, waylly, white, youtube]  "
      ]
     },
     "execution_count": 28,
     "metadata": {},
     "output_type": "execute_result"
    }
   ],
   "source": [
    "allDocs['terms'] = allDocsAsTerms\n",
    "allDocs.head()"
   ]
  },
  {
   "cell_type": "markdown",
   "id": "efba34c1-e132-447c-9304-f084af84e8ff",
   "metadata": {},
   "source": [
    "<a id=\"sec3\"></a>\n",
    "## 3. Fit the LDA model\n",
    "\n",
    "Now that the data is ready and we understand well how it is represented (and how sparse it is), let us fit the LDA model:"
   ]
  },
  {
   "cell_type": "code",
   "execution_count": 29,
   "id": "6632eb57-7a22-4e3c-9a6a-8615859147ee",
   "metadata": {},
   "outputs": [
    {
     "data": {
      "text/html": [
       "<style>#sk-container-id-1 {\n",
       "  /* Definition of color scheme common for light and dark mode */\n",
       "  --sklearn-color-text: black;\n",
       "  --sklearn-color-line: gray;\n",
       "  /* Definition of color scheme for unfitted estimators */\n",
       "  --sklearn-color-unfitted-level-0: #fff5e6;\n",
       "  --sklearn-color-unfitted-level-1: #f6e4d2;\n",
       "  --sklearn-color-unfitted-level-2: #ffe0b3;\n",
       "  --sklearn-color-unfitted-level-3: chocolate;\n",
       "  /* Definition of color scheme for fitted estimators */\n",
       "  --sklearn-color-fitted-level-0: #f0f8ff;\n",
       "  --sklearn-color-fitted-level-1: #d4ebff;\n",
       "  --sklearn-color-fitted-level-2: #b3dbfd;\n",
       "  --sklearn-color-fitted-level-3: cornflowerblue;\n",
       "\n",
       "  /* Specific color for light theme */\n",
       "  --sklearn-color-text-on-default-background: var(--sg-text-color, var(--theme-code-foreground, var(--jp-content-font-color1, black)));\n",
       "  --sklearn-color-background: var(--sg-background-color, var(--theme-background, var(--jp-layout-color0, white)));\n",
       "  --sklearn-color-border-box: var(--sg-text-color, var(--theme-code-foreground, var(--jp-content-font-color1, black)));\n",
       "  --sklearn-color-icon: #696969;\n",
       "\n",
       "  @media (prefers-color-scheme: dark) {\n",
       "    /* Redefinition of color scheme for dark theme */\n",
       "    --sklearn-color-text-on-default-background: var(--sg-text-color, var(--theme-code-foreground, var(--jp-content-font-color1, white)));\n",
       "    --sklearn-color-background: var(--sg-background-color, var(--theme-background, var(--jp-layout-color0, #111)));\n",
       "    --sklearn-color-border-box: var(--sg-text-color, var(--theme-code-foreground, var(--jp-content-font-color1, white)));\n",
       "    --sklearn-color-icon: #878787;\n",
       "  }\n",
       "}\n",
       "\n",
       "#sk-container-id-1 {\n",
       "  color: var(--sklearn-color-text);\n",
       "}\n",
       "\n",
       "#sk-container-id-1 pre {\n",
       "  padding: 0;\n",
       "}\n",
       "\n",
       "#sk-container-id-1 input.sk-hidden--visually {\n",
       "  border: 0;\n",
       "  clip: rect(1px 1px 1px 1px);\n",
       "  clip: rect(1px, 1px, 1px, 1px);\n",
       "  height: 1px;\n",
       "  margin: -1px;\n",
       "  overflow: hidden;\n",
       "  padding: 0;\n",
       "  position: absolute;\n",
       "  width: 1px;\n",
       "}\n",
       "\n",
       "#sk-container-id-1 div.sk-dashed-wrapped {\n",
       "  border: 1px dashed var(--sklearn-color-line);\n",
       "  margin: 0 0.4em 0.5em 0.4em;\n",
       "  box-sizing: border-box;\n",
       "  padding-bottom: 0.4em;\n",
       "  background-color: var(--sklearn-color-background);\n",
       "}\n",
       "\n",
       "#sk-container-id-1 div.sk-container {\n",
       "  /* jupyter's `normalize.less` sets `[hidden] { display: none; }`\n",
       "     but bootstrap.min.css set `[hidden] { display: none !important; }`\n",
       "     so we also need the `!important` here to be able to override the\n",
       "     default hidden behavior on the sphinx rendered scikit-learn.org.\n",
       "     See: https://github.com/scikit-learn/scikit-learn/issues/21755 */\n",
       "  display: inline-block !important;\n",
       "  position: relative;\n",
       "}\n",
       "\n",
       "#sk-container-id-1 div.sk-text-repr-fallback {\n",
       "  display: none;\n",
       "}\n",
       "\n",
       "div.sk-parallel-item,\n",
       "div.sk-serial,\n",
       "div.sk-item {\n",
       "  /* draw centered vertical line to link estimators */\n",
       "  background-image: linear-gradient(var(--sklearn-color-text-on-default-background), var(--sklearn-color-text-on-default-background));\n",
       "  background-size: 2px 100%;\n",
       "  background-repeat: no-repeat;\n",
       "  background-position: center center;\n",
       "}\n",
       "\n",
       "/* Parallel-specific style estimator block */\n",
       "\n",
       "#sk-container-id-1 div.sk-parallel-item::after {\n",
       "  content: \"\";\n",
       "  width: 100%;\n",
       "  border-bottom: 2px solid var(--sklearn-color-text-on-default-background);\n",
       "  flex-grow: 1;\n",
       "}\n",
       "\n",
       "#sk-container-id-1 div.sk-parallel {\n",
       "  display: flex;\n",
       "  align-items: stretch;\n",
       "  justify-content: center;\n",
       "  background-color: var(--sklearn-color-background);\n",
       "  position: relative;\n",
       "}\n",
       "\n",
       "#sk-container-id-1 div.sk-parallel-item {\n",
       "  display: flex;\n",
       "  flex-direction: column;\n",
       "}\n",
       "\n",
       "#sk-container-id-1 div.sk-parallel-item:first-child::after {\n",
       "  align-self: flex-end;\n",
       "  width: 50%;\n",
       "}\n",
       "\n",
       "#sk-container-id-1 div.sk-parallel-item:last-child::after {\n",
       "  align-self: flex-start;\n",
       "  width: 50%;\n",
       "}\n",
       "\n",
       "#sk-container-id-1 div.sk-parallel-item:only-child::after {\n",
       "  width: 0;\n",
       "}\n",
       "\n",
       "/* Serial-specific style estimator block */\n",
       "\n",
       "#sk-container-id-1 div.sk-serial {\n",
       "  display: flex;\n",
       "  flex-direction: column;\n",
       "  align-items: center;\n",
       "  background-color: var(--sklearn-color-background);\n",
       "  padding-right: 1em;\n",
       "  padding-left: 1em;\n",
       "}\n",
       "\n",
       "\n",
       "/* Toggleable style: style used for estimator/Pipeline/ColumnTransformer box that is\n",
       "clickable and can be expanded/collapsed.\n",
       "- Pipeline and ColumnTransformer use this feature and define the default style\n",
       "- Estimators will overwrite some part of the style using the `sk-estimator` class\n",
       "*/\n",
       "\n",
       "/* Pipeline and ColumnTransformer style (default) */\n",
       "\n",
       "#sk-container-id-1 div.sk-toggleable {\n",
       "  /* Default theme specific background. It is overwritten whether we have a\n",
       "  specific estimator or a Pipeline/ColumnTransformer */\n",
       "  background-color: var(--sklearn-color-background);\n",
       "}\n",
       "\n",
       "/* Toggleable label */\n",
       "#sk-container-id-1 label.sk-toggleable__label {\n",
       "  cursor: pointer;\n",
       "  display: block;\n",
       "  width: 100%;\n",
       "  margin-bottom: 0;\n",
       "  padding: 0.5em;\n",
       "  box-sizing: border-box;\n",
       "  text-align: center;\n",
       "}\n",
       "\n",
       "#sk-container-id-1 label.sk-toggleable__label-arrow:before {\n",
       "  /* Arrow on the left of the label */\n",
       "  content: \"▸\";\n",
       "  float: left;\n",
       "  margin-right: 0.25em;\n",
       "  color: var(--sklearn-color-icon);\n",
       "}\n",
       "\n",
       "#sk-container-id-1 label.sk-toggleable__label-arrow:hover:before {\n",
       "  color: var(--sklearn-color-text);\n",
       "}\n",
       "\n",
       "/* Toggleable content - dropdown */\n",
       "\n",
       "#sk-container-id-1 div.sk-toggleable__content {\n",
       "  max-height: 0;\n",
       "  max-width: 0;\n",
       "  overflow: hidden;\n",
       "  text-align: left;\n",
       "  /* unfitted */\n",
       "  background-color: var(--sklearn-color-unfitted-level-0);\n",
       "}\n",
       "\n",
       "#sk-container-id-1 div.sk-toggleable__content.fitted {\n",
       "  /* fitted */\n",
       "  background-color: var(--sklearn-color-fitted-level-0);\n",
       "}\n",
       "\n",
       "#sk-container-id-1 div.sk-toggleable__content pre {\n",
       "  margin: 0.2em;\n",
       "  border-radius: 0.25em;\n",
       "  color: var(--sklearn-color-text);\n",
       "  /* unfitted */\n",
       "  background-color: var(--sklearn-color-unfitted-level-0);\n",
       "}\n",
       "\n",
       "#sk-container-id-1 div.sk-toggleable__content.fitted pre {\n",
       "  /* unfitted */\n",
       "  background-color: var(--sklearn-color-fitted-level-0);\n",
       "}\n",
       "\n",
       "#sk-container-id-1 input.sk-toggleable__control:checked~div.sk-toggleable__content {\n",
       "  /* Expand drop-down */\n",
       "  max-height: 200px;\n",
       "  max-width: 100%;\n",
       "  overflow: auto;\n",
       "}\n",
       "\n",
       "#sk-container-id-1 input.sk-toggleable__control:checked~label.sk-toggleable__label-arrow:before {\n",
       "  content: \"▾\";\n",
       "}\n",
       "\n",
       "/* Pipeline/ColumnTransformer-specific style */\n",
       "\n",
       "#sk-container-id-1 div.sk-label input.sk-toggleable__control:checked~label.sk-toggleable__label {\n",
       "  color: var(--sklearn-color-text);\n",
       "  background-color: var(--sklearn-color-unfitted-level-2);\n",
       "}\n",
       "\n",
       "#sk-container-id-1 div.sk-label.fitted input.sk-toggleable__control:checked~label.sk-toggleable__label {\n",
       "  background-color: var(--sklearn-color-fitted-level-2);\n",
       "}\n",
       "\n",
       "/* Estimator-specific style */\n",
       "\n",
       "/* Colorize estimator box */\n",
       "#sk-container-id-1 div.sk-estimator input.sk-toggleable__control:checked~label.sk-toggleable__label {\n",
       "  /* unfitted */\n",
       "  background-color: var(--sklearn-color-unfitted-level-2);\n",
       "}\n",
       "\n",
       "#sk-container-id-1 div.sk-estimator.fitted input.sk-toggleable__control:checked~label.sk-toggleable__label {\n",
       "  /* fitted */\n",
       "  background-color: var(--sklearn-color-fitted-level-2);\n",
       "}\n",
       "\n",
       "#sk-container-id-1 div.sk-label label.sk-toggleable__label,\n",
       "#sk-container-id-1 div.sk-label label {\n",
       "  /* The background is the default theme color */\n",
       "  color: var(--sklearn-color-text-on-default-background);\n",
       "}\n",
       "\n",
       "/* On hover, darken the color of the background */\n",
       "#sk-container-id-1 div.sk-label:hover label.sk-toggleable__label {\n",
       "  color: var(--sklearn-color-text);\n",
       "  background-color: var(--sklearn-color-unfitted-level-2);\n",
       "}\n",
       "\n",
       "/* Label box, darken color on hover, fitted */\n",
       "#sk-container-id-1 div.sk-label.fitted:hover label.sk-toggleable__label.fitted {\n",
       "  color: var(--sklearn-color-text);\n",
       "  background-color: var(--sklearn-color-fitted-level-2);\n",
       "}\n",
       "\n",
       "/* Estimator label */\n",
       "\n",
       "#sk-container-id-1 div.sk-label label {\n",
       "  font-family: monospace;\n",
       "  font-weight: bold;\n",
       "  display: inline-block;\n",
       "  line-height: 1.2em;\n",
       "}\n",
       "\n",
       "#sk-container-id-1 div.sk-label-container {\n",
       "  text-align: center;\n",
       "}\n",
       "\n",
       "/* Estimator-specific */\n",
       "#sk-container-id-1 div.sk-estimator {\n",
       "  font-family: monospace;\n",
       "  border: 1px dotted var(--sklearn-color-border-box);\n",
       "  border-radius: 0.25em;\n",
       "  box-sizing: border-box;\n",
       "  margin-bottom: 0.5em;\n",
       "  /* unfitted */\n",
       "  background-color: var(--sklearn-color-unfitted-level-0);\n",
       "}\n",
       "\n",
       "#sk-container-id-1 div.sk-estimator.fitted {\n",
       "  /* fitted */\n",
       "  background-color: var(--sklearn-color-fitted-level-0);\n",
       "}\n",
       "\n",
       "/* on hover */\n",
       "#sk-container-id-1 div.sk-estimator:hover {\n",
       "  /* unfitted */\n",
       "  background-color: var(--sklearn-color-unfitted-level-2);\n",
       "}\n",
       "\n",
       "#sk-container-id-1 div.sk-estimator.fitted:hover {\n",
       "  /* fitted */\n",
       "  background-color: var(--sklearn-color-fitted-level-2);\n",
       "}\n",
       "\n",
       "/* Specification for estimator info (e.g. \"i\" and \"?\") */\n",
       "\n",
       "/* Common style for \"i\" and \"?\" */\n",
       "\n",
       ".sk-estimator-doc-link,\n",
       "a:link.sk-estimator-doc-link,\n",
       "a:visited.sk-estimator-doc-link {\n",
       "  float: right;\n",
       "  font-size: smaller;\n",
       "  line-height: 1em;\n",
       "  font-family: monospace;\n",
       "  background-color: var(--sklearn-color-background);\n",
       "  border-radius: 1em;\n",
       "  height: 1em;\n",
       "  width: 1em;\n",
       "  text-decoration: none !important;\n",
       "  margin-left: 1ex;\n",
       "  /* unfitted */\n",
       "  border: var(--sklearn-color-unfitted-level-1) 1pt solid;\n",
       "  color: var(--sklearn-color-unfitted-level-1);\n",
       "}\n",
       "\n",
       ".sk-estimator-doc-link.fitted,\n",
       "a:link.sk-estimator-doc-link.fitted,\n",
       "a:visited.sk-estimator-doc-link.fitted {\n",
       "  /* fitted */\n",
       "  border: var(--sklearn-color-fitted-level-1) 1pt solid;\n",
       "  color: var(--sklearn-color-fitted-level-1);\n",
       "}\n",
       "\n",
       "/* On hover */\n",
       "div.sk-estimator:hover .sk-estimator-doc-link:hover,\n",
       ".sk-estimator-doc-link:hover,\n",
       "div.sk-label-container:hover .sk-estimator-doc-link:hover,\n",
       ".sk-estimator-doc-link:hover {\n",
       "  /* unfitted */\n",
       "  background-color: var(--sklearn-color-unfitted-level-3);\n",
       "  color: var(--sklearn-color-background);\n",
       "  text-decoration: none;\n",
       "}\n",
       "\n",
       "div.sk-estimator.fitted:hover .sk-estimator-doc-link.fitted:hover,\n",
       ".sk-estimator-doc-link.fitted:hover,\n",
       "div.sk-label-container:hover .sk-estimator-doc-link.fitted:hover,\n",
       ".sk-estimator-doc-link.fitted:hover {\n",
       "  /* fitted */\n",
       "  background-color: var(--sklearn-color-fitted-level-3);\n",
       "  color: var(--sklearn-color-background);\n",
       "  text-decoration: none;\n",
       "}\n",
       "\n",
       "/* Span, style for the box shown on hovering the info icon */\n",
       ".sk-estimator-doc-link span {\n",
       "  display: none;\n",
       "  z-index: 9999;\n",
       "  position: relative;\n",
       "  font-weight: normal;\n",
       "  right: .2ex;\n",
       "  padding: .5ex;\n",
       "  margin: .5ex;\n",
       "  width: min-content;\n",
       "  min-width: 20ex;\n",
       "  max-width: 50ex;\n",
       "  color: var(--sklearn-color-text);\n",
       "  box-shadow: 2pt 2pt 4pt #999;\n",
       "  /* unfitted */\n",
       "  background: var(--sklearn-color-unfitted-level-0);\n",
       "  border: .5pt solid var(--sklearn-color-unfitted-level-3);\n",
       "}\n",
       "\n",
       ".sk-estimator-doc-link.fitted span {\n",
       "  /* fitted */\n",
       "  background: var(--sklearn-color-fitted-level-0);\n",
       "  border: var(--sklearn-color-fitted-level-3);\n",
       "}\n",
       "\n",
       ".sk-estimator-doc-link:hover span {\n",
       "  display: block;\n",
       "}\n",
       "\n",
       "/* \"?\"-specific style due to the `<a>` HTML tag */\n",
       "\n",
       "#sk-container-id-1 a.estimator_doc_link {\n",
       "  float: right;\n",
       "  font-size: 1rem;\n",
       "  line-height: 1em;\n",
       "  font-family: monospace;\n",
       "  background-color: var(--sklearn-color-background);\n",
       "  border-radius: 1rem;\n",
       "  height: 1rem;\n",
       "  width: 1rem;\n",
       "  text-decoration: none;\n",
       "  /* unfitted */\n",
       "  color: var(--sklearn-color-unfitted-level-1);\n",
       "  border: var(--sklearn-color-unfitted-level-1) 1pt solid;\n",
       "}\n",
       "\n",
       "#sk-container-id-1 a.estimator_doc_link.fitted {\n",
       "  /* fitted */\n",
       "  border: var(--sklearn-color-fitted-level-1) 1pt solid;\n",
       "  color: var(--sklearn-color-fitted-level-1);\n",
       "}\n",
       "\n",
       "/* On hover */\n",
       "#sk-container-id-1 a.estimator_doc_link:hover {\n",
       "  /* unfitted */\n",
       "  background-color: var(--sklearn-color-unfitted-level-3);\n",
       "  color: var(--sklearn-color-background);\n",
       "  text-decoration: none;\n",
       "}\n",
       "\n",
       "#sk-container-id-1 a.estimator_doc_link.fitted:hover {\n",
       "  /* fitted */\n",
       "  background-color: var(--sklearn-color-fitted-level-3);\n",
       "}\n",
       "</style><div id=\"sk-container-id-1\" class=\"sk-top-container\"><div class=\"sk-text-repr-fallback\"><pre>LatentDirichletAllocation(n_components=15, random_state=0)</pre><b>In a Jupyter environment, please rerun this cell to show the HTML representation or trust the notebook. <br />On GitHub, the HTML representation is unable to render, please try loading this page with nbviewer.org.</b></div><div class=\"sk-container\" hidden><div class=\"sk-item\"><div class=\"sk-estimator fitted sk-toggleable\"><input class=\"sk-toggleable__control sk-hidden--visually\" id=\"sk-estimator-id-1\" type=\"checkbox\" checked><label for=\"sk-estimator-id-1\" class=\"sk-toggleable__label fitted sk-toggleable__label-arrow fitted\">&nbsp;&nbsp;LatentDirichletAllocation<a class=\"sk-estimator-doc-link fitted\" rel=\"noreferrer\" target=\"_blank\" href=\"https://scikit-learn.org/1.4/modules/generated/sklearn.decomposition.LatentDirichletAllocation.html\">?<span>Documentation for LatentDirichletAllocation</span></a><span class=\"sk-estimator-doc-link fitted\">i<span>Fitted</span></span></label><div class=\"sk-toggleable__content fitted\"><pre>LatentDirichletAllocation(n_components=15, random_state=0)</pre></div> </div></div></div></div>"
      ],
      "text/plain": [
       "LatentDirichletAllocation(n_components=15, random_state=0)"
      ]
     },
     "execution_count": 29,
     "metadata": {},
     "output_type": "execute_result"
    }
   ],
   "source": [
    "from sklearn.decomposition import LatentDirichletAllocation\n",
    "\n",
    "# Step 1: Initialize the model\n",
    "\n",
    "lda = LatentDirichletAllocation(n_components=15, # we are picking the number of topics arbitrarely at the moment\n",
    "                                random_state=0)\n",
    "\n",
    "# Step 2: Fit the model\n",
    "lda.fit(dtm)"
   ]
  },
  {
   "cell_type": "markdown",
   "id": "9a6995b3-15d9-42de-a289-f1f797a18cbc",
   "metadata": {},
   "source": [
    "The representation of topics can be accessed this way:"
   ]
  },
  {
   "cell_type": "code",
   "execution_count": 30,
   "id": "aa59e523-b7bd-418e-a7f6-17bd6a59f1f2",
   "metadata": {},
   "outputs": [
    {
     "data": {
      "text/plain": [
       "array([[0.06666667, 0.06666667, 0.06666667, ..., 0.06666667, 1.06666664,\n",
       "        0.06666667],\n",
       "       [0.06666667, 0.06666667, 0.06666667, ..., 0.06666667, 0.06666667,\n",
       "        0.06666667],\n",
       "       [0.06666667, 0.06666667, 0.06666667, ..., 0.06666667, 0.06666667,\n",
       "        2.06666667],\n",
       "       ...,\n",
       "       [0.06666667, 0.06666667, 0.06666667, ..., 0.06666667, 0.06666667,\n",
       "        0.06666667],\n",
       "       [0.06666667, 0.06666667, 0.06666667, ..., 0.06666667, 0.06666667,\n",
       "        0.06666667],\n",
       "       [0.06666667, 0.06666667, 0.06666667, ..., 0.06666667, 0.06666667,\n",
       "        0.06666667]])"
      ]
     },
     "execution_count": 30,
     "metadata": {},
     "output_type": "execute_result"
    }
   ],
   "source": [
    "lda.components_"
   ]
  },
  {
   "cell_type": "markdown",
   "id": "cc0a4970-0d1f-4272-9f85-ec7a594ad549",
   "metadata": {},
   "source": [
    "What are the dimensions?"
   ]
  },
  {
   "cell_type": "code",
   "execution_count": 31,
   "id": "aa1ab118-d07e-4d26-8b26-fea7e06fea87",
   "metadata": {},
   "outputs": [
    {
     "data": {
      "text/plain": [
       "(15, 4504)"
      ]
     },
     "execution_count": 31,
     "metadata": {},
     "output_type": "execute_result"
    }
   ],
   "source": [
    "lda.components_.shape"
   ]
  },
  {
   "cell_type": "markdown",
   "id": "56d1e132-5d4b-42b5-bce2-46797d18e222",
   "metadata": {},
   "source": [
    "So, this is a 15 by 4504 matrix, where each row is one of our topics and each column is a word (term). The values that we see are **not** probabilities, they are the **parameters** fitted by the LDA model for the topic-term distribution. We can see that they are not probabilities, since at least some of them seem to have a value > 1. \n",
    "\n",
    "These values are so-called \"pseudo-counts\" that reflect how many times, probabilistically speaking, each word was assigned to each topic across the entire corpus, adjusted by the model's learning process. The values are proportional to the probability of a term given a topic, but they need to be normalized to sum to one across each row to represent actual probabilities.\n",
    "\n",
    "Now that we have such a **topic-term distribution**, we can find the top words associated with each topic."
   ]
  },
  {
   "cell_type": "code",
   "execution_count": 32,
   "id": "b87bc6dd-7180-426f-b289-ae47c3534a3c",
   "metadata": {},
   "outputs": [
    {
     "name": "stdout",
     "output_type": "stream",
     "text": [
      "Topic 0:\n",
      "moon home world years major built spacecraft head year ago way place champion skaters include\n",
      "Topic 1:\n",
      "new city dining home restaurants year house space said restaurant built program years make victorian\n",
      "Topic 2:\n",
      "eclipse chicken restaurants new time built monday family home square near place moon style hard\n",
      "Topic 3:\n",
      "new rent apartment make building bedroom halloumi home biscuits work century time minute best high\n",
      "Topic 4:\n",
      "eggs home just easy sweet people early outside needs park probably day better founded cooking\n",
      "Topic 5:\n",
      "home sellers realtors estate real chicken group pay association new national said commissions lawsuits brought\n",
      "Topic 6:\n",
      "home bread kenji buy south american ago restaurant drive day species dishes years questions art\n",
      "Topic 7:\n",
      "bedroom room properties house space week new com bath kitchen half dining floor basement living\n",
      "Topic 8:\n",
      "family home salmon flour near recipe make leeks new work died like just small lower\n",
      "Topic 9:\n",
      "new home national united bedroom work science just earth year states better quarter couple foundation\n",
      "Topic 10:\n",
      "like new spring cooking winter york clubs recipe day dinner cancer culture chicken taste raisins\n",
      "Topic 11:\n",
      "sheet pan new eggs meal dog chicken city just like recipes people bird skillet dinner\n",
      "Topic 12:\n",
      "new birds known sea low heavy area rocket nunhead restore delta brooklyn rare common researchers\n",
      "Topic 13:\n",
      "bond trees years mortgage year company lease new old food ago say rent northern mall\n",
      "Topic 14:\n",
      "new study family percent estate real home bacon don recent agents rice single suggests budget\n"
     ]
    }
   ],
   "source": [
    "def display_topics(model, features, no_top_words):\n",
    "    \"\"\"Helper function to show the top words of a model\"\"\"\n",
    "    for topic_idx, topic in enumerate(model.components_):\n",
    "        print(f\"Topic {topic_idx}:\")\n",
    "        print(\" \".join([features[i]\n",
    "                        for i in topic.argsort()[:-no_top_words-1:-1]])) # syntax for reversing a list [::-1]\n",
    "\n",
    "display_topics(lda, feature_names, 15)"
   ]
  },
  {
   "cell_type": "markdown",
   "id": "72d2afd9-7baf-4603-a19d-b5f72b7de0c4",
   "metadata": {},
   "source": [
    "**To note:** Looking at these words, it is hard to decide what topic each of them represents since words about food, realestate, and science are mixed together in each topic. Topic 11 seems relatively homogenous, it's clear that it is talking about food. \n",
    "\n",
    "Knowing how sparse our document-term matrix was (only 234 documents, but 4504 terms) it is to be expected that there isn't enough data to learn a better model that captures better topics (and the words associated with them)."
   ]
  },
  {
   "cell_type": "markdown",
   "id": "532a344c-b155-4fcf-b9e9-5c7c42e7ea3a",
   "metadata": {},
   "source": [
    "### The document-topic matrix and dominant topics\n",
    "\n",
    "In the prior step, by fitting the LDA model, we found the topics that are present in our corpus. Now, we will use these topics to generate the documents. For that, we will use the method `transform`. This method will transform our document-term matrix into a new matrix, the document-topic matrix. This is where the **dimensionality reduction** is happening. We go from the large document-term matrix to a narrow document-topic matrix."
   ]
  },
  {
   "cell_type": "code",
   "execution_count": 33,
   "id": "f67ac43e-6658-491e-8780-55bcf4cc5f57",
   "metadata": {},
   "outputs": [
    {
     "data": {
      "text/plain": [
       "array([[1.85185343e-03, 1.85185310e-03, 1.85185415e-03, ...,\n",
       "        1.85185194e-03, 1.85185449e-03, 1.85185232e-03],\n",
       "       [1.25786180e-03, 9.82389927e-01, 1.25786235e-03, ...,\n",
       "        1.25786176e-03, 1.25786520e-03, 1.25786206e-03],\n",
       "       [8.13008233e-04, 8.13008358e-04, 8.13008488e-04, ...,\n",
       "        8.13008322e-04, 8.13008332e-04, 8.13008816e-04],\n",
       "       ...,\n",
       "       [2.29885068e-03, 2.29885189e-03, 2.29885136e-03, ...,\n",
       "        9.67816078e-01, 2.29885078e-03, 2.29885116e-03],\n",
       "       [2.29885133e-03, 9.67816079e-01, 2.29885285e-03, ...,\n",
       "        2.29885289e-03, 2.29885103e-03, 2.29885086e-03],\n",
       "       [1.58730305e-03, 1.58730257e-03, 9.77777766e-01, ...,\n",
       "        1.58730338e-03, 1.58730263e-03, 1.58730230e-03]])"
      ]
     },
     "execution_count": 33,
     "metadata": {},
     "output_type": "execute_result"
    }
   ],
   "source": [
    "doc_topic_dist = lda.transform(dtm)\n",
    "doc_topic_dist "
   ]
  },
  {
   "cell_type": "markdown",
   "id": "ad5530a8-aee2-45c1-94ac-c8ab708f8f64",
   "metadata": {},
   "source": [
    "Verify the shape:"
   ]
  },
  {
   "cell_type": "code",
   "execution_count": 34,
   "id": "8b9ce858-523f-4005-8efc-63c2a3b1b4af",
   "metadata": {},
   "outputs": [
    {
     "data": {
      "text/plain": [
       "(234, 15)"
      ]
     },
     "execution_count": 34,
     "metadata": {},
     "output_type": "execute_result"
    }
   ],
   "source": [
    "doc_topic_dist.shape"
   ]
  },
  {
   "cell_type": "markdown",
   "id": "1d732cc5-9f68-426f-88b7-e2fb29532747",
   "metadata": {},
   "source": [
    "**Meaning of the matrix values:** The entries in this matrix represent the proportion of the document's content that is attributed to each topic. This means each row of the output matrix is a distribution over topics for the corresponding document and should sum to one. We can easily test that by getting the sum of a row:"
   ]
  },
  {
   "cell_type": "markdown",
   "id": "90d7240d-4f78-4d25-af41-91652de7c104",
   "metadata": {},
   "source": [
    "**Better representing the document-topic matrix**\n",
    "\n",
    "The document-topic matrix above is not very legible, we will create a dataframe that has a better representation. First, I'll modify the function `display_topics` to show a few terms for each topic:"
   ]
  },
  {
   "cell_type": "code",
   "execution_count": 35,
   "id": "de4a1f92-6803-4591-ae61-dabdf3bdb377",
   "metadata": {},
   "outputs": [],
   "source": [
    "def displayHeader(model, features, no_top_words):\n",
    "    \"\"\"Helper function to show the top words of a model\"\"\"\n",
    "    topicNames = []\n",
    "    for topic_idx, topic in enumerate(model.components_):\n",
    "        topicNames.append(f\"Topic {topic_idx}: \" + (\", \".join([features[i]\n",
    "                             for i in topic.argsort()[:-no_top_words-1:-1]])))\n",
    "    return topicNames"
   ]
  },
  {
   "cell_type": "code",
   "execution_count": 36,
   "id": "96371208-d821-4f08-8e13-3a148df7dc55",
   "metadata": {},
   "outputs": [
    {
     "data": {
      "text/html": [
       "<div>\n",
       "<style scoped>\n",
       "    .dataframe tbody tr th:only-of-type {\n",
       "        vertical-align: middle;\n",
       "    }\n",
       "\n",
       "    .dataframe tbody tr th {\n",
       "        vertical-align: top;\n",
       "    }\n",
       "\n",
       "    .dataframe thead th {\n",
       "        text-align: right;\n",
       "    }\n",
       "</style>\n",
       "<table border=\"1\" class=\"dataframe\">\n",
       "  <thead>\n",
       "    <tr style=\"text-align: right;\">\n",
       "      <th></th>\n",
       "      <th>Topic 0: moon, home, world, years, major</th>\n",
       "      <th>Topic 1: new, city, dining, home, restaurants</th>\n",
       "      <th>Topic 2: eclipse, chicken, restaurants, new, time</th>\n",
       "      <th>Topic 3: new, rent, apartment, make, building</th>\n",
       "      <th>Topic 4: eggs, home, just, easy, sweet</th>\n",
       "      <th>Topic 5: home, sellers, realtors, estate, real</th>\n",
       "      <th>Topic 6: home, bread, kenji, buy, south</th>\n",
       "      <th>Topic 7: bedroom, room, properties, house, space</th>\n",
       "      <th>Topic 8: family, home, salmon, flour, near</th>\n",
       "      <th>Topic 9: new, home, national, united, bedroom</th>\n",
       "      <th>Topic 10: like, new, spring, cooking, winter</th>\n",
       "      <th>Topic 11: sheet, pan, new, eggs, meal</th>\n",
       "      <th>Topic 12: new, birds, known, sea, low</th>\n",
       "      <th>Topic 13: bond, trees, years, mortgage, year</th>\n",
       "      <th>Topic 14: new, study, family, percent, estate</th>\n",
       "      <th>dominant_topic</th>\n",
       "    </tr>\n",
       "  </thead>\n",
       "  <tbody>\n",
       "    <tr>\n",
       "      <th>food_1</th>\n",
       "      <td>0.002</td>\n",
       "      <td>0.002</td>\n",
       "      <td>0.002</td>\n",
       "      <td>0.002</td>\n",
       "      <td>0.974</td>\n",
       "      <td>0.002</td>\n",
       "      <td>0.002</td>\n",
       "      <td>0.002</td>\n",
       "      <td>0.002</td>\n",
       "      <td>0.002</td>\n",
       "      <td>0.002</td>\n",
       "      <td>0.002</td>\n",
       "      <td>0.002</td>\n",
       "      <td>0.002</td>\n",
       "      <td>0.002</td>\n",
       "      <td>4</td>\n",
       "    </tr>\n",
       "    <tr>\n",
       "      <th>food_2</th>\n",
       "      <td>0.001</td>\n",
       "      <td>0.982</td>\n",
       "      <td>0.001</td>\n",
       "      <td>0.001</td>\n",
       "      <td>0.001</td>\n",
       "      <td>0.001</td>\n",
       "      <td>0.001</td>\n",
       "      <td>0.001</td>\n",
       "      <td>0.001</td>\n",
       "      <td>0.001</td>\n",
       "      <td>0.001</td>\n",
       "      <td>0.001</td>\n",
       "      <td>0.001</td>\n",
       "      <td>0.001</td>\n",
       "      <td>0.001</td>\n",
       "      <td>1</td>\n",
       "    </tr>\n",
       "    <tr>\n",
       "      <th>food_3</th>\n",
       "      <td>0.001</td>\n",
       "      <td>0.001</td>\n",
       "      <td>0.001</td>\n",
       "      <td>0.001</td>\n",
       "      <td>0.001</td>\n",
       "      <td>0.001</td>\n",
       "      <td>0.001</td>\n",
       "      <td>0.001</td>\n",
       "      <td>0.989</td>\n",
       "      <td>0.001</td>\n",
       "      <td>0.001</td>\n",
       "      <td>0.001</td>\n",
       "      <td>0.001</td>\n",
       "      <td>0.001</td>\n",
       "      <td>0.001</td>\n",
       "      <td>8</td>\n",
       "    </tr>\n",
       "    <tr>\n",
       "      <th>food_4</th>\n",
       "      <td>0.002</td>\n",
       "      <td>0.002</td>\n",
       "      <td>0.002</td>\n",
       "      <td>0.978</td>\n",
       "      <td>0.002</td>\n",
       "      <td>0.002</td>\n",
       "      <td>0.002</td>\n",
       "      <td>0.002</td>\n",
       "      <td>0.002</td>\n",
       "      <td>0.002</td>\n",
       "      <td>0.002</td>\n",
       "      <td>0.002</td>\n",
       "      <td>0.002</td>\n",
       "      <td>0.002</td>\n",
       "      <td>0.002</td>\n",
       "      <td>3</td>\n",
       "    </tr>\n",
       "    <tr>\n",
       "      <th>food_5</th>\n",
       "      <td>0.001</td>\n",
       "      <td>0.001</td>\n",
       "      <td>0.001</td>\n",
       "      <td>0.001</td>\n",
       "      <td>0.001</td>\n",
       "      <td>0.001</td>\n",
       "      <td>0.001</td>\n",
       "      <td>0.001</td>\n",
       "      <td>0.001</td>\n",
       "      <td>0.001</td>\n",
       "      <td>0.001</td>\n",
       "      <td>0.982</td>\n",
       "      <td>0.001</td>\n",
       "      <td>0.001</td>\n",
       "      <td>0.001</td>\n",
       "      <td>11</td>\n",
       "    </tr>\n",
       "  </tbody>\n",
       "</table>\n",
       "</div>"
      ],
      "text/plain": [
       "        Topic 0: moon, home, world, years, major  \\\n",
       "food_1                                     0.002   \n",
       "food_2                                     0.001   \n",
       "food_3                                     0.001   \n",
       "food_4                                     0.002   \n",
       "food_5                                     0.001   \n",
       "\n",
       "        Topic 1: new, city, dining, home, restaurants  \\\n",
       "food_1                                          0.002   \n",
       "food_2                                          0.982   \n",
       "food_3                                          0.001   \n",
       "food_4                                          0.002   \n",
       "food_5                                          0.001   \n",
       "\n",
       "        Topic 2: eclipse, chicken, restaurants, new, time  \\\n",
       "food_1                                              0.002   \n",
       "food_2                                              0.001   \n",
       "food_3                                              0.001   \n",
       "food_4                                              0.002   \n",
       "food_5                                              0.001   \n",
       "\n",
       "        Topic 3: new, rent, apartment, make, building  \\\n",
       "food_1                                          0.002   \n",
       "food_2                                          0.001   \n",
       "food_3                                          0.001   \n",
       "food_4                                          0.978   \n",
       "food_5                                          0.001   \n",
       "\n",
       "        Topic 4: eggs, home, just, easy, sweet  \\\n",
       "food_1                                   0.974   \n",
       "food_2                                   0.001   \n",
       "food_3                                   0.001   \n",
       "food_4                                   0.002   \n",
       "food_5                                   0.001   \n",
       "\n",
       "        Topic 5: home, sellers, realtors, estate, real  \\\n",
       "food_1                                           0.002   \n",
       "food_2                                           0.001   \n",
       "food_3                                           0.001   \n",
       "food_4                                           0.002   \n",
       "food_5                                           0.001   \n",
       "\n",
       "        Topic 6: home, bread, kenji, buy, south  \\\n",
       "food_1                                    0.002   \n",
       "food_2                                    0.001   \n",
       "food_3                                    0.001   \n",
       "food_4                                    0.002   \n",
       "food_5                                    0.001   \n",
       "\n",
       "        Topic 7: bedroom, room, properties, house, space  \\\n",
       "food_1                                             0.002   \n",
       "food_2                                             0.001   \n",
       "food_3                                             0.001   \n",
       "food_4                                             0.002   \n",
       "food_5                                             0.001   \n",
       "\n",
       "        Topic 8: family, home, salmon, flour, near  \\\n",
       "food_1                                       0.002   \n",
       "food_2                                       0.001   \n",
       "food_3                                       0.989   \n",
       "food_4                                       0.002   \n",
       "food_5                                       0.001   \n",
       "\n",
       "        Topic 9: new, home, national, united, bedroom  \\\n",
       "food_1                                          0.002   \n",
       "food_2                                          0.001   \n",
       "food_3                                          0.001   \n",
       "food_4                                          0.002   \n",
       "food_5                                          0.001   \n",
       "\n",
       "        Topic 10: like, new, spring, cooking, winter  \\\n",
       "food_1                                         0.002   \n",
       "food_2                                         0.001   \n",
       "food_3                                         0.001   \n",
       "food_4                                         0.002   \n",
       "food_5                                         0.001   \n",
       "\n",
       "        Topic 11: sheet, pan, new, eggs, meal  \\\n",
       "food_1                                  0.002   \n",
       "food_2                                  0.001   \n",
       "food_3                                  0.001   \n",
       "food_4                                  0.002   \n",
       "food_5                                  0.982   \n",
       "\n",
       "        Topic 12: new, birds, known, sea, low  \\\n",
       "food_1                                  0.002   \n",
       "food_2                                  0.001   \n",
       "food_3                                  0.001   \n",
       "food_4                                  0.002   \n",
       "food_5                                  0.001   \n",
       "\n",
       "        Topic 13: bond, trees, years, mortgage, year  \\\n",
       "food_1                                         0.002   \n",
       "food_2                                         0.001   \n",
       "food_3                                         0.001   \n",
       "food_4                                         0.002   \n",
       "food_5                                         0.001   \n",
       "\n",
       "        Topic 14: new, study, family, percent, estate  dominant_topic  \n",
       "food_1                                          0.002               4  \n",
       "food_2                                          0.001               1  \n",
       "food_3                                          0.001               8  \n",
       "food_4                                          0.002               3  \n",
       "food_5                                          0.001              11  "
      ]
     },
     "execution_count": 36,
     "metadata": {},
     "output_type": "execute_result"
    }
   ],
   "source": [
    "# column names\n",
    "topicnames = displayHeader(lda, feature_names, 5)\n",
    "\n",
    "# index names\n",
    "docnames = allDocs.index.tolist() # We will use the original names of the documents\n",
    "\n",
    "# Make the pandas dataframe\n",
    "df_document_topic = pd.DataFrame(np.round(doc_topic_dist, 3), \n",
    "                                 columns=topicnames, \n",
    "                                 index=docnames)\n",
    "\n",
    "# Get dominant topic for each document\n",
    "dominant_topic = np.argmax(df_document_topic.values, axis=1) # finds the maximum argument\n",
    "df_document_topic['dominant_topic'] = dominant_topic\n",
    "\n",
    "df_document_topic.head()"
   ]
  },
  {
   "cell_type": "markdown",
   "id": "03abe294-73e9-4649-a6b3-1a6613398753",
   "metadata": {},
   "source": [
    "Let's look at some documents between food and realestate:"
   ]
  },
  {
   "cell_type": "code",
   "execution_count": 37,
   "id": "8533f72c-1c5f-4693-ba3e-6339634bc801",
   "metadata": {},
   "outputs": [
    {
     "data": {
      "text/html": [
       "<div>\n",
       "<style scoped>\n",
       "    .dataframe tbody tr th:only-of-type {\n",
       "        vertical-align: middle;\n",
       "    }\n",
       "\n",
       "    .dataframe tbody tr th {\n",
       "        vertical-align: top;\n",
       "    }\n",
       "\n",
       "    .dataframe thead th {\n",
       "        text-align: right;\n",
       "    }\n",
       "</style>\n",
       "<table border=\"1\" class=\"dataframe\">\n",
       "  <thead>\n",
       "    <tr style=\"text-align: right;\">\n",
       "      <th></th>\n",
       "      <th>Topic 0: moon, home, world, years, major</th>\n",
       "      <th>Topic 1: new, city, dining, home, restaurants</th>\n",
       "      <th>Topic 2: eclipse, chicken, restaurants, new, time</th>\n",
       "      <th>Topic 3: new, rent, apartment, make, building</th>\n",
       "      <th>Topic 4: eggs, home, just, easy, sweet</th>\n",
       "      <th>Topic 5: home, sellers, realtors, estate, real</th>\n",
       "      <th>Topic 6: home, bread, kenji, buy, south</th>\n",
       "      <th>Topic 7: bedroom, room, properties, house, space</th>\n",
       "      <th>Topic 8: family, home, salmon, flour, near</th>\n",
       "      <th>Topic 9: new, home, national, united, bedroom</th>\n",
       "      <th>Topic 10: like, new, spring, cooking, winter</th>\n",
       "      <th>Topic 11: sheet, pan, new, eggs, meal</th>\n",
       "      <th>Topic 12: new, birds, known, sea, low</th>\n",
       "      <th>Topic 13: bond, trees, years, mortgage, year</th>\n",
       "      <th>Topic 14: new, study, family, percent, estate</th>\n",
       "      <th>dominant_topic</th>\n",
       "    </tr>\n",
       "  </thead>\n",
       "  <tbody>\n",
       "    <tr>\n",
       "      <th>food_77</th>\n",
       "      <td>0.002</td>\n",
       "      <td>0.002</td>\n",
       "      <td>0.002</td>\n",
       "      <td>0.002</td>\n",
       "      <td>0.002</td>\n",
       "      <td>0.002</td>\n",
       "      <td>0.002</td>\n",
       "      <td>0.002</td>\n",
       "      <td>0.973</td>\n",
       "      <td>0.002</td>\n",
       "      <td>0.002</td>\n",
       "      <td>0.002</td>\n",
       "      <td>0.002</td>\n",
       "      <td>0.002</td>\n",
       "      <td>0.002</td>\n",
       "      <td>8</td>\n",
       "    </tr>\n",
       "    <tr>\n",
       "      <th>food_78</th>\n",
       "      <td>0.006</td>\n",
       "      <td>0.006</td>\n",
       "      <td>0.006</td>\n",
       "      <td>0.006</td>\n",
       "      <td>0.915</td>\n",
       "      <td>0.006</td>\n",
       "      <td>0.006</td>\n",
       "      <td>0.006</td>\n",
       "      <td>0.006</td>\n",
       "      <td>0.006</td>\n",
       "      <td>0.006</td>\n",
       "      <td>0.006</td>\n",
       "      <td>0.006</td>\n",
       "      <td>0.006</td>\n",
       "      <td>0.006</td>\n",
       "      <td>4</td>\n",
       "    </tr>\n",
       "    <tr>\n",
       "      <th>food_79</th>\n",
       "      <td>0.001</td>\n",
       "      <td>0.001</td>\n",
       "      <td>0.001</td>\n",
       "      <td>0.001</td>\n",
       "      <td>0.984</td>\n",
       "      <td>0.001</td>\n",
       "      <td>0.001</td>\n",
       "      <td>0.001</td>\n",
       "      <td>0.001</td>\n",
       "      <td>0.001</td>\n",
       "      <td>0.001</td>\n",
       "      <td>0.001</td>\n",
       "      <td>0.001</td>\n",
       "      <td>0.001</td>\n",
       "      <td>0.001</td>\n",
       "      <td>4</td>\n",
       "    </tr>\n",
       "    <tr>\n",
       "      <th>food_80</th>\n",
       "      <td>0.002</td>\n",
       "      <td>0.002</td>\n",
       "      <td>0.002</td>\n",
       "      <td>0.002</td>\n",
       "      <td>0.002</td>\n",
       "      <td>0.002</td>\n",
       "      <td>0.002</td>\n",
       "      <td>0.002</td>\n",
       "      <td>0.002</td>\n",
       "      <td>0.002</td>\n",
       "      <td>0.965</td>\n",
       "      <td>0.002</td>\n",
       "      <td>0.002</td>\n",
       "      <td>0.002</td>\n",
       "      <td>0.002</td>\n",
       "      <td>10</td>\n",
       "    </tr>\n",
       "    <tr>\n",
       "      <th>food_81</th>\n",
       "      <td>0.001</td>\n",
       "      <td>0.001</td>\n",
       "      <td>0.001</td>\n",
       "      <td>0.001</td>\n",
       "      <td>0.001</td>\n",
       "      <td>0.001</td>\n",
       "      <td>0.001</td>\n",
       "      <td>0.001</td>\n",
       "      <td>0.001</td>\n",
       "      <td>0.983</td>\n",
       "      <td>0.001</td>\n",
       "      <td>0.001</td>\n",
       "      <td>0.001</td>\n",
       "      <td>0.001</td>\n",
       "      <td>0.001</td>\n",
       "      <td>9</td>\n",
       "    </tr>\n",
       "    <tr>\n",
       "      <th>realestate_1</th>\n",
       "      <td>0.002</td>\n",
       "      <td>0.002</td>\n",
       "      <td>0.002</td>\n",
       "      <td>0.972</td>\n",
       "      <td>0.002</td>\n",
       "      <td>0.002</td>\n",
       "      <td>0.002</td>\n",
       "      <td>0.002</td>\n",
       "      <td>0.002</td>\n",
       "      <td>0.002</td>\n",
       "      <td>0.002</td>\n",
       "      <td>0.002</td>\n",
       "      <td>0.002</td>\n",
       "      <td>0.002</td>\n",
       "      <td>0.002</td>\n",
       "      <td>3</td>\n",
       "    </tr>\n",
       "    <tr>\n",
       "      <th>realestate_2</th>\n",
       "      <td>0.005</td>\n",
       "      <td>0.005</td>\n",
       "      <td>0.005</td>\n",
       "      <td>0.005</td>\n",
       "      <td>0.005</td>\n",
       "      <td>0.005</td>\n",
       "      <td>0.005</td>\n",
       "      <td>0.005</td>\n",
       "      <td>0.928</td>\n",
       "      <td>0.005</td>\n",
       "      <td>0.005</td>\n",
       "      <td>0.005</td>\n",
       "      <td>0.005</td>\n",
       "      <td>0.005</td>\n",
       "      <td>0.005</td>\n",
       "      <td>8</td>\n",
       "    </tr>\n",
       "    <tr>\n",
       "      <th>realestate_3</th>\n",
       "      <td>0.963</td>\n",
       "      <td>0.003</td>\n",
       "      <td>0.003</td>\n",
       "      <td>0.003</td>\n",
       "      <td>0.003</td>\n",
       "      <td>0.003</td>\n",
       "      <td>0.003</td>\n",
       "      <td>0.003</td>\n",
       "      <td>0.003</td>\n",
       "      <td>0.003</td>\n",
       "      <td>0.003</td>\n",
       "      <td>0.003</td>\n",
       "      <td>0.003</td>\n",
       "      <td>0.003</td>\n",
       "      <td>0.003</td>\n",
       "      <td>0</td>\n",
       "    </tr>\n",
       "    <tr>\n",
       "      <th>realestate_4</th>\n",
       "      <td>0.963</td>\n",
       "      <td>0.003</td>\n",
       "      <td>0.003</td>\n",
       "      <td>0.003</td>\n",
       "      <td>0.003</td>\n",
       "      <td>0.003</td>\n",
       "      <td>0.003</td>\n",
       "      <td>0.003</td>\n",
       "      <td>0.003</td>\n",
       "      <td>0.003</td>\n",
       "      <td>0.003</td>\n",
       "      <td>0.003</td>\n",
       "      <td>0.003</td>\n",
       "      <td>0.003</td>\n",
       "      <td>0.003</td>\n",
       "      <td>0</td>\n",
       "    </tr>\n",
       "    <tr>\n",
       "      <th>realestate_5</th>\n",
       "      <td>0.001</td>\n",
       "      <td>0.001</td>\n",
       "      <td>0.001</td>\n",
       "      <td>0.001</td>\n",
       "      <td>0.001</td>\n",
       "      <td>0.001</td>\n",
       "      <td>0.001</td>\n",
       "      <td>0.001</td>\n",
       "      <td>0.001</td>\n",
       "      <td>0.001</td>\n",
       "      <td>0.001</td>\n",
       "      <td>0.001</td>\n",
       "      <td>0.001</td>\n",
       "      <td>0.839</td>\n",
       "      <td>0.145</td>\n",
       "      <td>13</td>\n",
       "    </tr>\n",
       "  </tbody>\n",
       "</table>\n",
       "</div>"
      ],
      "text/plain": [
       "              Topic 0: moon, home, world, years, major  \\\n",
       "food_77                                          0.002   \n",
       "food_78                                          0.006   \n",
       "food_79                                          0.001   \n",
       "food_80                                          0.002   \n",
       "food_81                                          0.001   \n",
       "realestate_1                                     0.002   \n",
       "realestate_2                                     0.005   \n",
       "realestate_3                                     0.963   \n",
       "realestate_4                                     0.963   \n",
       "realestate_5                                     0.001   \n",
       "\n",
       "              Topic 1: new, city, dining, home, restaurants  \\\n",
       "food_77                                               0.002   \n",
       "food_78                                               0.006   \n",
       "food_79                                               0.001   \n",
       "food_80                                               0.002   \n",
       "food_81                                               0.001   \n",
       "realestate_1                                          0.002   \n",
       "realestate_2                                          0.005   \n",
       "realestate_3                                          0.003   \n",
       "realestate_4                                          0.003   \n",
       "realestate_5                                          0.001   \n",
       "\n",
       "              Topic 2: eclipse, chicken, restaurants, new, time  \\\n",
       "food_77                                                   0.002   \n",
       "food_78                                                   0.006   \n",
       "food_79                                                   0.001   \n",
       "food_80                                                   0.002   \n",
       "food_81                                                   0.001   \n",
       "realestate_1                                              0.002   \n",
       "realestate_2                                              0.005   \n",
       "realestate_3                                              0.003   \n",
       "realestate_4                                              0.003   \n",
       "realestate_5                                              0.001   \n",
       "\n",
       "              Topic 3: new, rent, apartment, make, building  \\\n",
       "food_77                                               0.002   \n",
       "food_78                                               0.006   \n",
       "food_79                                               0.001   \n",
       "food_80                                               0.002   \n",
       "food_81                                               0.001   \n",
       "realestate_1                                          0.972   \n",
       "realestate_2                                          0.005   \n",
       "realestate_3                                          0.003   \n",
       "realestate_4                                          0.003   \n",
       "realestate_5                                          0.001   \n",
       "\n",
       "              Topic 4: eggs, home, just, easy, sweet  \\\n",
       "food_77                                        0.002   \n",
       "food_78                                        0.915   \n",
       "food_79                                        0.984   \n",
       "food_80                                        0.002   \n",
       "food_81                                        0.001   \n",
       "realestate_1                                   0.002   \n",
       "realestate_2                                   0.005   \n",
       "realestate_3                                   0.003   \n",
       "realestate_4                                   0.003   \n",
       "realestate_5                                   0.001   \n",
       "\n",
       "              Topic 5: home, sellers, realtors, estate, real  \\\n",
       "food_77                                                0.002   \n",
       "food_78                                                0.006   \n",
       "food_79                                                0.001   \n",
       "food_80                                                0.002   \n",
       "food_81                                                0.001   \n",
       "realestate_1                                           0.002   \n",
       "realestate_2                                           0.005   \n",
       "realestate_3                                           0.003   \n",
       "realestate_4                                           0.003   \n",
       "realestate_5                                           0.001   \n",
       "\n",
       "              Topic 6: home, bread, kenji, buy, south  \\\n",
       "food_77                                         0.002   \n",
       "food_78                                         0.006   \n",
       "food_79                                         0.001   \n",
       "food_80                                         0.002   \n",
       "food_81                                         0.001   \n",
       "realestate_1                                    0.002   \n",
       "realestate_2                                    0.005   \n",
       "realestate_3                                    0.003   \n",
       "realestate_4                                    0.003   \n",
       "realestate_5                                    0.001   \n",
       "\n",
       "              Topic 7: bedroom, room, properties, house, space  \\\n",
       "food_77                                                  0.002   \n",
       "food_78                                                  0.006   \n",
       "food_79                                                  0.001   \n",
       "food_80                                                  0.002   \n",
       "food_81                                                  0.001   \n",
       "realestate_1                                             0.002   \n",
       "realestate_2                                             0.005   \n",
       "realestate_3                                             0.003   \n",
       "realestate_4                                             0.003   \n",
       "realestate_5                                             0.001   \n",
       "\n",
       "              Topic 8: family, home, salmon, flour, near  \\\n",
       "food_77                                            0.973   \n",
       "food_78                                            0.006   \n",
       "food_79                                            0.001   \n",
       "food_80                                            0.002   \n",
       "food_81                                            0.001   \n",
       "realestate_1                                       0.002   \n",
       "realestate_2                                       0.928   \n",
       "realestate_3                                       0.003   \n",
       "realestate_4                                       0.003   \n",
       "realestate_5                                       0.001   \n",
       "\n",
       "              Topic 9: new, home, national, united, bedroom  \\\n",
       "food_77                                               0.002   \n",
       "food_78                                               0.006   \n",
       "food_79                                               0.001   \n",
       "food_80                                               0.002   \n",
       "food_81                                               0.983   \n",
       "realestate_1                                          0.002   \n",
       "realestate_2                                          0.005   \n",
       "realestate_3                                          0.003   \n",
       "realestate_4                                          0.003   \n",
       "realestate_5                                          0.001   \n",
       "\n",
       "              Topic 10: like, new, spring, cooking, winter  \\\n",
       "food_77                                              0.002   \n",
       "food_78                                              0.006   \n",
       "food_79                                              0.001   \n",
       "food_80                                              0.965   \n",
       "food_81                                              0.001   \n",
       "realestate_1                                         0.002   \n",
       "realestate_2                                         0.005   \n",
       "realestate_3                                         0.003   \n",
       "realestate_4                                         0.003   \n",
       "realestate_5                                         0.001   \n",
       "\n",
       "              Topic 11: sheet, pan, new, eggs, meal  \\\n",
       "food_77                                       0.002   \n",
       "food_78                                       0.006   \n",
       "food_79                                       0.001   \n",
       "food_80                                       0.002   \n",
       "food_81                                       0.001   \n",
       "realestate_1                                  0.002   \n",
       "realestate_2                                  0.005   \n",
       "realestate_3                                  0.003   \n",
       "realestate_4                                  0.003   \n",
       "realestate_5                                  0.001   \n",
       "\n",
       "              Topic 12: new, birds, known, sea, low  \\\n",
       "food_77                                       0.002   \n",
       "food_78                                       0.006   \n",
       "food_79                                       0.001   \n",
       "food_80                                       0.002   \n",
       "food_81                                       0.001   \n",
       "realestate_1                                  0.002   \n",
       "realestate_2                                  0.005   \n",
       "realestate_3                                  0.003   \n",
       "realestate_4                                  0.003   \n",
       "realestate_5                                  0.001   \n",
       "\n",
       "              Topic 13: bond, trees, years, mortgage, year  \\\n",
       "food_77                                              0.002   \n",
       "food_78                                              0.006   \n",
       "food_79                                              0.001   \n",
       "food_80                                              0.002   \n",
       "food_81                                              0.001   \n",
       "realestate_1                                         0.002   \n",
       "realestate_2                                         0.005   \n",
       "realestate_3                                         0.003   \n",
       "realestate_4                                         0.003   \n",
       "realestate_5                                         0.839   \n",
       "\n",
       "              Topic 14: new, study, family, percent, estate  dominant_topic  \n",
       "food_77                                               0.002               8  \n",
       "food_78                                               0.006               4  \n",
       "food_79                                               0.001               4  \n",
       "food_80                                               0.002              10  \n",
       "food_81                                               0.001               9  \n",
       "realestate_1                                          0.002               3  \n",
       "realestate_2                                          0.005               8  \n",
       "realestate_3                                          0.003               0  \n",
       "realestate_4                                          0.003               0  \n",
       "realestate_5                                          0.145              13  "
      ]
     },
     "execution_count": 37,
     "metadata": {},
     "output_type": "execute_result"
    }
   ],
   "source": [
    "df_document_topic[76:86]"
   ]
  },
  {
   "cell_type": "markdown",
   "id": "c5325654-87ca-413b-8575-2d0e017f39ea",
   "metadata": {},
   "source": [
    "One interesting thing here is that articles food_78 and food_79 seem to share the dominant topic, just like realestate_1 and realestate_2. Interestingly, realestate_5 has two topics with value > 0.1, both of which seem to be primarely about real estate."
   ]
  },
  {
   "cell_type": "markdown",
   "id": "d2294d8f-d75d-409f-94fc-8600890ef120",
   "metadata": {},
   "source": [
    "### Topic distribution across documents\n",
    "\n",
    "Now that we have the document-topic matrix, we can see which topics show up most frequently:"
   ]
  },
  {
   "cell_type": "code",
   "execution_count": 38,
   "id": "d50b6d83-982f-4214-a09d-719ce7076fd2",
   "metadata": {},
   "outputs": [
    {
     "data": {
      "text/html": [
       "<div>\n",
       "<style scoped>\n",
       "    .dataframe tbody tr th:only-of-type {\n",
       "        vertical-align: middle;\n",
       "    }\n",
       "\n",
       "    .dataframe tbody tr th {\n",
       "        vertical-align: top;\n",
       "    }\n",
       "\n",
       "    .dataframe thead th {\n",
       "        text-align: right;\n",
       "    }\n",
       "</style>\n",
       "<table border=\"1\" class=\"dataframe\">\n",
       "  <thead>\n",
       "    <tr style=\"text-align: right;\">\n",
       "      <th></th>\n",
       "      <th>Topic Num</th>\n",
       "      <th>Num Documents</th>\n",
       "    </tr>\n",
       "  </thead>\n",
       "  <tbody>\n",
       "    <tr>\n",
       "      <th>0</th>\n",
       "      <td>4</td>\n",
       "      <td>23</td>\n",
       "    </tr>\n",
       "    <tr>\n",
       "      <th>1</th>\n",
       "      <td>3</td>\n",
       "      <td>23</td>\n",
       "    </tr>\n",
       "    <tr>\n",
       "      <th>2</th>\n",
       "      <td>5</td>\n",
       "      <td>23</td>\n",
       "    </tr>\n",
       "    <tr>\n",
       "      <th>3</th>\n",
       "      <td>7</td>\n",
       "      <td>22</td>\n",
       "    </tr>\n",
       "    <tr>\n",
       "      <th>4</th>\n",
       "      <td>8</td>\n",
       "      <td>19</td>\n",
       "    </tr>\n",
       "    <tr>\n",
       "      <th>5</th>\n",
       "      <td>10</td>\n",
       "      <td>15</td>\n",
       "    </tr>\n",
       "    <tr>\n",
       "      <th>6</th>\n",
       "      <td>13</td>\n",
       "      <td>15</td>\n",
       "    </tr>\n",
       "    <tr>\n",
       "      <th>7</th>\n",
       "      <td>1</td>\n",
       "      <td>13</td>\n",
       "    </tr>\n",
       "    <tr>\n",
       "      <th>8</th>\n",
       "      <td>14</td>\n",
       "      <td>13</td>\n",
       "    </tr>\n",
       "    <tr>\n",
       "      <th>9</th>\n",
       "      <td>6</td>\n",
       "      <td>13</td>\n",
       "    </tr>\n",
       "    <tr>\n",
       "      <th>10</th>\n",
       "      <td>9</td>\n",
       "      <td>13</td>\n",
       "    </tr>\n",
       "    <tr>\n",
       "      <th>11</th>\n",
       "      <td>12</td>\n",
       "      <td>12</td>\n",
       "    </tr>\n",
       "    <tr>\n",
       "      <th>12</th>\n",
       "      <td>0</td>\n",
       "      <td>12</td>\n",
       "    </tr>\n",
       "    <tr>\n",
       "      <th>13</th>\n",
       "      <td>2</td>\n",
       "      <td>11</td>\n",
       "    </tr>\n",
       "    <tr>\n",
       "      <th>14</th>\n",
       "      <td>11</td>\n",
       "      <td>7</td>\n",
       "    </tr>\n",
       "  </tbody>\n",
       "</table>\n",
       "</div>"
      ],
      "text/plain": [
       "    Topic Num  Num Documents\n",
       "0           4             23\n",
       "1           3             23\n",
       "2           5             23\n",
       "3           7             22\n",
       "4           8             19\n",
       "5          10             15\n",
       "6          13             15\n",
       "7           1             13\n",
       "8          14             13\n",
       "9           6             13\n",
       "10          9             13\n",
       "11         12             12\n",
       "12          0             12\n",
       "13          2             11\n",
       "14         11              7"
      ]
     },
     "execution_count": 38,
     "metadata": {},
     "output_type": "execute_result"
    }
   ],
   "source": [
    "df_topic_distribution = df_document_topic['dominant_topic'].value_counts().reset_index(name=\"Num Documents\")\n",
    "df_topic_distribution.columns = ['Topic Num', 'Num Documents']\n",
    "df_topic_distribution"
   ]
  },
  {
   "cell_type": "markdown",
   "id": "3d3071b0-4bf2-4dc8-b805-ad060d93546b",
   "metadata": {},
   "source": [
    "### Challenge yourself: Add two more columns\n",
    "\n",
    "Using your pandas skills add two new columns to this dataframe:\n",
    "\n",
    "1. a column with the top 10 words of the corresponding topic. (see Topic Num for the topic number)\n",
    "2. a column that lists the document names associated with the topic (document names are things like food_1, food_2, etc.)\n",
    "\n",
    "By adding these two columns it will be a bit easier to understand what is going one with the model and whether it is capturing something about the corpus of documents. "
   ]
  },
  {
   "cell_type": "code",
   "execution_count": null,
   "id": "b8067b54-8ddd-4715-a8a2-75d07369491d",
   "metadata": {},
   "outputs": [],
   "source": []
  },
  {
   "cell_type": "markdown",
   "id": "5ee5a5e5-80c0-488c-9a0c-b2286009393e",
   "metadata": {},
   "source": [
    "### Interpretation Task\n",
    "\n",
    "Pick a topic that doesn't have many documents assigned to it and then read all the articles (see dataframe at the start of the notebook) associated with this topic. Do you see any reason for why they were given the same dominant topic? Can you summarize in a single phrase what the meaning of that topic is? (Also make use of the top 15 words for that topic.)"
   ]
  },
  {
   "cell_type": "code",
   "execution_count": null,
   "id": "1e04a71b-ced1-435d-b4ba-8dc003c8675f",
   "metadata": {},
   "outputs": [],
   "source": []
  },
  {
   "cell_type": "markdown",
   "id": "10a872c0-923b-4c7f-9afb-cd05455cc901",
   "metadata": {},
   "source": [
    "<a id=\"sec4\"></a>\n",
    "## 4. Grid Search: Find number of topics\n",
    "\n",
    "In the example so far, we arbitrarely chose the number of topics to be 15. However, that is not the right way to go about it. We whould use methods for selecting the optimal number of topics. This can be done through a mechanism known as GridSearch with cross-validation that builds multiple models and then compares them to see which one performs the best."
   ]
  },
  {
   "cell_type": "code",
   "execution_count": null,
   "id": "38e66c50-a2da-4a3d-a6ca-90ee1ab576b5",
   "metadata": {},
   "outputs": [],
   "source": [
    "from sklearn.model_selection import GridSearchCV\n",
    "\n",
    "# We are going to test multiple values for the number of topics\n",
    "search_params = {'n_components': [5, 10, 15, 20, 25, 30, 35]}\n",
    "\n",
    "# Initialize the LDA model\n",
    "lda = LatentDirichletAllocation()\n",
    "\n",
    "# Initialize a Grid Search with cross-validation instance\n",
    "grid = GridSearchCV(lda, param_grid=search_params)\n",
    "\n",
    "# Do the Grid Search\n",
    "grid.fit(dtm)"
   ]
  },
  {
   "cell_type": "markdown",
   "id": "bbf126a6-327f-4a89-9b37-c2cf483c987c",
   "metadata": {},
   "source": [
    "Let us look at the results:"
   ]
  },
  {
   "cell_type": "code",
   "execution_count": null,
   "id": "b0a55148-df6e-42ba-b11d-2cd2179f2226",
   "metadata": {},
   "outputs": [],
   "source": [
    "grid.cv_results_"
   ]
  },
  {
   "cell_type": "markdown",
   "id": "3412e2f6-56d8-4b82-a667-5b934a0ea374",
   "metadata": {},
   "source": [
    "Since this representation is a bit overwhelming, let's access a few features of the grid instance:"
   ]
  },
  {
   "cell_type": "code",
   "execution_count": null,
   "id": "d1a27fe7-3704-43a4-beea-69d5898d00ef",
   "metadata": {},
   "outputs": [],
   "source": [
    "# Best Model\n",
    "best_lda_model = grid.best_estimator_\n",
    "\n",
    "# Model Parameters\n",
    "print(\"Best Model's Params: \", grid.best_params_)\n",
    "\n",
    "# Log Likelihood Score\n",
    "print(\"Best Log Likelihood Score: \", grid.best_score_)\n",
    "\n",
    "# Perplexity\n",
    "print(\"Model Perplexity: \", best_lda_model.perplexity(dtm))"
   ]
  },
  {
   "cell_type": "markdown",
   "id": "ff2ede5a-61a2-40fc-95c0-1272f3e39c76",
   "metadata": {},
   "source": [
    "The results are showing that the best LDA model should have 5 topics, the smallest number we tried. This raises the question of whether we should try other small numbers, which I'm doing below:"
   ]
  },
  {
   "cell_type": "code",
   "execution_count": null,
   "id": "6e6ff1e3-c05c-48eb-85c8-2c55979d00fd",
   "metadata": {},
   "outputs": [],
   "source": [
    "search_params = {'n_components': [1,2,3,4,5,6]}\n",
    "\n",
    "lda = LatentDirichletAllocation()\n",
    "grid = GridSearchCV(lda, param_grid=search_params)\n",
    "\n",
    "grid.fit(dtm)\n",
    "\n",
    "# Best Model\n",
    "best_lda_model = grid.best_estimator_\n",
    "\n",
    "# Model Parameters\n",
    "print(\"Best Model's Params: \", grid.best_params_)\n",
    "\n",
    "# Log Likelihood Score\n",
    "print(\"Best Log Likelihood Score: \", grid.best_score_)\n",
    "\n",
    "# Perplexity\n",
    "print(\"Model Perplexity: \", best_lda_model.perplexity(dtm))"
   ]
  },
  {
   "cell_type": "markdown",
   "id": "43140116-4981-40ae-a3f5-b3a3968fc7a1",
   "metadata": {},
   "source": [
    "This result shows that actually the best number of topics for this corpus is 1."
   ]
  },
  {
   "cell_type": "markdown",
   "id": "d2ad0057-13ff-4bd1-8697-f4d94c24be0e",
   "metadata": {},
   "source": [
    "**Meaning of Log Likelihood**. \n",
    "\n",
    "Log Likelihood is the logarithm of the probability of observing the given data under the model with specific parameters. Essentially, it measures how well the model explains the observed data. (It is a conditional probability.)\n",
    "\n",
    "**Meaning of perplexity**\n",
    "\n",
    "Perplexity is a common metric used to evaluate the quality of probabilistic models. It reflects how well the model describes or predicts the documents in the dataset.\n",
    "\n",
    "A lower perplexity score suggests that the model is more certain about its predictions (i.e., the probability distributions it assigns to unseen documents are more accurate). This means that the topic distributions learned by the model are a good fit for the observed data."
   ]
  },
  {
   "cell_type": "markdown",
   "id": "442d0ca2-e901-498b-9555-36906db69ffe",
   "metadata": {},
   "source": [
    "**Words for best modesl with one topic**\n",
    "\n",
    "Let's see what are the top words for the best model with one topic:"
   ]
  },
  {
   "cell_type": "code",
   "execution_count": null,
   "id": "f3b987c2-8a89-4576-b876-ef434a14c74b",
   "metadata": {},
   "outputs": [],
   "source": [
    "display_topics(best_lda_model, feature_names, 40)"
   ]
  },
  {
   "cell_type": "markdown",
   "id": "20193f66-1255-49c4-acda-146fc9407c4e",
   "metadata": {},
   "source": [
    "As we can see it is a mix of food and realestae and New York. If we had documents with more distinct nature and more of them we might have seen something else. \n",
    "\n",
    "However, the point of this tutorial was to show the mechanics of building LDA models. \n",
    "\n",
    "Now it's time to take what you saw here and apply it to your projects.\n",
    "\n",
    "Have fun exploring!"
   ]
  },
  {
   "cell_type": "code",
   "execution_count": null,
   "id": "e7a94654-fe6b-43d6-b1a2-873e589e9e81",
   "metadata": {},
   "outputs": [],
   "source": []
  }
 ],
 "metadata": {
  "kernelspec": {
   "display_name": "Python 3 (ipykernel)",
   "language": "python",
   "name": "python3"
  },
  "language_info": {
   "codemirror_mode": {
    "name": "ipython",
    "version": 3
   },
   "file_extension": ".py",
   "mimetype": "text/x-python",
   "name": "python",
   "nbconvert_exporter": "python",
   "pygments_lexer": "ipython3",
   "version": "3.11.5"
  }
 },
 "nbformat": 4,
 "nbformat_minor": 5
}
